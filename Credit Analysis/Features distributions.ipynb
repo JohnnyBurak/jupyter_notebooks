{
 "cells": [
  {
   "cell_type": "code",
   "execution_count": null,
   "metadata": {
    "collapsed": true
   },
   "outputs": [],
   "source": [
    "import pandas as pd\n",
    "import numpy as np\n",
    "\n",
    "import warnings\n",
    "warnings.filterwarnings(\"ignore\")\n",
    "\n",
    "import seaborn as sns\n",
    "\n",
    "import matplotlib\n",
    "import matplotlib.pyplot as plt\n",
    "import matplotlib.ticker\n",
    "%matplotlib inline\n",
    "\n",
    "sns.set_context(\n",
    "    \"notebook\", \n",
    "    font_scale = 1.5,       \n",
    "    rc = { \n",
    "        \"figure.figsize\" : (12, 9), \n",
    "        \"axes.titlesize\" : 18 \n",
    "    }\n",
    ")\n",
    "\n",
    "from sklearn.model_selection import train_test_split\n",
    "from sklearn import preprocessing\n",
    "from sklearn.cluster import KMeans\n",
    "from sklearn.preprocessing import StandardScaler"
   ]
  },
  {
   "cell_type": "code",
   "execution_count": null,
   "metadata": {
    "collapsed": true
   },
   "outputs": [],
   "source": [
    "df = pd.read_csv('1.csv', sep = ';',encoding = 'cp1251', decimal=\",\")\n",
    "df=df.sample(frac=1, random_state=99)"
   ]
  },
  {
   "cell_type": "code",
   "execution_count": null,
   "metadata": {
    "collapsed": true
   },
   "outputs": [],
   "source": [
    "df.head()"
   ]
  },
  {
   "cell_type": "code",
   "execution_count": null,
   "metadata": {
    "collapsed": true
   },
   "outputs": [],
   "source": [
    "df['TARGET'].value_counts()"
   ]
  },
  {
   "cell_type": "code",
   "execution_count": null,
   "metadata": {
    "collapsed": true
   },
   "outputs": [],
   "source": [
    "df.shape"
   ]
  },
  {
   "cell_type": "code",
   "execution_count": null,
   "metadata": {
    "collapsed": true
   },
   "outputs": [],
   "source": [
    "categorical_columns = [c for c in df.columns if df[c].dtype.name == 'object']\n",
    "numerical_columns   = [c for c in df.columns if df[c].dtype.name != 'object']\n",
    "print (categorical_columns)\n",
    "print (numerical_columns)"
   ]
  },
  {
   "cell_type": "code",
   "execution_count": null,
   "metadata": {
    "collapsed": true
   },
   "outputs": [],
   "source": [
    "for c in df.columns.values.tolist():\n",
    "    df[c] = df[c].fillna(0)"
   ]
  },
  {
   "cell_type": "code",
   "execution_count": null,
   "metadata": {
    "collapsed": true
   },
   "outputs": [],
   "source": [
    "np.where(np.isnan(df['1']))"
   ]
  },
  {
   "cell_type": "code",
   "execution_count": null,
   "metadata": {
    "collapsed": true
   },
   "outputs": [],
   "source": [
    "df.describe()"
   ]
  },
  {
   "cell_type": "code",
   "execution_count": null,
   "metadata": {
    "collapsed": true
   },
   "outputs": [],
   "source": [
    "cols=['1', '2']\n",
    "#df=df.reset_index(drop=True)\n",
    "df=df[cols]#.astype('int')\n",
    "#df = df.drop(['FOLDER_ID'],1)"
   ]
  },
  {
   "cell_type": "code",
   "execution_count": null,
   "metadata": {
    "collapsed": true
   },
   "outputs": [],
   "source": [
    "df.head(20)"
   ]
  },
  {
   "cell_type": "code",
   "execution_count": null,
   "metadata": {
    "collapsed": true
   },
   "outputs": [],
   "source": [
    "%time\n",
    "fig, axes = plt.subplots(20, 1, figsize=(20, 50))\n",
    "neg = df[df.TARGET == 0]\n",
    "pos = df[df.TARGET == 1]\n",
    "\n",
    "ax = axes.ravel()\n",
    "for i in range(20):\n",
    "    _, bins = np.histogram(df.values[:, i], bins=100) \n",
    "    ax[i].hist(neg.values[:, i], bins=bins, alpha=.5) \n",
    "    ax[i].hist(pos.values[:, i], bins=bins, alpha=.5) \n",
    "    ax[i].set_title(df.columns[i])\n",
    "    ax[i].set_yticks(())\n",
    "ax[0].set_xlabel(\"Feature magnitude\")\n",
    "ax[0].set_ylabel(\"Frequency\")\n",
    "ax[0].legend([\"neg\", \"pos\"], loc=\"best\")\n",
    "fig.tight_layout()\n",
    "plt.savefig('distribs_1.png', fps=400)"
   ]
  },
  {
   "cell_type": "code",
   "execution_count": null,
   "metadata": {
    "collapsed": true
   },
   "outputs": [],
   "source": [
    "%time\n",
    "fig, axes = plt.subplots(20, 1, figsize=(20, 50))\n",
    "neg = df[df.TARGET == 0]\n",
    "pos = df[df.TARGET == 1]\n",
    "\n",
    "ax = axes.ravel()\n",
    "for i in range(20):\n",
    "    _, bins = np.histogram(df.values[:, 20+i], bins=100) \n",
    "    ax[i].hist(neg.values[:, 20+i], bins=bins, alpha=.5) \n",
    "    ax[i].hist(pos.values[:, 20+i], bins=bins, alpha=.5) \n",
    "    ax[i].set_title(df.columns[20+i])\n",
    "    ax[i].set_yticks(())\n",
    "ax[0].set_xlabel(\"Feature magnitude\")\n",
    "ax[0].set_ylabel(\"Frequency\")\n",
    "ax[0].legend([\"neg\", \"pos\"], loc=\"best\")\n",
    "fig.tight_layout()\n",
    "plt.savefig('distribs_2.png', fps=400)"
   ]
  },
  {
   "cell_type": "code",
   "execution_count": null,
   "metadata": {
    "collapsed": true
   },
   "outputs": [],
   "source": [
    "%time\n",
    "fig, axes = plt.subplots(20, 1, figsize=(20, 50))\n",
    "neg = df[df.TARGET == 0]\n",
    "pos = df[df.TARGET == 1]\n",
    "\n",
    "ax = axes.ravel()\n",
    "for i in range(20):\n",
    "    _, bins = np.histogram(df.values[:, 40+i], bins=100) \n",
    "    ax[i].hist(neg.values[:, 40+i], bins=bins, alpha=.5) \n",
    "    ax[i].hist(pos.values[:, 40+i], bins=bins, alpha=.5) \n",
    "    ax[i].set_title(df.columns[40+i])\n",
    "    ax[i].set_yticks(())\n",
    "ax[0].set_xlabel(\"Feature magnitude\")\n",
    "ax[0].set_ylabel(\"Frequency\")\n",
    "ax[0].legend([\"neg\", \"pos\"], loc=\"best\")\n",
    "fig.tight_layout()\n",
    "plt.savefig('distribs_3.png', fps=400)"
   ]
  },
  {
   "cell_type": "code",
   "execution_count": null,
   "metadata": {
    "collapsed": true
   },
   "outputs": [],
   "source": [
    "%time\n",
    "fig, axes = plt.subplots(14, 1, figsize=(20, 50))\n",
    "neg = df[df.TARGET == 0]\n",
    "pos = df[df.TARGET == 1]\n",
    "\n",
    "ax = axes.ravel()\n",
    "for i in range(14):\n",
    "    _, bins = np.histogram(df.values[:, 60+i], bins=100) \n",
    "    ax[i].hist(neg.values[:, 60+i], bins=bins, alpha=.5) \n",
    "    ax[i].hist(pos.values[:, 60+i], bins=bins, alpha=.5) \n",
    "    ax[i].set_title(df.columns[60+i])\n",
    "    ax[i].set_yticks(())\n",
    "ax[0].set_xlabel(\"Feature magnitude\")\n",
    "ax[0].set_ylabel(\"Frequency\")\n",
    "ax[0].legend([\"neg\", \"pos\"], loc=\"best\")\n",
    "fig.tight_layout()\n",
    "plt.savefig('distribs_4.png', fps=400)"
   ]
  },
  {
   "cell_type": "code",
   "execution_count": null,
   "metadata": {
    "collapsed": true
   },
   "outputs": [],
   "source": []
  }
 ],
 "metadata": {
  "anaconda-cloud": {},
  "kernelspec": {
   "display_name": "Python 3",
   "language": "python",
   "name": "python3"
  },
  "language_info": {
   "codemirror_mode": {
    "name": "ipython",
    "version": 3
   },
   "file_extension": ".py",
   "mimetype": "text/x-python",
   "name": "python",
   "nbconvert_exporter": "python",
   "pygments_lexer": "ipython3",
   "version": "3.6.2"
  }
 },
 "nbformat": 4,
 "nbformat_minor": 2
}
