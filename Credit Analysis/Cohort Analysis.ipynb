{
 "cells": [
  {
   "cell_type": "markdown",
   "metadata": {},
   "source": [
    "# Когортный анализ"
   ]
  },
  {
   "cell_type": "markdown",
   "metadata": {},
   "source": [
    "![Когортный анализ](cohort.jpg \"Когортный анализ\")"
   ]
  },
  {
   "cell_type": "markdown",
   "metadata": {},
   "source": [
    "## Что такое когортный анализ"
   ]
  },
  {
   "cell_type": "markdown",
   "metadata": {},
   "source": [
    "**Когортный анализ** заключается в исследовании характеристик когорт/винтажей/поколений, объединенных по общим временным признакам. \n",
    "\n",
    "**Когорта/винтаж/поколение** — это группа, сформированная особым образом по временному признаку: например, месяцу регистрации, месяцу первой транзакции или первого посещения сайта.\n",
    "\n",
    "Когорты очень похожи на сегменты с тем отличием, что когорта объединяет группы определенного промежутка времени, в то время как сегмент может быть основан на любых других характеристиках. Когорты позволяют анализировать тренды внутри метрики и отличать продуктовые метрики от метрик роста.\n",
    "\n",
    "При построении когортного анализа важно учитывать взаимосвязь между событием или взаимодействием, которое вы отслеживаете, и его связь с вашей бизнес-моделью."
   ]
  },
  {
   "cell_type": "markdown",
   "metadata": {},
   "source": [
    "## Почему это ценно?"
   ]
  },
  {
   "cell_type": "markdown",
   "metadata": {},
   "source": [
    "Когортный анализ может быть полезен, когда речь заходит о понимании здоровья вашего бизнеса и «липкости» - лояльности ваших клиентов. «Липкость» имеет решающее значение, так как гораздо дешевле и проще удерживать клиента, чем приобретать новый. \n",
    "\n",
    "Кроме того, ваш продукт развивается с течением времени. Новые функции добавляются и удаляются, измененяется дизайн и т. д. Наблюдение отдельных групп с течением времени является отправной точкой для понимания того, как эти изменения влияют на поведение пользователя/группы.\n",
    "\n",
    "Это также хороший способ визуализировать удержание / отток пользователей, а также сформулировать базовое понимание их жизненного цикла."
   ]
  },
  {
   "cell_type": "markdown",
   "metadata": {},
   "source": [
    "## Применение"
   ]
  },
  {
   "cell_type": "markdown",
   "metadata": {},
   "source": [
    "1. Анализ просрочки/ оценка периода созревания портфеля\n",
    "2. Прогноз окупаемости рекламы\n",
    "3. Измерение влияния ваших действий на продажи\n",
    "4. Измерение здоровья бизнеса"
   ]
  },
  {
   "cell_type": "markdown",
   "metadata": {},
   "source": [
    "## Анализ просрочки/ оценка периода созревания портфеля"
   ]
  },
  {
   "cell_type": "markdown",
   "metadata": {},
   "source": [
    "В качестве примера на игрушечных данных, которые для демонстрации были дополнены записями о просрочке кредита, попробуем оценить период созревания (выхода на просрочку) портфеля по кредитам."
   ]
  },
  {
   "cell_type": "markdown",
   "metadata": {},
   "source": [
    "## Подгрузка пакетов и настройка notebook"
   ]
  },
  {
   "cell_type": "code",
   "execution_count": 1,
   "metadata": {
    "collapsed": true
   },
   "outputs": [],
   "source": [
    "import pandas as pd\n",
    "import numpy as np\n",
    "\n",
    "import warnings\n",
    "warnings.filterwarnings(\"ignore\")\n",
    "\n",
    "import seaborn as sns\n",
    "\n",
    "import matplotlib\n",
    "import matplotlib.pyplot as plt\n",
    "import matplotlib.ticker\n",
    "import matplotlib as mpl\n",
    "\n",
    "pd.set_option('max_columns', 50)\n",
    "mpl.rcParams['lines.linewidth'] = 2\n",
    "%matplotlib inline\n",
    "\n",
    "sns.set_context(\n",
    "    \"notebook\", \n",
    "    font_scale = 1.5,       \n",
    "    rc = { \n",
    "        \"figure.figsize\" : (30, 30), \n",
    "        \"axes.titlesize\" : 18 \n",
    "    }\n",
    ")"
   ]
  },
  {
   "cell_type": "markdown",
   "metadata": {},
   "source": [
    "## Загрузка и подготовка данных"
   ]
  },
  {
   "cell_type": "code",
   "execution_count": 2,
   "metadata": {
    "collapsed": true
   },
   "outputs": [],
   "source": [
    "data = pd.read_csv('auto.csv', delimiter=\";\",decimal=\".\", encoding=\"windows-1251\")"
   ]
  },
  {
   "cell_type": "code",
   "execution_count": 3,
   "metadata": {},
   "outputs": [
    {
     "data": {
      "text/html": [
       "<div>\n",
       "<style>\n",
       "    .dataframe thead tr:only-child th {\n",
       "        text-align: right;\n",
       "    }\n",
       "\n",
       "    .dataframe thead th {\n",
       "        text-align: left;\n",
       "    }\n",
       "\n",
       "    .dataframe tbody tr th {\n",
       "        vertical-align: top;\n",
       "    }\n",
       "</style>\n",
       "<table border=\"1\" class=\"dataframe\">\n",
       "  <thead>\n",
       "    <tr style=\"text-align: right;\">\n",
       "      <th></th>\n",
       "      <th>CreditDate</th>\n",
       "      <th>IIN</th>\n",
       "      <th>creditNumber</th>\n",
       "      <th>target</th>\n",
       "    </tr>\n",
       "  </thead>\n",
       "  <tbody>\n",
       "    <tr>\n",
       "      <th>0</th>\n",
       "      <td>01.10.2016 9:40</td>\n",
       "      <td>000000-552800</td>\n",
       "      <td>51294</td>\n",
       "      <td>0</td>\n",
       "    </tr>\n",
       "    <tr>\n",
       "      <th>1</th>\n",
       "      <td>01.10.2016 9:46</td>\n",
       "      <td>000000-285780</td>\n",
       "      <td>51295</td>\n",
       "      <td>0</td>\n",
       "    </tr>\n",
       "    <tr>\n",
       "      <th>2</th>\n",
       "      <td>01.10.2016 9:56</td>\n",
       "      <td>000000-548720</td>\n",
       "      <td>51296</td>\n",
       "      <td>0</td>\n",
       "    </tr>\n",
       "    <tr>\n",
       "      <th>3</th>\n",
       "      <td>01.10.2016 10:22</td>\n",
       "      <td>000000-144841</td>\n",
       "      <td>51297</td>\n",
       "      <td>0</td>\n",
       "    </tr>\n",
       "    <tr>\n",
       "      <th>4</th>\n",
       "      <td>01.10.2016 10:17</td>\n",
       "      <td>000000-552800</td>\n",
       "      <td>51298</td>\n",
       "      <td>0</td>\n",
       "    </tr>\n",
       "  </tbody>\n",
       "</table>\n",
       "</div>"
      ],
      "text/plain": [
       "         CreditDate            IIN  creditNumber  target\n",
       "0   01.10.2016 9:40  000000-552800         51294       0\n",
       "1   01.10.2016 9:46  000000-285780         51295       0\n",
       "2   01.10.2016 9:56  000000-548720         51296       0\n",
       "3  01.10.2016 10:22  000000-144841         51297       0\n",
       "4  01.10.2016 10:17  000000-552800         51298       0"
      ]
     },
     "execution_count": 3,
     "metadata": {},
     "output_type": "execute_result"
    }
   ],
   "source": [
    "data.head()"
   ]
  },
  {
   "cell_type": "markdown",
   "metadata": {},
   "source": [
    "### Описание данных"
   ]
  },
  {
   "cell_type": "markdown",
   "metadata": {},
   "source": [
    "1. creditNumber - ID заявки\n",
    "2. IIN - ИИН клиента\n",
    "3. CreditDate - Дата выдачи\n",
    "4. target - признак - 1- просрочка, 0 - нет просрочки"
   ]
  },
  {
   "cell_type": "markdown",
   "metadata": {},
   "source": [
    "### Создадим столбец периода на основе CreditDate"
   ]
  },
  {
   "cell_type": "markdown",
   "metadata": {},
   "source": [
    "Поскольку мы делаем ежемесячные когорты, мы будем смотреть на общее ежемесячное поведение наших клиентов. Поэтому нам не нужны гранулированные данные CreditDate (прямо сейчас)."
   ]
  },
  {
   "cell_type": "code",
   "execution_count": 4,
   "metadata": {
    "collapsed": true
   },
   "outputs": [],
   "source": [
    "data['CreditDate'] = pd.to_datetime(data['CreditDate'],dayfirst=True)"
   ]
  },
  {
   "cell_type": "code",
   "execution_count": 6,
   "metadata": {},
   "outputs": [],
   "source": [
    "data['CreditPeriod'] = data.CreditDate.apply(lambda x: x.strftime('%Y-%m'))"
   ]
  },
  {
   "cell_type": "code",
   "execution_count": 7,
   "metadata": {},
   "outputs": [
    {
     "data": {
      "text/plain": [
       "array(['2016-10', '2017-05', '2017-06', '2017-02', '2017-01', '2016-12',\n",
       "       '2016-11', '2017-03', '2017-08', '2017-09', '2017-04', '2017-10',\n",
       "       '2017-07'], dtype=object)"
      ]
     },
     "execution_count": 7,
     "metadata": {},
     "output_type": "execute_result"
    }
   ],
   "source": [
    "data.CreditPeriod.unique()"
   ]
  },
  {
   "cell_type": "markdown",
   "metadata": {},
   "source": [
    "### Определите группу когорт (на основе даты их первого кредита)"
   ]
  },
  {
   "cell_type": "markdown",
   "metadata": {},
   "source": [
    "Создадим новый столбец CohortGroup, который является годом и месяцем, когда произошла первая выдача кредита клиента."
   ]
  },
  {
   "cell_type": "code",
   "execution_count": 8,
   "metadata": {},
   "outputs": [],
   "source": [
    "data.set_index('IIN', inplace=True)\n",
    "\n",
    "data['CohortGroup'] = data.groupby(level=0)['CreditDate'].min().apply(lambda x: x.strftime('%Y-%m'))\n",
    "\n",
    "data.reset_index(inplace=True)"
   ]
  },
  {
   "cell_type": "code",
   "execution_count": 9,
   "metadata": {},
   "outputs": [
    {
     "data": {
      "text/html": [
       "<div>\n",
       "<style>\n",
       "    .dataframe thead tr:only-child th {\n",
       "        text-align: right;\n",
       "    }\n",
       "\n",
       "    .dataframe thead th {\n",
       "        text-align: left;\n",
       "    }\n",
       "\n",
       "    .dataframe tbody tr th {\n",
       "        vertical-align: top;\n",
       "    }\n",
       "</style>\n",
       "<table border=\"1\" class=\"dataframe\">\n",
       "  <thead>\n",
       "    <tr style=\"text-align: right;\">\n",
       "      <th></th>\n",
       "      <th>IIN</th>\n",
       "      <th>CreditDate</th>\n",
       "      <th>creditNumber</th>\n",
       "      <th>target</th>\n",
       "      <th>CreditPeriod</th>\n",
       "      <th>CohortGroup</th>\n",
       "    </tr>\n",
       "  </thead>\n",
       "  <tbody>\n",
       "    <tr>\n",
       "      <th>0</th>\n",
       "      <td>000000-552800</td>\n",
       "      <td>2016-10-01 09:40:00</td>\n",
       "      <td>51294</td>\n",
       "      <td>0</td>\n",
       "      <td>2016-10</td>\n",
       "      <td>2016-10</td>\n",
       "    </tr>\n",
       "    <tr>\n",
       "      <th>1</th>\n",
       "      <td>000000-285780</td>\n",
       "      <td>2016-10-01 09:46:00</td>\n",
       "      <td>51295</td>\n",
       "      <td>0</td>\n",
       "      <td>2016-10</td>\n",
       "      <td>2016-10</td>\n",
       "    </tr>\n",
       "    <tr>\n",
       "      <th>2</th>\n",
       "      <td>000000-548720</td>\n",
       "      <td>2016-10-01 09:56:00</td>\n",
       "      <td>51296</td>\n",
       "      <td>0</td>\n",
       "      <td>2016-10</td>\n",
       "      <td>2016-10</td>\n",
       "    </tr>\n",
       "    <tr>\n",
       "      <th>3</th>\n",
       "      <td>000000-144841</td>\n",
       "      <td>2016-10-01 10:22:00</td>\n",
       "      <td>51297</td>\n",
       "      <td>0</td>\n",
       "      <td>2016-10</td>\n",
       "      <td>2016-10</td>\n",
       "    </tr>\n",
       "    <tr>\n",
       "      <th>4</th>\n",
       "      <td>000000-552800</td>\n",
       "      <td>2016-10-01 10:17:00</td>\n",
       "      <td>51298</td>\n",
       "      <td>0</td>\n",
       "      <td>2016-10</td>\n",
       "      <td>2016-10</td>\n",
       "    </tr>\n",
       "  </tbody>\n",
       "</table>\n",
       "</div>"
      ],
      "text/plain": [
       "             IIN          CreditDate  creditNumber  target CreditPeriod  \\\n",
       "0  000000-552800 2016-10-01 09:40:00         51294       0      2016-10   \n",
       "1  000000-285780 2016-10-01 09:46:00         51295       0      2016-10   \n",
       "2  000000-548720 2016-10-01 09:56:00         51296       0      2016-10   \n",
       "3  000000-144841 2016-10-01 10:22:00         51297       0      2016-10   \n",
       "4  000000-552800 2016-10-01 10:17:00         51298       0      2016-10   \n",
       "\n",
       "  CohortGroup  \n",
       "0     2016-10  \n",
       "1     2016-10  \n",
       "2     2016-10  \n",
       "3     2016-10  \n",
       "4     2016-10  "
      ]
     },
     "execution_count": 9,
     "metadata": {},
     "output_type": "execute_result"
    }
   ],
   "source": [
    "data.head()"
   ]
  },
  {
   "cell_type": "markdown",
   "metadata": {},
   "source": [
    "### Накопительные данные CohortGroup & OrderPeriod"
   ]
  },
  {
   "cell_type": "markdown",
   "metadata": {},
   "source": [
    "Поскольку мы рассматриваем ежемесячные когорты, нам необходимо агрегировать клиентов, кредиты и количество просрочек, допустивших CohortGroup в течение месяца (CreditPeriod)."
   ]
  },
  {
   "cell_type": "code",
   "execution_count": 10,
   "metadata": {
    "collapsed": true
   },
   "outputs": [],
   "source": [
    "grouped = data.groupby(['CohortGroup', 'CreditPeriod'])\n",
    "\n",
    "cohorts = grouped.agg({'IIN': pd.Series.nunique,\n",
    "                       'creditNumber': pd.Series.nunique,\n",
    "                       'target': np.sum})\n",
    "\n",
    "cohorts.rename(columns={'IIN': 'TotalClients',\n",
    "                        'creditNumber': 'TotalOrders'}, inplace=True)"
   ]
  },
  {
   "cell_type": "code",
   "execution_count": 11,
   "metadata": {},
   "outputs": [
    {
     "data": {
      "text/html": [
       "<div>\n",
       "<style>\n",
       "    .dataframe thead tr:only-child th {\n",
       "        text-align: right;\n",
       "    }\n",
       "\n",
       "    .dataframe thead th {\n",
       "        text-align: left;\n",
       "    }\n",
       "\n",
       "    .dataframe tbody tr th {\n",
       "        vertical-align: top;\n",
       "    }\n",
       "</style>\n",
       "<table border=\"1\" class=\"dataframe\">\n",
       "  <thead>\n",
       "    <tr style=\"text-align: right;\">\n",
       "      <th></th>\n",
       "      <th></th>\n",
       "      <th>TotalClients</th>\n",
       "      <th>TotalOrders</th>\n",
       "      <th>target</th>\n",
       "    </tr>\n",
       "    <tr>\n",
       "      <th>CohortGroup</th>\n",
       "      <th>CreditPeriod</th>\n",
       "      <th></th>\n",
       "      <th></th>\n",
       "      <th></th>\n",
       "    </tr>\n",
       "  </thead>\n",
       "  <tbody>\n",
       "    <tr>\n",
       "      <th rowspan=\"5\" valign=\"top\">2016-10</th>\n",
       "      <th>2016-10</th>\n",
       "      <td>1008</td>\n",
       "      <td>1669</td>\n",
       "      <td>223</td>\n",
       "    </tr>\n",
       "    <tr>\n",
       "      <th>2016-11</th>\n",
       "      <td>592</td>\n",
       "      <td>746</td>\n",
       "      <td>195</td>\n",
       "    </tr>\n",
       "    <tr>\n",
       "      <th>2016-12</th>\n",
       "      <td>22</td>\n",
       "      <td>26</td>\n",
       "      <td>6</td>\n",
       "    </tr>\n",
       "    <tr>\n",
       "      <th>2017-01</th>\n",
       "      <td>21</td>\n",
       "      <td>26</td>\n",
       "      <td>3</td>\n",
       "    </tr>\n",
       "    <tr>\n",
       "      <th>2017-02</th>\n",
       "      <td>28</td>\n",
       "      <td>35</td>\n",
       "      <td>3</td>\n",
       "    </tr>\n",
       "  </tbody>\n",
       "</table>\n",
       "</div>"
      ],
      "text/plain": [
       "                          TotalClients  TotalOrders  target\n",
       "CohortGroup CreditPeriod                                   \n",
       "2016-10     2016-10               1008         1669     223\n",
       "            2016-11                592          746     195\n",
       "            2016-12                 22           26       6\n",
       "            2017-01                 21           26       3\n",
       "            2017-02                 28           35       3"
      ]
     },
     "execution_count": 11,
     "metadata": {},
     "output_type": "execute_result"
    }
   ],
   "source": [
    "cohorts.head()"
   ]
  },
  {
   "cell_type": "markdown",
   "metadata": {},
   "source": [
    "### CohortPeriod для каждой группы CohortGroup"
   ]
  },
  {
   "cell_type": "markdown",
   "metadata": {},
   "source": [
    "Мы хотим посмотреть, как каждая когорта вела себя в течение нескольких месяцев после их первого кредита, поэтому нам нужно будет проиндексировать каждую когорту до их первого месяца. Например, CohortPeriod = 1 будет первым месяцем когорты, CohortPeriod = 2 является их вторым и так далее.\n",
    "\n",
    "Это позволяет нам сравнивать когорты на разных этапах их жизни."
   ]
  },
  {
   "cell_type": "code",
   "execution_count": 12,
   "metadata": {},
   "outputs": [
    {
     "data": {
      "text/html": [
       "<div>\n",
       "<style>\n",
       "    .dataframe thead tr:only-child th {\n",
       "        text-align: right;\n",
       "    }\n",
       "\n",
       "    .dataframe thead th {\n",
       "        text-align: left;\n",
       "    }\n",
       "\n",
       "    .dataframe tbody tr th {\n",
       "        vertical-align: top;\n",
       "    }\n",
       "</style>\n",
       "<table border=\"1\" class=\"dataframe\">\n",
       "  <thead>\n",
       "    <tr style=\"text-align: right;\">\n",
       "      <th></th>\n",
       "      <th></th>\n",
       "      <th>TotalClients</th>\n",
       "      <th>TotalOrders</th>\n",
       "      <th>target</th>\n",
       "      <th>CohortPeriod</th>\n",
       "    </tr>\n",
       "    <tr>\n",
       "      <th>CohortGroup</th>\n",
       "      <th>CreditPeriod</th>\n",
       "      <th></th>\n",
       "      <th></th>\n",
       "      <th></th>\n",
       "      <th></th>\n",
       "    </tr>\n",
       "  </thead>\n",
       "  <tbody>\n",
       "    <tr>\n",
       "      <th rowspan=\"5\" valign=\"top\">2016-10</th>\n",
       "      <th>2016-10</th>\n",
       "      <td>1008</td>\n",
       "      <td>1669</td>\n",
       "      <td>223</td>\n",
       "      <td>1</td>\n",
       "    </tr>\n",
       "    <tr>\n",
       "      <th>2016-11</th>\n",
       "      <td>592</td>\n",
       "      <td>746</td>\n",
       "      <td>195</td>\n",
       "      <td>2</td>\n",
       "    </tr>\n",
       "    <tr>\n",
       "      <th>2016-12</th>\n",
       "      <td>22</td>\n",
       "      <td>26</td>\n",
       "      <td>6</td>\n",
       "      <td>3</td>\n",
       "    </tr>\n",
       "    <tr>\n",
       "      <th>2017-01</th>\n",
       "      <td>21</td>\n",
       "      <td>26</td>\n",
       "      <td>3</td>\n",
       "      <td>4</td>\n",
       "    </tr>\n",
       "    <tr>\n",
       "      <th>2017-02</th>\n",
       "      <td>28</td>\n",
       "      <td>35</td>\n",
       "      <td>3</td>\n",
       "      <td>5</td>\n",
       "    </tr>\n",
       "  </tbody>\n",
       "</table>\n",
       "</div>"
      ],
      "text/plain": [
       "                          TotalClients  TotalOrders  target  CohortPeriod\n",
       "CohortGroup CreditPeriod                                                 \n",
       "2016-10     2016-10               1008         1669     223             1\n",
       "            2016-11                592          746     195             2\n",
       "            2016-12                 22           26       6             3\n",
       "            2017-01                 21           26       3             4\n",
       "            2017-02                 28           35       3             5"
      ]
     },
     "execution_count": 12,
     "metadata": {},
     "output_type": "execute_result"
    }
   ],
   "source": [
    "def cohort_period(df):\n",
    "    df['CohortPeriod'] = np.arange(len(df)) + 1\n",
    "    return df\n",
    "\n",
    "cohorts = cohorts.groupby(level=0).apply(cohort_period)\n",
    "cohorts.head()"
   ]
  },
  {
   "cell_type": "markdown",
   "metadata": {},
   "source": [
    "### Период созревания кредитов"
   ]
  },
  {
   "cell_type": "markdown",
   "metadata": {},
   "source": [
    "Мы хотим посмотреть процентное изменение каждой CohortGroup с течением времени, а не абсолютное изменение.\n",
    "\n",
    "Для этого нам сначала нужно создать серию pandas, содержащую каждую CohortGroup и ее размер."
   ]
  },
  {
   "cell_type": "code",
   "execution_count": 13,
   "metadata": {},
   "outputs": [
    {
     "data": {
      "text/plain": [
       "CohortGroup\n",
       "2016-10    223\n",
       "2016-11    185\n",
       "2016-12    287\n",
       "2017-01    181\n",
       "2017-02    108\n",
       "2017-03      5\n",
       "2017-04     94\n",
       "2017-05    131\n",
       "2017-06     50\n",
       "2017-07    103\n",
       "2017-08     50\n",
       "2017-09     54\n",
       "2017-10      0\n",
       "Name: target, dtype: int64"
      ]
     },
     "execution_count": 13,
     "metadata": {},
     "output_type": "execute_result"
    }
   ],
   "source": [
    "cohorts.reset_index(inplace=True)\n",
    "cohorts.set_index(['CohortGroup', 'CohortPeriod'], inplace=True)\n",
    "\n",
    "cohort_group_size = cohorts['target'].groupby(level=0).first()\n",
    "cohort_group_size.head(100)"
   ]
  },
  {
   "cell_type": "markdown",
   "metadata": {},
   "source": [
    "Теперь нам нужно разделить значения target в когортах с помощью cohort_group_size. Поскольку операции DataFrame выполняются на основе индексов объектов, мы будем использовать unack в наших когортах DataFrame для создания матрицы, в которой каждый столбец представляет CohortGroup, и каждая строка является CohortPeriod, соответствующей этой группе.\n",
    "\n",
    "Чтобы проиллюстрировать, что делает откат, вспомним первые пять значений target:"
   ]
  },
  {
   "cell_type": "code",
   "execution_count": 14,
   "metadata": {},
   "outputs": [
    {
     "data": {
      "text/plain": [
       "CohortGroup  CohortPeriod\n",
       "2016-10      1               223\n",
       "             2               195\n",
       "             3                 6\n",
       "             4                 3\n",
       "             5                 3\n",
       "Name: target, dtype: int64"
      ]
     },
     "execution_count": 14,
     "metadata": {},
     "output_type": "execute_result"
    }
   ],
   "source": [
    "cohorts['target'].head()"
   ]
  },
  {
   "cell_type": "markdown",
   "metadata": {},
   "source": [
    "Вот как они выглядят, когда мы снимаем уровень CohortGroup из индекса:"
   ]
  },
  {
   "cell_type": "code",
   "execution_count": 15,
   "metadata": {},
   "outputs": [
    {
     "data": {
      "text/html": [
       "<div>\n",
       "<style>\n",
       "    .dataframe thead tr:only-child th {\n",
       "        text-align: right;\n",
       "    }\n",
       "\n",
       "    .dataframe thead th {\n",
       "        text-align: left;\n",
       "    }\n",
       "\n",
       "    .dataframe tbody tr th {\n",
       "        vertical-align: top;\n",
       "    }\n",
       "</style>\n",
       "<table border=\"1\" class=\"dataframe\">\n",
       "  <thead>\n",
       "    <tr style=\"text-align: right;\">\n",
       "      <th>CohortGroup</th>\n",
       "      <th>2016-10</th>\n",
       "      <th>2016-11</th>\n",
       "      <th>2016-12</th>\n",
       "      <th>2017-01</th>\n",
       "      <th>2017-02</th>\n",
       "      <th>2017-03</th>\n",
       "      <th>2017-04</th>\n",
       "      <th>2017-05</th>\n",
       "      <th>2017-06</th>\n",
       "      <th>2017-07</th>\n",
       "      <th>2017-08</th>\n",
       "      <th>2017-09</th>\n",
       "      <th>2017-10</th>\n",
       "    </tr>\n",
       "    <tr>\n",
       "      <th>CohortPeriod</th>\n",
       "      <th></th>\n",
       "      <th></th>\n",
       "      <th></th>\n",
       "      <th></th>\n",
       "      <th></th>\n",
       "      <th></th>\n",
       "      <th></th>\n",
       "      <th></th>\n",
       "      <th></th>\n",
       "      <th></th>\n",
       "      <th></th>\n",
       "      <th></th>\n",
       "      <th></th>\n",
       "    </tr>\n",
       "  </thead>\n",
       "  <tbody>\n",
       "    <tr>\n",
       "      <th>1</th>\n",
       "      <td>223.0</td>\n",
       "      <td>185.0</td>\n",
       "      <td>287.0</td>\n",
       "      <td>181.0</td>\n",
       "      <td>108.0</td>\n",
       "      <td>5.0</td>\n",
       "      <td>94.0</td>\n",
       "      <td>131.0</td>\n",
       "      <td>50.0</td>\n",
       "      <td>103.0</td>\n",
       "      <td>50.0</td>\n",
       "      <td>54.0</td>\n",
       "      <td>0.0</td>\n",
       "    </tr>\n",
       "    <tr>\n",
       "      <th>2</th>\n",
       "      <td>195.0</td>\n",
       "      <td>18.0</td>\n",
       "      <td>8.0</td>\n",
       "      <td>4.0</td>\n",
       "      <td>0.0</td>\n",
       "      <td>0.0</td>\n",
       "      <td>8.0</td>\n",
       "      <td>7.0</td>\n",
       "      <td>1.0</td>\n",
       "      <td>5.0</td>\n",
       "      <td>1.0</td>\n",
       "      <td>NaN</td>\n",
       "      <td>NaN</td>\n",
       "    </tr>\n",
       "    <tr>\n",
       "      <th>3</th>\n",
       "      <td>6.0</td>\n",
       "      <td>4.0</td>\n",
       "      <td>5.0</td>\n",
       "      <td>0.0</td>\n",
       "      <td>3.0</td>\n",
       "      <td>0.0</td>\n",
       "      <td>5.0</td>\n",
       "      <td>2.0</td>\n",
       "      <td>2.0</td>\n",
       "      <td>3.0</td>\n",
       "      <td>NaN</td>\n",
       "      <td>NaN</td>\n",
       "      <td>NaN</td>\n",
       "    </tr>\n",
       "    <tr>\n",
       "      <th>4</th>\n",
       "      <td>3.0</td>\n",
       "      <td>2.0</td>\n",
       "      <td>0.0</td>\n",
       "      <td>3.0</td>\n",
       "      <td>4.0</td>\n",
       "      <td>1.0</td>\n",
       "      <td>5.0</td>\n",
       "      <td>2.0</td>\n",
       "      <td>1.0</td>\n",
       "      <td>NaN</td>\n",
       "      <td>NaN</td>\n",
       "      <td>NaN</td>\n",
       "      <td>NaN</td>\n",
       "    </tr>\n",
       "    <tr>\n",
       "      <th>5</th>\n",
       "      <td>3.0</td>\n",
       "      <td>2.0</td>\n",
       "      <td>1.0</td>\n",
       "      <td>2.0</td>\n",
       "      <td>2.0</td>\n",
       "      <td>0.0</td>\n",
       "      <td>1.0</td>\n",
       "      <td>3.0</td>\n",
       "      <td>NaN</td>\n",
       "      <td>NaN</td>\n",
       "      <td>NaN</td>\n",
       "      <td>NaN</td>\n",
       "      <td>NaN</td>\n",
       "    </tr>\n",
       "  </tbody>\n",
       "</table>\n",
       "</div>"
      ],
      "text/plain": [
       "CohortGroup   2016-10  2016-11  2016-12  2017-01  2017-02  2017-03  2017-04  \\\n",
       "CohortPeriod                                                                  \n",
       "1               223.0    185.0    287.0    181.0    108.0      5.0     94.0   \n",
       "2               195.0     18.0      8.0      4.0      0.0      0.0      8.0   \n",
       "3                 6.0      4.0      5.0      0.0      3.0      0.0      5.0   \n",
       "4                 3.0      2.0      0.0      3.0      4.0      1.0      5.0   \n",
       "5                 3.0      2.0      1.0      2.0      2.0      0.0      1.0   \n",
       "\n",
       "CohortGroup   2017-05  2017-06  2017-07  2017-08  2017-09  2017-10  \n",
       "CohortPeriod                                                        \n",
       "1               131.0     50.0    103.0     50.0     54.0      0.0  \n",
       "2                 7.0      1.0      5.0      1.0      NaN      NaN  \n",
       "3                 2.0      2.0      3.0      NaN      NaN      NaN  \n",
       "4                 2.0      1.0      NaN      NaN      NaN      NaN  \n",
       "5                 3.0      NaN      NaN      NaN      NaN      NaN  "
      ]
     },
     "execution_count": 15,
     "metadata": {},
     "output_type": "execute_result"
    }
   ],
   "source": [
    "cohorts['target'].unstack(0).head()"
   ]
  },
  {
   "cell_type": "markdown",
   "metadata": {},
   "source": [
    "Теперь мы можем использовать разделить каждый столбец на соответствующий cohort_group_size.\n",
    "\n",
    "Полученный DataFrame, npl, содержит процент  просроченных договоров от договоров когорты в течение данного периода. Например, 26,9% договоров в 2016-10 году вышли на просрочку на 3-м месяце (который будет в декабре 2016 года)."
   ]
  },
  {
   "cell_type": "code",
   "execution_count": 17,
   "metadata": {},
   "outputs": [
    {
     "data": {
      "text/html": [
       "<div>\n",
       "<style>\n",
       "    .dataframe thead tr:only-child th {\n",
       "        text-align: right;\n",
       "    }\n",
       "\n",
       "    .dataframe thead th {\n",
       "        text-align: left;\n",
       "    }\n",
       "\n",
       "    .dataframe tbody tr th {\n",
       "        vertical-align: top;\n",
       "    }\n",
       "</style>\n",
       "<table border=\"1\" class=\"dataframe\">\n",
       "  <thead>\n",
       "    <tr style=\"text-align: right;\">\n",
       "      <th>CohortGroup</th>\n",
       "      <th>2016-10</th>\n",
       "      <th>2016-11</th>\n",
       "      <th>2016-12</th>\n",
       "      <th>2017-01</th>\n",
       "      <th>2017-02</th>\n",
       "      <th>2017-03</th>\n",
       "      <th>2017-04</th>\n",
       "      <th>2017-05</th>\n",
       "      <th>2017-06</th>\n",
       "      <th>2017-07</th>\n",
       "      <th>2017-08</th>\n",
       "      <th>2017-09</th>\n",
       "      <th>2017-10</th>\n",
       "    </tr>\n",
       "    <tr>\n",
       "      <th>CohortPeriod</th>\n",
       "      <th></th>\n",
       "      <th></th>\n",
       "      <th></th>\n",
       "      <th></th>\n",
       "      <th></th>\n",
       "      <th></th>\n",
       "      <th></th>\n",
       "      <th></th>\n",
       "      <th></th>\n",
       "      <th></th>\n",
       "      <th></th>\n",
       "      <th></th>\n",
       "      <th></th>\n",
       "    </tr>\n",
       "  </thead>\n",
       "  <tbody>\n",
       "    <tr>\n",
       "      <th>1</th>\n",
       "      <td>1.000000</td>\n",
       "      <td>1.000000</td>\n",
       "      <td>1.000000</td>\n",
       "      <td>1.000000</td>\n",
       "      <td>1.000000</td>\n",
       "      <td>1.0</td>\n",
       "      <td>1.000000</td>\n",
       "      <td>1.000000</td>\n",
       "      <td>1.00</td>\n",
       "      <td>1.000000</td>\n",
       "      <td>1.00</td>\n",
       "      <td>1.0</td>\n",
       "      <td>NaN</td>\n",
       "    </tr>\n",
       "    <tr>\n",
       "      <th>2</th>\n",
       "      <td>0.874439</td>\n",
       "      <td>0.097297</td>\n",
       "      <td>0.027875</td>\n",
       "      <td>0.022099</td>\n",
       "      <td>0.000000</td>\n",
       "      <td>0.0</td>\n",
       "      <td>0.085106</td>\n",
       "      <td>0.053435</td>\n",
       "      <td>0.02</td>\n",
       "      <td>0.048544</td>\n",
       "      <td>0.02</td>\n",
       "      <td>NaN</td>\n",
       "      <td>NaN</td>\n",
       "    </tr>\n",
       "    <tr>\n",
       "      <th>3</th>\n",
       "      <td>0.026906</td>\n",
       "      <td>0.021622</td>\n",
       "      <td>0.017422</td>\n",
       "      <td>0.000000</td>\n",
       "      <td>0.027778</td>\n",
       "      <td>0.0</td>\n",
       "      <td>0.053191</td>\n",
       "      <td>0.015267</td>\n",
       "      <td>0.04</td>\n",
       "      <td>0.029126</td>\n",
       "      <td>NaN</td>\n",
       "      <td>NaN</td>\n",
       "      <td>NaN</td>\n",
       "    </tr>\n",
       "    <tr>\n",
       "      <th>4</th>\n",
       "      <td>0.013453</td>\n",
       "      <td>0.010811</td>\n",
       "      <td>0.000000</td>\n",
       "      <td>0.016575</td>\n",
       "      <td>0.037037</td>\n",
       "      <td>0.2</td>\n",
       "      <td>0.053191</td>\n",
       "      <td>0.015267</td>\n",
       "      <td>0.02</td>\n",
       "      <td>NaN</td>\n",
       "      <td>NaN</td>\n",
       "      <td>NaN</td>\n",
       "      <td>NaN</td>\n",
       "    </tr>\n",
       "    <tr>\n",
       "      <th>5</th>\n",
       "      <td>0.013453</td>\n",
       "      <td>0.010811</td>\n",
       "      <td>0.003484</td>\n",
       "      <td>0.011050</td>\n",
       "      <td>0.018519</td>\n",
       "      <td>0.0</td>\n",
       "      <td>0.010638</td>\n",
       "      <td>0.022901</td>\n",
       "      <td>NaN</td>\n",
       "      <td>NaN</td>\n",
       "      <td>NaN</td>\n",
       "      <td>NaN</td>\n",
       "      <td>NaN</td>\n",
       "    </tr>\n",
       "    <tr>\n",
       "      <th>6</th>\n",
       "      <td>0.461883</td>\n",
       "      <td>0.000000</td>\n",
       "      <td>0.010453</td>\n",
       "      <td>0.011050</td>\n",
       "      <td>0.037037</td>\n",
       "      <td>0.0</td>\n",
       "      <td>0.021277</td>\n",
       "      <td>NaN</td>\n",
       "      <td>NaN</td>\n",
       "      <td>NaN</td>\n",
       "      <td>NaN</td>\n",
       "      <td>NaN</td>\n",
       "      <td>NaN</td>\n",
       "    </tr>\n",
       "    <tr>\n",
       "      <th>7</th>\n",
       "      <td>0.022422</td>\n",
       "      <td>0.032432</td>\n",
       "      <td>0.006969</td>\n",
       "      <td>0.005525</td>\n",
       "      <td>0.018519</td>\n",
       "      <td>NaN</td>\n",
       "      <td>NaN</td>\n",
       "      <td>NaN</td>\n",
       "      <td>NaN</td>\n",
       "      <td>NaN</td>\n",
       "      <td>NaN</td>\n",
       "      <td>NaN</td>\n",
       "      <td>NaN</td>\n",
       "    </tr>\n",
       "    <tr>\n",
       "      <th>8</th>\n",
       "      <td>0.040359</td>\n",
       "      <td>0.021622</td>\n",
       "      <td>0.010453</td>\n",
       "      <td>0.011050</td>\n",
       "      <td>0.027778</td>\n",
       "      <td>NaN</td>\n",
       "      <td>NaN</td>\n",
       "      <td>NaN</td>\n",
       "      <td>NaN</td>\n",
       "      <td>NaN</td>\n",
       "      <td>NaN</td>\n",
       "      <td>NaN</td>\n",
       "      <td>NaN</td>\n",
       "    </tr>\n",
       "    <tr>\n",
       "      <th>9</th>\n",
       "      <td>0.327354</td>\n",
       "      <td>0.021622</td>\n",
       "      <td>0.017422</td>\n",
       "      <td>0.005525</td>\n",
       "      <td>NaN</td>\n",
       "      <td>NaN</td>\n",
       "      <td>NaN</td>\n",
       "      <td>NaN</td>\n",
       "      <td>NaN</td>\n",
       "      <td>NaN</td>\n",
       "      <td>NaN</td>\n",
       "      <td>NaN</td>\n",
       "      <td>NaN</td>\n",
       "    </tr>\n",
       "    <tr>\n",
       "      <th>10</th>\n",
       "      <td>0.188341</td>\n",
       "      <td>0.010811</td>\n",
       "      <td>0.013937</td>\n",
       "      <td>0.000000</td>\n",
       "      <td>NaN</td>\n",
       "      <td>NaN</td>\n",
       "      <td>NaN</td>\n",
       "      <td>NaN</td>\n",
       "      <td>NaN</td>\n",
       "      <td>NaN</td>\n",
       "      <td>NaN</td>\n",
       "      <td>NaN</td>\n",
       "      <td>NaN</td>\n",
       "    </tr>\n",
       "    <tr>\n",
       "      <th>11</th>\n",
       "      <td>1.121076</td>\n",
       "      <td>0.016216</td>\n",
       "      <td>NaN</td>\n",
       "      <td>NaN</td>\n",
       "      <td>NaN</td>\n",
       "      <td>NaN</td>\n",
       "      <td>NaN</td>\n",
       "      <td>NaN</td>\n",
       "      <td>NaN</td>\n",
       "      <td>NaN</td>\n",
       "      <td>NaN</td>\n",
       "      <td>NaN</td>\n",
       "      <td>NaN</td>\n",
       "    </tr>\n",
       "    <tr>\n",
       "      <th>12</th>\n",
       "      <td>1.000000</td>\n",
       "      <td>NaN</td>\n",
       "      <td>NaN</td>\n",
       "      <td>NaN</td>\n",
       "      <td>NaN</td>\n",
       "      <td>NaN</td>\n",
       "      <td>NaN</td>\n",
       "      <td>NaN</td>\n",
       "      <td>NaN</td>\n",
       "      <td>NaN</td>\n",
       "      <td>NaN</td>\n",
       "      <td>NaN</td>\n",
       "      <td>NaN</td>\n",
       "    </tr>\n",
       "    <tr>\n",
       "      <th>13</th>\n",
       "      <td>0.000000</td>\n",
       "      <td>NaN</td>\n",
       "      <td>NaN</td>\n",
       "      <td>NaN</td>\n",
       "      <td>NaN</td>\n",
       "      <td>NaN</td>\n",
       "      <td>NaN</td>\n",
       "      <td>NaN</td>\n",
       "      <td>NaN</td>\n",
       "      <td>NaN</td>\n",
       "      <td>NaN</td>\n",
       "      <td>NaN</td>\n",
       "      <td>NaN</td>\n",
       "    </tr>\n",
       "  </tbody>\n",
       "</table>\n",
       "</div>"
      ],
      "text/plain": [
       "CohortGroup    2016-10   2016-11   2016-12   2017-01   2017-02  2017-03  \\\n",
       "CohortPeriod                                                              \n",
       "1             1.000000  1.000000  1.000000  1.000000  1.000000      1.0   \n",
       "2             0.874439  0.097297  0.027875  0.022099  0.000000      0.0   \n",
       "3             0.026906  0.021622  0.017422  0.000000  0.027778      0.0   \n",
       "4             0.013453  0.010811  0.000000  0.016575  0.037037      0.2   \n",
       "5             0.013453  0.010811  0.003484  0.011050  0.018519      0.0   \n",
       "6             0.461883  0.000000  0.010453  0.011050  0.037037      0.0   \n",
       "7             0.022422  0.032432  0.006969  0.005525  0.018519      NaN   \n",
       "8             0.040359  0.021622  0.010453  0.011050  0.027778      NaN   \n",
       "9             0.327354  0.021622  0.017422  0.005525       NaN      NaN   \n",
       "10            0.188341  0.010811  0.013937  0.000000       NaN      NaN   \n",
       "11            1.121076  0.016216       NaN       NaN       NaN      NaN   \n",
       "12            1.000000       NaN       NaN       NaN       NaN      NaN   \n",
       "13            0.000000       NaN       NaN       NaN       NaN      NaN   \n",
       "\n",
       "CohortGroup    2017-04   2017-05  2017-06   2017-07  2017-08  2017-09  2017-10  \n",
       "CohortPeriod                                                                    \n",
       "1             1.000000  1.000000     1.00  1.000000     1.00      1.0      NaN  \n",
       "2             0.085106  0.053435     0.02  0.048544     0.02      NaN      NaN  \n",
       "3             0.053191  0.015267     0.04  0.029126      NaN      NaN      NaN  \n",
       "4             0.053191  0.015267     0.02       NaN      NaN      NaN      NaN  \n",
       "5             0.010638  0.022901      NaN       NaN      NaN      NaN      NaN  \n",
       "6             0.021277       NaN      NaN       NaN      NaN      NaN      NaN  \n",
       "7                  NaN       NaN      NaN       NaN      NaN      NaN      NaN  \n",
       "8                  NaN       NaN      NaN       NaN      NaN      NaN      NaN  \n",
       "9                  NaN       NaN      NaN       NaN      NaN      NaN      NaN  \n",
       "10                 NaN       NaN      NaN       NaN      NaN      NaN      NaN  \n",
       "11                 NaN       NaN      NaN       NaN      NaN      NaN      NaN  \n",
       "12                 NaN       NaN      NaN       NaN      NaN      NaN      NaN  \n",
       "13                 NaN       NaN      NaN       NaN      NaN      NaN      NaN  "
      ]
     },
     "execution_count": 17,
     "metadata": {},
     "output_type": "execute_result"
    }
   ],
   "source": [
    "npl = cohorts['target'].unstack(0).divide(cohort_group_size, axis=1)\n",
    "npl.head(100)"
   ]
  },
  {
   "cell_type": "markdown",
   "metadata": {},
   "source": [
    "Наконец, мы можем сгруппировать когорты с течением времени, чтобы выявить поведенческие различия или сходства. Две общие когортные диаграммы - это линейные графики и диаграммы направленности, оба из которых показаны ниже.\n",
    "\n",
    "Обратите внимание, что первый период каждой когорты составляет 100% - это связано с тем, что наши когорты основаны на первой выдаче каждого клиента, то есть каждый в когорте, приобретенной в месяц 1."
   ]
  },
  {
   "cell_type": "code",
   "execution_count": 20,
   "metadata": {},
   "outputs": [
    {
     "data": {
      "image/png": "[encoded data removed]",
      "text/plain": [
       "<matplotlib.figure.Figure at 0x191286abdd8>"
      ]
     },
     "metadata": {},
     "output_type": "display_data"
    }
   ],
   "source": [
    "npl[['2016-11','2016-12','2017-01','2017-02','2017-03']].plot(figsize=(10,5))\n",
    "plt.title('Cohorts: NPL')\n",
    "plt.xticks(np.arange(1, 13.1, 1))\n",
    "plt.xlim(1, 13)\n",
    "plt.ylabel('% of Cohort Issuance');"
   ]
  },
  {
   "cell_type": "code",
   "execution_count": 21,
   "metadata": {},
   "outputs": [
    {
     "data": {
      "image/png": "[encoded data removed]",
      "text/plain": [
       "<matplotlib.figure.Figure at 0x191286c7f98>"
      ]
     },
     "metadata": {},
     "output_type": "display_data"
    }
   ],
   "source": [
    "plt.figure(figsize=(30, 30))\n",
    "plt.title('Cohorts: Credit NPL')\n",
    "sns.heatmap(npl.T, mask=npl.T.isnull(), annot=True, fmt='.0%');"
   ]
  },
  {
   "cell_type": "markdown",
   "metadata": {},
   "source": [
    "Из приведенной выше диаграммы видно, что меньшее количество договоров, как правило, выходит на просрочку с течением времени.\n",
    "\n",
    "Тем не менее, мы также можем видеть, что когорта 2016-10 является самой сильной, что позволяет нам задавать целенаправленные вопросы об этой когорте по сравнению с другими - какие другие атрибуты (помимо первого месяца выдачи) разделяют эти договора, что может привести к их просрочке? Как большинство этих договоров были выданы? Была ли проведена определенная маркетинговая кампания? Получали ли они участие в акции? Ответы на эти вопросы будут полезны для будущих маркетинговых и продуктовых мероприятий."
   ]
  },
  {
   "cell_type": "markdown",
   "metadata": {},
   "source": [
    "## Вывод о периоде созревания просрочки"
   ]
  },
  {
   "cell_type": "markdown",
   "metadata": {},
   "source": [
    "Основываясь на данных мы видим, что в основом просрочка созревает на 2-3 месяц после выдачи кредита. Но в 6 когорте период созревания наступил на 4 месяц. Этот факт интересен и требует дополнительного изучения."
   ]
  },
  {
   "cell_type": "code",
   "execution_count": null,
   "metadata": {
    "collapsed": true
   },
   "outputs": [],
   "source": []
  }
 ],
 "metadata": {
  "anaconda-cloud": {},
  "kernelspec": {
   "display_name": "Python 3",
   "language": "python",
   "name": "python3"
  },
  "language_info": {
   "codemirror_mode": {
    "name": "ipython",
    "version": 3
   },
   "file_extension": ".py",
   "mimetype": "text/x-python",
   "name": "python",
   "nbconvert_exporter": "python",
   "pygments_lexer": "ipython3",
   "version": "3.6.2"
  }
 },
 "nbformat": 4,
 "nbformat_minor": 2
}
