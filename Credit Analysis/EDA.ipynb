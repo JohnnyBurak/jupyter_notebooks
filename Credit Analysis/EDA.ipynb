{
 "cells": [
  {
   "cell_type": "markdown",
   "metadata": {
    "collapsed": true
   },
   "source": [
    "# Разведочный анализ Авто Кредиты (EDA - exploratory data analysis)"
   ]
  },
  {
   "cell_type": "markdown",
   "metadata": {},
   "source": [
    "Делаем разведочный анализ по Авто Кредитам. Исследуем данные, пытаемся найти инсайты. Строим выводы."
   ]
  },
  {
   "cell_type": "markdown",
   "metadata": {},
   "source": [
    "## Подключаем библиотеки"
   ]
  },
  {
   "cell_type": "code",
   "execution_count": null,
   "metadata": {
    "collapsed": true
   },
   "outputs": [],
   "source": [
    "import pandas as pd\n",
    "import numpy as np\n",
    "\n",
    "# игнорируем warnings\n",
    "import warnings\n",
    "warnings.filterwarnings(\"ignore\")\n",
    "\n",
    "import seaborn as sns\n",
    "\n",
    "import matplotlib\n",
    "import matplotlib.pyplot as plt\n",
    "import matplotlib.ticker\n",
    "%matplotlib inline\n",
    "\n",
    "# настройка внешнего вида графиков в seaborn\n",
    "sns.set_context(\n",
    "    \"notebook\", \n",
    "    font_scale = 1.5,       \n",
    "    rc = { \n",
    "        \"figure.figsize\" : (30, 30), \n",
    "        \"axes.titlesize\" : 18 \n",
    "    }\n",
    ")"
   ]
  },
  {
   "cell_type": "code",
   "execution_count": null,
   "metadata": {},
   "outputs": [],
   "source": [
    "from plotly.offline import init_notebook_mode, iplot\n",
    "import plotly.graph_objs as go\n",
    "import plotly.plotly as py\n",
    "from plotly import tools\n",
    "from datetime import date\n",
    "import random \n",
    "init_notebook_mode(connected=True)"
   ]
  },
  {
   "cell_type": "markdown",
   "metadata": {},
   "source": [
    "## Загружаем данные"
   ]
  },
  {
   "cell_type": "code",
   "execution_count": null,
   "metadata": {
    "collapsed": true
   },
   "outputs": [],
   "source": [
    "data = pd.read_csv('auto_app.csv', delimiter=\";\",decimal=\".\", encoding=\"windows-1251\")"
   ]
  },
  {
   "cell_type": "code",
   "execution_count": null,
   "metadata": {},
   "outputs": [],
   "source": [
    "display(data.head(10))"
   ]
  },
  {
   "cell_type": "markdown",
   "metadata": {},
   "source": [
    "## Проверка пустых значений"
   ]
  },
  {
   "cell_type": "code",
   "execution_count": null,
   "metadata": {
    "collapsed": true
   },
   "outputs": [],
   "source": [
    "def missing_data(data):\n",
    "    total = data.isnull().sum().sort_values(ascending = False)\n",
    "    percent = (data.isnull().sum()/data.isnull().count()*100).sort_values(ascending = False)\n",
    "    return pd.concat([total, percent], axis=1, keys=['Total', 'Percent'])"
   ]
  },
  {
   "cell_type": "code",
   "execution_count": null,
   "metadata": {},
   "outputs": [],
   "source": [
    "missing_data(data).head(10)"
   ]
  },
  {
   "cell_type": "markdown",
   "metadata": {},
   "source": [
    "**Вывол:** Мы видим ТОП-10 полей с наибольшей долей пустых значений. Когда придет время строить  модели машинного обучения, нам придется заполнить эти пропущенные значения. Другим вариантом будет удаление столбцов с большим процентом пропущенных значений, хотя заранее невозможно узнать, будут ли эти столбцы полезны для нашей модели. Поэтому мы пока сохраним все столбцы."
   ]
  },
  {
   "cell_type": "markdown",
   "metadata": {},
   "source": [
    "### Проверка типов данных \n",
    "\n",
    "Давайте посмотрим на количество столбцов каждого типа данных. int64 и float64 являются числовыми переменными (которые могут быть как дискретными, так и непрерывными). Столбцы объекта содержат строки и являются категориальными признаками."
   ]
  },
  {
   "cell_type": "code",
   "execution_count": null,
   "metadata": {},
   "outputs": [],
   "source": [
    "data.dtypes.value_counts()"
   ]
  },
  {
   "cell_type": "markdown",
   "metadata": {},
   "source": [
    "Давайте теперь посмотрим на количество уникальных записей в каждом из (категориальных) столбцов объекта."
   ]
  },
  {
   "cell_type": "code",
   "execution_count": null,
   "metadata": {},
   "outputs": [],
   "source": [
    "data.select_dtypes(include=['object']).apply(pd.Series.nunique,axis=0)"
   ]
  },
  {
   "cell_type": "markdown",
   "metadata": {},
   "source": [
    "**Вывод:** Большинство категориальных переменных имеют относительно небольшое количество уникальных записей. Нам нужно будет найти способ справиться с этими категориальными переменными!"
   ]
  },
  {
   "cell_type": "markdown",
   "metadata": {},
   "source": [
    "## Проверка дисбаланса данных\n",
    "\n",
    "Давайте посмотрим, как распределяется таргет.\n",
    "\n",
    "**Таргет** - плохих клиентов определил двумя способами. \n",
    "- Клиенты, которые вышли на просрочку 60+\n",
    "- Клиенты, допустившие просрочку 3 месяца подряд"
   ]
  },
  {
   "cell_type": "code",
   "execution_count": null,
   "metadata": {},
   "outputs": [],
   "source": [
    "data[\"target\"].value_counts()"
   ]
  },
  {
   "cell_type": "code",
   "execution_count": null,
   "metadata": {},
   "outputs": [],
   "source": [
    "temp = data[\"target\"].value_counts()\n",
    "df = pd.DataFrame({'labels': temp.index,\n",
    "                   'values': temp.values\n",
    "                  })\n",
    "plt.figure(figsize = (6,6))\n",
    "plt.title('Распределение таргета')\n",
    "sns.set_color_codes(\"pastel\")\n",
    "sns.barplot(x = 'labels', y=\"values\", data=df)\n",
    "locs, labels = plt.xticks()\n",
    "plt.show()"
   ]
  },
  {
   "cell_type": "markdown",
   "metadata": {},
   "source": [
    "**Вывод:** Наблюдаем сильный дисбаланс таргета. Это может стать проблемой при построении модели."
   ]
  },
  {
   "cell_type": "markdown",
   "metadata": {},
   "source": [
    "## Распределение суммы кредита"
   ]
  },
  {
   "cell_type": "code",
   "execution_count": null,
   "metadata": {},
   "outputs": [],
   "source": [
    "plt.figure(figsize=(12,5))\n",
    "plt.title(\"Распределение суммы кредита\")\n",
    "ax = sns.distplot(data[\"Запрошенная сумма кредита\"])"
   ]
  },
  {
   "cell_type": "markdown",
   "metadata": {},
   "source": [
    "## Распределение суммы ежемесячного платежа"
   ]
  },
  {
   "cell_type": "code",
   "execution_count": null,
   "metadata": {},
   "outputs": [],
   "source": [
    "plt.figure(figsize=(12,5))\n",
    "plt.title(\"Распределение суммы ежемесячного платежа\")\n",
    "ax = sns.distplot(data[\"Сумма ежемесячного платежа\"])"
   ]
  },
  {
   "cell_type": "markdown",
   "metadata": {},
   "source": [
    "## Распределение суммы первоначального взноса"
   ]
  },
  {
   "cell_type": "code",
   "execution_count": null,
   "metadata": {},
   "outputs": [],
   "source": [
    "plt.figure(figsize=(12,5))\n",
    "plt.title(\"Распределение суммы первоначального взноса\")\n",
    "ax = sns.distplot(data[\"Первоначальный взнос\"])"
   ]
  },
  {
   "cell_type": "markdown",
   "metadata": {},
   "source": [
    "**Вывод:** Построение графиков распределений по разным признакам поможет оценить тип распределения, увидеть выбросы."
   ]
  },
  {
   "cell_type": "code",
   "execution_count": null,
   "metadata": {
    "collapsed": true
   },
   "outputs": [],
   "source": [
    "def plot_distribution_comp(var,nrow=2):\n",
    "    \n",
    "    i = 0\n",
    "    t1 = data.loc[data['target'] != 0]\n",
    "    t0 = data.loc[data['target'] == 0]\n",
    "\n",
    "    sns.set_style('whitegrid')\n",
    "    plt.figure()\n",
    "    fig, ax = plt.subplots(nrow,2,figsize=(12,6*nrow))\n",
    "\n",
    "    for feature in var:\n",
    "        i += 1\n",
    "        plt.subplot(nrow,2,i)\n",
    "        sns.kdeplot(t1[feature], bw=0.5,label=\"TARGET = 1\")\n",
    "        sns.kdeplot(t0[feature], bw=0.5,label=\"TARGET = 0\")\n",
    "        plt.ylabel('Density plot', fontsize=12)\n",
    "        plt.xlabel(feature, fontsize=12)\n",
    "        locs, labels = plt.xticks()\n",
    "        plt.tick_params(axis='both', which='major', labelsize=12)\n",
    "    plt.show();"
   ]
  },
  {
   "cell_type": "markdown",
   "metadata": {},
   "source": [
    "### Сравнение интервальных значений с TARGET = 1 и TARGET = 0"
   ]
  },
  {
   "cell_type": "code",
   "execution_count": null,
   "metadata": {},
   "outputs": [],
   "source": [
    "var = ['Первоначальный взнос','Сумма ежемесячного платежа','Запрошенная сумма кредита']\n",
    "plot_distribution_comp(var,nrow=2)"
   ]
  },
  {
   "cell_type": "markdown",
   "metadata": {},
   "source": [
    "## Обзор данных"
   ]
  },
  {
   "cell_type": "code",
   "execution_count": null,
   "metadata": {
    "collapsed": true
   },
   "outputs": [],
   "source": [
    "def plot_stats(feature,label_rotation=False,horizontal_layout=True):\n",
    "    temp = data[feature].value_counts()\n",
    "    df1 = pd.DataFrame({feature: temp.index,'Количество кредитов': temp.values})\n",
    "\n",
    "    # Calculate the percentage of target=1 per category value\n",
    "    cat_perc = data[[feature, 'target']].groupby([feature],as_index=False).mean()\n",
    "    cat_perc.sort_values(by='target', ascending=False, inplace=True)\n",
    "    \n",
    "    if(horizontal_layout):\n",
    "        fig, (ax1, ax2) = plt.subplots(ncols=2, figsize=(12,6))\n",
    "    else:\n",
    "        fig, (ax1, ax2) = plt.subplots(nrows=2, figsize=(12,14))\n",
    "    sns.set_color_codes(\"pastel\")\n",
    "    s = sns.barplot(ax=ax1, x = feature, y=\"Количество кредитов\",data=df1)\n",
    "    if(label_rotation):\n",
    "        s.set_xticklabels(s.get_xticklabels(),rotation=90)\n",
    "    \n",
    "    s = sns.barplot(ax=ax2, x = feature, y='target', order=cat_perc[feature], data=cat_perc)\n",
    "    if(label_rotation):\n",
    "        s.set_xticklabels(s.get_xticklabels(),rotation=90)\n",
    "    plt.ylabel('Доля таргета = 1 [%]', fontsize=10)\n",
    "    plt.tick_params(axis='both', which='major', labelsize=10)\n",
    "\n",
    "    plt.show();"
   ]
  },
  {
   "cell_type": "markdown",
   "metadata": {},
   "source": [
    "### Пол клиента\n",
    "\n",
    "Давайте посмотрим на пол клиентов, а также, на отдельном графике, процент кредитов (по полу клиента) со значением TARGET 1 (невозвратный кредит)."
   ]
  },
  {
   "cell_type": "code",
   "execution_count": null,
   "metadata": {},
   "outputs": [],
   "source": [
    "plot_stats('Пол')"
   ]
  },
  {
   "cell_type": "markdown",
   "metadata": {},
   "source": [
    "**Вывод:** Число клиентов мужского пола почти вдвое превышает число клиентов женского пола. Что касается процента просроченных кредитов, у мужчин больше шансов не вернуть свои кредиты (~ 0,3%), по сравнению с женщинами (~ 0,1%)."
   ]
  },
  {
   "cell_type": "markdown",
   "metadata": {},
   "source": [
    "### Семейное положение клиента"
   ]
  },
  {
   "cell_type": "code",
   "execution_count": null,
   "metadata": {},
   "outputs": [],
   "source": [
    "plot_stats('Семейное положение',True, True)"
   ]
  },
  {
   "cell_type": "markdown",
   "metadata": {},
   "source": [
    "**Вывод:** Большинство клиентов состоят в браке, за ними следуют холостые / не состоящие в браке и разведенные.\n",
    "С точки зрения процента непогашения кредита, вдовцы/вдовы имеет самый высокий процент непогашения (3%), а гражданский брак самый низкий. При этом, вдовы/вдовцы занимают последнее место по количеству выданных кредитов."
   ]
  },
  {
   "cell_type": "markdown",
   "metadata": {},
   "source": [
    "### Количество родственников на иждивении, в т.ч. детей до 18 лет"
   ]
  },
  {
   "cell_type": "code",
   "execution_count": null,
   "metadata": {},
   "outputs": [],
   "source": [
    "plot_stats('Количество родственников на иждивении, в т.ч. детей до 18 лет')"
   ]
  },
  {
   "cell_type": "markdown",
   "metadata": {},
   "source": [
    "**Вывод:**  У большинства клиентов, получающих кредит, нет иждевенцев. Количество кредитов, связанных с клиентами с одним иждевенцем, в 4 раза больше, количество кредитов, связанных с клиентами с тремя иждевенцами; клиенты с 4, 5 и более иждевенцами встречаются гораздо реже.\n",
    "\n",
    "Что касается погашения, клиенты с 4 иждевенцами имеют наибольший процент не погашения ~0,6%."
   ]
  },
  {
   "cell_type": "markdown",
   "metadata": {},
   "source": [
    "### Статус занятости"
   ]
  },
  {
   "cell_type": "code",
   "execution_count": null,
   "metadata": {},
   "outputs": [],
   "source": [
    "plot_stats('Статус занятости',True, False)"
   ]
  },
  {
   "cell_type": "markdown",
   "metadata": {},
   "source": [
    "**Вывод:** Большая часть кредитов берется клиентами с постоянной занятостью.\n",
    "\n",
    "Категория с наивысшим процентом невыплаченных кредитов - это работники с постоянной занятостью (более 0,25%)."
   ]
  },
  {
   "cell_type": "markdown",
   "metadata": {},
   "source": [
    "### Образование клиента"
   ]
  },
  {
   "cell_type": "code",
   "execution_count": null,
   "metadata": {},
   "outputs": [],
   "source": [
    "plot_stats('Образование',True)"
   ]
  },
  {
   "cell_type": "markdown",
   "metadata": {},
   "source": [
    "**Вывод:** Большинство клиентов имеют высшее образование, затем следуют клиенты с средне спициальным и средним образованием. \n",
    "\n",
    "Клиенты с высшим образованием, имеют самую высокую долю невозврата кредита (0,25%)."
   ]
  },
  {
   "cell_type": "markdown",
   "metadata": {},
   "source": [
    "Таким же образом можно проанизировать и остальные признаки в поиске инсайтов и полезных выводов."
   ]
  },
  {
   "cell_type": "markdown",
   "metadata": {},
   "source": [
    "## Аномалии\n",
    "\n",
    "Одна из проблем, о которой мы всегда хотим знать при EDA, - это аномалии в данных. Это может быть связано с неверно набранными числами, ошибками в измерительном оборудовании, или они могут быть действительными, но крайними измерениями. Один из способов количественного поиска аномалий - это просмотр статистики столбца с использованием метода description. Возьмем для примера признак - **Возраст заявителя**"
   ]
  },
  {
   "cell_type": "code",
   "execution_count": null,
   "metadata": {},
   "outputs": [],
   "source": [
    "(data['Возраст заявителя']).describe()"
   ]
  },
  {
   "cell_type": "markdown",
   "metadata": {},
   "source": [
    "Максимальное значение составляет 905 лет, а минимальное -5! Здесь явно ошибка в данных."
   ]
  },
  {
   "cell_type": "code",
   "execution_count": null,
   "metadata": {},
   "outputs": [],
   "source": [
    "data['Возраст заявителя'].plot.hist(title = 'Возраст заявителя');\n",
    "plt.xlabel('Возраст заявителя');"
   ]
  },
  {
   "cell_type": "markdown",
   "metadata": {},
   "source": [
    "Просто из любопытства давайте подгруппируем аномальных клиентов и посмотрим, имеют ли они, как правило, более высокие или низкие показатели дефолта, чем остальные клиенты."
   ]
  },
  {
   "cell_type": "code",
   "execution_count": null,
   "metadata": {},
   "outputs": [],
   "source": [
    "anom = data[data['Возраст заявителя'] == 905]\n",
    "non_anom = data[data['Возраст заявителя'] != 905]\n",
    "print('Кредиты с не аномальными данными %0.2f%%' % (100 * non_anom['target'].mean()))\n",
    "print('Кредиты с аномальными данными %0.2f%% ' % (100 * anom['target'].mean()))"
   ]
  },
  {
   "cell_type": "markdown",
   "metadata": {},
   "source": [
    "Оказывается, что аномалии имеют более низкий уровень дефолта.\n",
    "\n",
    "Обработка аномалий зависит от конкретной ситуации, без установленных правил. Один из самых безопасных подходов - просто установить для аномалий недостающее значение, а затем заполнить их (используя импутацию) перед машинным обучением. В этом случае, поскольку все аномалии имеют одинаковое значение, мы хотим заполнить их одинаковыми значениями в случае, если все эти кредиты имеют что-то общее. Кажется, что аномальные значения имеют некоторое значение, поэтому мы хотим сообщить модели машинного обучения, действительно ли мы заполнили эти значения. В качестве решения мы заполним аномальные значения не числом (np.nan), а затем создадим новый логический столбец, указывающий, было ли значение аномальным."
   ]
  },
  {
   "cell_type": "code",
   "execution_count": null,
   "metadata": {},
   "outputs": [],
   "source": [
    "data['Возраст заявителя (Аномалия)'] = data[\"Возраст заявителя\"] == 905\n",
    "\n",
    "data['Возраст заявителя'].replace({905: np.nan}, inplace = True)\n",
    "\n",
    "data['Возраст заявителя'].plot.hist(title = 'Возраст заявителя');\n",
    "plt.xlabel('Возраст заявителя');"
   ]
  },
  {
   "cell_type": "markdown",
   "metadata": {},
   "source": [
    "## Корреляция\n",
    "\n",
    "Один из способов понять данные - найти корреляции между признакми. Мы можем рассчитать коэффициент корреляции Пирсона между каждой переменной и таргетом, используя метод данных .corr.\n",
    "\n",
    "Коэффициент корреляции - не самый лучший метод для представления «релевантности» объекта, но он дает нам представление о возможных отношениях в данных. Некоторые общие интерпретации абсолютного значения коэффициента корреляции:\n",
    "\n",
    "1. .00-.19 «очень слабый»\n",
    "1. .20-.39 «слабый»\n",
    "1. .40-.59 \"умеренный\"\n",
    "1. .60-.79 «сильный»\n",
    "1. .80-1.0 «очень сильный»"
   ]
  },
  {
   "cell_type": "code",
   "execution_count": null,
   "metadata": {},
   "outputs": [],
   "source": [
    "correlations = data.corr()['target'].sort_values()\n",
    "\n",
    "print('Самая положительная корреляция:\\n', correlations.tail(15))\n",
    "print('\\nСамая отрицательная корреляция:\\n', correlations.head(15))"
   ]
  },
  {
   "cell_type": "markdown",
   "metadata": {},
   "source": [
    "Давайте посмотрим на некоторые из более значимых корреляций: **Процентная ставка** является наиболее позитивной корреляцией. (за исключением TARGET, потому что корреляция переменной с самим собой всегда равна 1!). Корреляция положительная, чем выше процентая ставка, тем с большей вероятностью клиент не выполнит свои обязательства по кредиту."
   ]
  },
  {
   "cell_type": "markdown",
   "metadata": {},
   "source": [
    "### Влияние процентой ставки на погашение"
   ]
  },
  {
   "cell_type": "code",
   "execution_count": null,
   "metadata": {},
   "outputs": [],
   "source": [
    "data['Процентная ставка'] = abs(data['Процентная ставка'])\n",
    "data['Процентная ставка'].corr(data['target'])"
   ]
  },
  {
   "cell_type": "code",
   "execution_count": null,
   "metadata": {},
   "outputs": [],
   "source": [
    "plt.style.use('fivethirtyeight')\n",
    "\n",
    "plt.hist(data['Процентная ставка'], edgecolor = 'k', bins = 25)\n",
    "plt.title('Процентная ставка'); plt.xlabel('Процентная ставка'); plt.ylabel('Кол-во');"
   ]
  },
  {
   "cell_type": "markdown",
   "metadata": {},
   "source": [
    "Само по себе распределение процентной ставки не говорит нам о многом, кроме того, что нет никаких сильных выбросов. Чтобы визуализировать влияние возраста на таргет, мы создадим график оценки плотности ядра (KDE), окрашенный по значению таргета. График оценки плотности ядра показывает распределение одной переменной и может рассматриваться как сглаженная гистограмма (она создается путем вычисления ядра, обычно гауссовского, в каждой точке данных, а затем усреднения всех отдельных ядер для создания единого сглаживания кривая). Для этого графика мы будем использовать Kdeplot."
   ]
  },
  {
   "cell_type": "code",
   "execution_count": null,
   "metadata": {},
   "outputs": [],
   "source": [
    "plt.figure(figsize = (10, 8))\n",
    "\n",
    "sns.kdeplot(data.loc[data['target'] == 0, 'Процентная ставка'], label = 'target == 0')\n",
    "\n",
    "sns.kdeplot(data.loc[data['target'] == 1, 'Процентная ставка'], label = 'target == 1')\n",
    "\n",
    "plt.xlabel('Процентная ставка'); plt.ylabel('Density'); plt.title('Процентная ставка');"
   ]
  },
  {
   "cell_type": "markdown",
   "metadata": {},
   "source": [
    "**Вывод:** Кривая target == 1 растет к концу диапазона. Хотя это не является существенной корреляцией (0.035 коэффициент корреляции), эта переменная, вероятно, будет полезна в модели машинного обучения, потому что она действительно влияет на цель"
   ]
  },
  {
   "cell_type": "markdown",
   "metadata": {},
   "source": [
    "## Парные графики\n",
    "\n",
    "В качестве заключительного исследовательского графика мы можем создать парный график признаков **Одобренный срок кредита** и **Процентной ставки**. Парный график - отличный инструмент для исследования, потому что он позволяет нам видеть отношения между несколькими парами признаков, а также распределения отдельных признаков. Здесь мы используем библиотеку визуализации seaborn и функцию PairGrid для создания графика пар с диаграммами рассеяния в верхнем треугольнике, гистограммами на диагонали, а также двухмерными графиками плотности ядра и коэффициентами корреляции в нижнем треугольнике."
   ]
  },
  {
   "cell_type": "code",
   "execution_count": null,
   "metadata": {
    "collapsed": true
   },
   "outputs": [],
   "source": [
    "ext_data = data[['target', 'Процентная ставка', 'Одобренный срок кредита','Переплата по кредиту','Сумма ежемесячного платежа']]"
   ]
  },
  {
   "cell_type": "code",
   "execution_count": null,
   "metadata": {
    "collapsed": true
   },
   "outputs": [],
   "source": [
    "age_data = data[['target', 'Процентная ставка']]"
   ]
  },
  {
   "cell_type": "code",
   "execution_count": null,
   "metadata": {},
   "outputs": [],
   "source": [
    "plot_data = ext_data.drop('Процентная ставка', axis=1).copy()\n",
    "\n",
    "plot_data['Ставка'] = age_data['Процентная ставка']\n",
    "\n",
    "plot_data = plot_data.dropna().loc[:100000, :]\n",
    "\n",
    "def corr_func(x, y, **kwargs):\n",
    "    r = np.corrcoef(x, y)[0][1]\n",
    "    ax = plt.gca()\n",
    "    ax.annotate(\"r = {:.2f}\".format(r),\n",
    "                xy=(.2, .8), xycoords=ax.transAxes,\n",
    "                size = 20)\n",
    "\n",
    "grid = sns.PairGrid(data = plot_data, size = 3, diag_sharey=False,\n",
    "                    hue = 'target', \n",
    "                    vars = [x for x in list(plot_data.columns) if x != 'target'])\n",
    "\n",
    "grid.map_upper(plt.scatter, alpha = 0.2)\n",
    "\n",
    "grid.map_diag(sns.kdeplot)\n",
    "\n",
    "grid.map_lower(sns.kdeplot, cmap = plt.cm.OrRd_r);\n",
    "\n",
    "plt.suptitle('Парный график', size = 32, y = 1.05);"
   ]
  }
 ],
 "metadata": {
  "kernelspec": {
   "display_name": "Python 3",
   "language": "python",
   "name": "python3"
  },
  "language_info": {
   "codemirror_mode": {
    "name": "ipython",
    "version": 3
   },
   "file_extension": ".py",
   "mimetype": "text/x-python",
   "name": "python",
   "nbconvert_exporter": "python",
   "pygments_lexer": "ipython3",
   "version": "3.6.2"
  }
 },
 "nbformat": 4,
 "nbformat_minor": 2
}
