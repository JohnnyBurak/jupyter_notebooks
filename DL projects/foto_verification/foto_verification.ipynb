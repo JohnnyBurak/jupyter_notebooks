{
 "cells": [
  {
   "cell_type": "markdown",
   "metadata": {
    "colab_type": "text",
    "id": "u3bB2jeaJ6sA"
   },
   "source": [
    "# Пример верификации человека на фотографии с помощью библиотеки dlib\n",
    "\n",
    "Верификация - это задача определения, находится ли на изображении нужный нам человек, или нет.\n",
    "\n",
    "Мы будем решать задачу верификации человека на двух фотографиях. Нам нужно будет определить, один человек изображен на двух фотографиях, или нет."
   ]
  },
  {
   "cell_type": "code",
   "execution_count": 1,
   "metadata": {
    "collapsed": true
   },
   "outputs": [],
   "source": [
    "#!conda install -c conda-forge dlib"
   ]
  },
  {
   "cell_type": "code",
   "execution_count": 2,
   "metadata": {
    "colab": {},
    "colab_type": "code",
    "collapsed": true,
    "id": "oC_v7768NHIw"
   },
   "outputs": [],
   "source": [
    "import dlib\n",
    "from skimage import io\n",
    "from scipy.spatial import distance"
   ]
  },
  {
   "cell_type": "markdown",
   "metadata": {
    "colab_type": "text",
    "id": "q0N9s7xQNQBC"
   },
   "source": [
    "## Создаем модели для поиска и нахождения лиц в dlib\n",
    "\n",
    "Предварительно обученные модели можно скачать по ссылкам:\n",
    "\n",
    "[Модель для выделения лиц по 68 ключевым точкам](http://dlib.net/files/shape_predictor_68_face_landmarks.dat.bz2) \n",
    "    \n",
    "[Нейронная сеть ResNet34 для распознавания лиц](http://dlib.net/files/dlib_face_recognition_resnet_model_v1.dat.bz2) \n",
    "\n",
    "Файлы с моделями нужно разархивировать и положить в каталог с notebook"
   ]
  },
  {
   "cell_type": "markdown",
   "metadata": {
    "colab_type": "text",
    "id": "uLrNItJHOk2t"
   },
   "source": [
    "Создаем модели для распознавания лиц на основе ранее загруженных файлов:"
   ]
  },
  {
   "cell_type": "code",
   "execution_count": 3,
   "metadata": {
    "colab": {},
    "colab_type": "code",
    "collapsed": true,
    "id": "B1uFowSuNLt6"
   },
   "outputs": [],
   "source": [
    "sp = dlib.shape_predictor('shape_predictor_68_face_landmarks.dat')\n",
    "facerec = dlib.face_recognition_model_v1('dlib_face_recognition_resnet_model_v1.dat')\n",
    "detector = dlib.get_frontal_face_detector()"
   ]
  },
  {
   "cell_type": "markdown",
   "metadata": {},
   "source": [
    "Напишем функцию для загрузки фото, поиска лица и извлечения дескриптора"
   ]
  },
  {
   "cell_type": "code",
   "execution_count": 4,
   "metadata": {
    "collapsed": true
   },
   "outputs": [],
   "source": [
    "def getPhoto(img_path):\n",
    "    img = io.imread(img_path)\n",
    "    win1 = dlib.image_window()\n",
    "    win1.clear_overlay()\n",
    "    win1.set_image(img)\n",
    "    dets_webcam = detector(img, 1)\n",
    "    for k, d in enumerate(dets_webcam):\n",
    "        print(\"Detection {}: Left: {} Top: {} Right: {} Bottom: {}\".format(\n",
    "                k, d.left(), d.top(), d.right(), d.bottom()))\n",
    "    shape = sp(img, d)\n",
    "    win1.clear_overlay()\n",
    "    win1.add_overlay(d)\n",
    "    win1.add_overlay(shape)\n",
    "    face_descriptor = facerec.compute_face_descriptor(img, shape)\n",
    "    return face_descriptor"
   ]
  },
  {
   "cell_type": "markdown",
   "metadata": {
    "colab_type": "text",
    "id": "rHPSllQdRa7L"
   },
   "source": [
    "Загружаем и показываем первую фотографию. Это будет фотография удостоверения личности:"
   ]
  },
  {
   "cell_type": "markdown",
   "metadata": {},
   "source": [
    "<img src='udv.jpg'>"
   ]
  },
  {
   "cell_type": "code",
   "execution_count": 9,
   "metadata": {
    "colab": {},
    "colab_type": "code",
    "id": "qXfe5yoWNVK7"
   },
   "outputs": [
    {
     "name": "stdout",
     "output_type": "stream",
     "text": [
      "Detection 0: Left: 44 Top: 175 Right: 151 Bottom: 283\n"
     ]
    }
   ],
   "source": [
    "fd = getPhoto('udv.jpg')"
   ]
  },
  {
   "cell_type": "markdown",
   "metadata": {
    "colab_type": "text",
    "id": "4hHF7SgqRxu2"
   },
   "source": [
    "Можно напечатать дескриптор и посмотреть, как он выглядит:"
   ]
  },
  {
   "cell_type": "code",
   "execution_count": 7,
   "metadata": {
    "colab": {
     "base_uri": "https://localhost:8080/",
     "height": 2368
    },
    "colab_type": "code",
    "id": "-e3pqeANRwzZ",
    "outputId": "4a8bd109-0318-4876-8200-b66e62fe1cfb"
   },
   "outputs": [
    {
     "name": "stdout",
     "output_type": "stream",
     "text": [
      "-0.0771049\n",
      "0.065285\n",
      "0.0309488\n",
      "-0.0370083\n",
      "0.00955118\n",
      "-0.0114499\n",
      "0.000110027\n",
      "-0.0847156\n",
      "0.132765\n",
      "-0.0838252\n",
      "0.202945\n",
      "-0.0144117\n",
      "-0.284247\n",
      "-0.0558588\n",
      "0.0170282\n",
      "0.10459\n",
      "-0.079183\n",
      "-0.159464\n",
      "-0.0899877\n",
      "0.0187306\n",
      "0.125821\n",
      "-0.0402909\n",
      "0.0165596\n",
      "0.0342636\n",
      "-0.106246\n",
      "-0.241602\n",
      "-0.0958455\n",
      "-0.0799437\n",
      "-0.0574318\n",
      "-0.0209923\n",
      "-0.0502574\n",
      "0.00248446\n",
      "-0.154546\n",
      "-0.0307295\n",
      "0.0414287\n",
      "0.0831917\n",
      "-0.0721541\n",
      "-0.141036\n",
      "0.289932\n",
      "-0.00110112\n",
      "-0.1522\n",
      "-0.0496348\n",
      "0.0524119\n",
      "0.176063\n",
      "0.136312\n",
      "0.0143042\n",
      "0.00944779\n",
      "-0.0507398\n",
      "0.117291\n",
      "-0.234684\n",
      "0.0911167\n",
      "0.132672\n",
      "0.188599\n",
      "0.130452\n",
      "0.0871851\n",
      "-0.189929\n",
      "0.0908159\n",
      "0.154371\n",
      "-0.227968\n",
      "0.0248948\n",
      "-0.0231478\n",
      "-0.140363\n",
      "-0.0633948\n",
      "-0.070928\n",
      "0.189218\n",
      "0.147146\n",
      "-0.110395\n",
      "-0.140403\n",
      "0.188762\n",
      "-0.0823067\n",
      "-0.0870086\n",
      "0.0976417\n",
      "-0.163077\n",
      "-0.223851\n",
      "-0.243198\n",
      "0.0725582\n",
      "0.350424\n",
      "0.190694\n",
      "-0.211127\n",
      "-0.000116657\n",
      "0.0182665\n",
      "-0.0352477\n",
      "0.0801457\n",
      "0.0878295\n",
      "-0.0430876\n",
      "-0.0115789\n",
      "-0.099417\n",
      "-0.00926254\n",
      "0.176005\n",
      "-0.0220848\n",
      "-0.116507\n",
      "0.163242\n",
      "0.0131932\n",
      "0.049626\n",
      "0.0324228\n",
      "-0.0107915\n",
      "0.0146748\n",
      "0.0112529\n",
      "-0.170617\n",
      "0.0143054\n",
      "0.0288237\n",
      "-0.0498628\n",
      "-0.0447238\n",
      "0.0925404\n",
      "-0.111286\n",
      "0.0161813\n",
      "0.00179273\n",
      "-0.0718755\n",
      "-0.0822723\n",
      "-0.0435644\n",
      "-0.158362\n",
      "-0.00297592\n",
      "0.0699308\n",
      "-0.285995\n",
      "0.17322\n",
      "0.148062\n",
      "0.0386206\n",
      "0.110642\n",
      "0.0656754\n",
      "0.0588259\n",
      "0.0809238\n",
      "-0.0491595\n",
      "-0.239021\n",
      "-0.100207\n",
      "0.142267\n",
      "0.106556\n",
      "0.087462\n",
      "0.0314917\n"
     ]
    }
   ],
   "source": [
    "print(fd)"
   ]
  },
  {
   "cell_type": "markdown",
   "metadata": {
    "colab_type": "text",
    "id": "_PEBQdxBbk6y"
   },
   "source": [
    "Загружаем и обрабатываем вторую фотографию"
   ]
  },
  {
   "cell_type": "markdown",
   "metadata": {},
   "source": [
    "<img src='1.jpg'>"
   ]
  },
  {
   "cell_type": "code",
   "execution_count": 10,
   "metadata": {
    "colab": {
     "base_uri": "https://localhost:8080/",
     "height": 35
    },
    "colab_type": "code",
    "id": "bLJqeyWnbszM",
    "outputId": "099a7d8f-b6da-48bd-beef-b4368ff3aa69"
   },
   "outputs": [
    {
     "name": "stdout",
     "output_type": "stream",
     "text": [
      "Detection 0: Left: 83 Top: 113 Right: 135 Bottom: 164\n"
     ]
    }
   ],
   "source": [
    "fd2 = getPhoto('1.jpg')"
   ]
  },
  {
   "cell_type": "markdown",
   "metadata": {},
   "source": [
    "Рассчитываем Евклидово расстояние между двумя дексрипторами лиц\n",
    "\n",
    "В dlib рекомендуется использовать граничное значение Евклидова расстояния между дескрипторами лиц равное 0.6. \n",
    "Если Евклидово расстояние меньше 0.6, значит фотографии принадлежат одному человеку."
   ]
  },
  {
   "cell_type": "code",
   "execution_count": 11,
   "metadata": {
    "colab": {
     "base_uri": "https://localhost:8080/",
     "height": 35
    },
    "colab_type": "code",
    "id": "GB7ODxeDb8C-",
    "outputId": "cf7b6d31-8b25-451b-db9e-a9abb3846503"
   },
   "outputs": [
    {
     "name": "stdout",
     "output_type": "stream",
     "text": [
      "0.353451244939058\n"
     ]
    }
   ],
   "source": [
    "a = distance.euclidean(fd, fd2)\n",
    "print(a)"
   ]
  },
  {
   "cell_type": "markdown",
   "metadata": {},
   "source": [
    "Одназначно это один и тот же человек"
   ]
  },
  {
   "cell_type": "markdown",
   "metadata": {},
   "source": [
    "Попробуем разные фотографии"
   ]
  },
  {
   "cell_type": "markdown",
   "metadata": {},
   "source": [
    "<img src='1.png'>"
   ]
  },
  {
   "cell_type": "code",
   "execution_count": 13,
   "metadata": {},
   "outputs": [
    {
     "name": "stdout",
     "output_type": "stream",
     "text": [
      "Detection 0: Left: 78 Top: 38 Right: 129 Bottom: 90\n"
     ]
    }
   ],
   "source": [
    "fd3 = getPhoto('1.png')"
   ]
  },
  {
   "cell_type": "code",
   "execution_count": 14,
   "metadata": {},
   "outputs": [
    {
     "name": "stdout",
     "output_type": "stream",
     "text": [
      "0.35310597958194556\n"
     ]
    }
   ],
   "source": [
    "a = distance.euclidean(fd, fd3)\n",
    "print(a)"
   ]
  },
  {
   "cell_type": "markdown",
   "metadata": {},
   "source": [
    "<img src='2.jpg'>"
   ]
  },
  {
   "cell_type": "code",
   "execution_count": 15,
   "metadata": {},
   "outputs": [
    {
     "name": "stdout",
     "output_type": "stream",
     "text": [
      "Detection 0: Left: 426 Top: 546 Right: 533 Bottom: 653\n",
      "0.48663924860117075\n"
     ]
    }
   ],
   "source": [
    "fd4 = getPhoto('2.jpg')\n",
    "a = distance.euclidean(fd, fd4)\n",
    "print(a)"
   ]
  },
  {
   "cell_type": "markdown",
   "metadata": {},
   "source": [
    "<img src='3.jpg'>"
   ]
  },
  {
   "cell_type": "code",
   "execution_count": 16,
   "metadata": {},
   "outputs": [
    {
     "name": "stdout",
     "output_type": "stream",
     "text": [
      "Detection 0: Left: 106 Top: 116 Right: 195 Bottom: 206\n",
      "0.4035034187142069\n"
     ]
    }
   ],
   "source": [
    "fd5 = getPhoto('3.jpg')\n",
    "a = distance.euclidean(fd, fd5)\n",
    "print(a)"
   ]
  },
  {
   "cell_type": "markdown",
   "metadata": {},
   "source": [
    "И снова везде я. Поробуем не мои фото."
   ]
  },
  {
   "cell_type": "markdown",
   "metadata": {},
   "source": [
    "<img src='k.jpg'>"
   ]
  },
  {
   "cell_type": "code",
   "execution_count": 18,
   "metadata": {},
   "outputs": [
    {
     "name": "stdout",
     "output_type": "stream",
     "text": [
      "Detection 0: Left: 27 Top: 170 Right: 348 Bottom: 491\n",
      "0.8272546743740238\n"
     ]
    }
   ],
   "source": [
    "k = getPhoto('k.jpg')\n",
    "a = distance.euclidean(fd, k)\n",
    "print(a)"
   ]
  },
  {
   "cell_type": "markdown",
   "metadata": {},
   "source": [
    "<img src='o.jpg'>"
   ]
  },
  {
   "cell_type": "code",
   "execution_count": 19,
   "metadata": {},
   "outputs": [
    {
     "name": "stdout",
     "output_type": "stream",
     "text": [
      "Detection 0: Left: 12 Top: 81 Right: 167 Bottom: 236\n",
      "0.9863801458574821\n"
     ]
    }
   ],
   "source": [
    "o = getPhoto('o.jpg')\n",
    "a = distance.euclidean(fd, o)\n",
    "print(a)"
   ]
  },
  {
   "cell_type": "markdown",
   "metadata": {},
   "source": [
    "На этих фото явно не я"
   ]
  },
  {
   "cell_type": "markdown",
   "metadata": {},
   "source": [
    "Проверка на очень похожих людях и сильно изменившихся по сравнению с фото на паспорте."
   ]
  },
  {
   "cell_type": "markdown",
   "metadata": {},
   "source": [
    "<img src='passport1.jpg'>"
   ]
  },
  {
   "cell_type": "code",
   "execution_count": 22,
   "metadata": {},
   "outputs": [
    {
     "name": "stdout",
     "output_type": "stream",
     "text": [
      "Detection 0: Left: 221 Top: 222 Right: 407 Bottom: 407\n"
     ]
    }
   ],
   "source": [
    "fd = getPhoto('passport1.jpg')"
   ]
  },
  {
   "cell_type": "markdown",
   "metadata": {},
   "source": [
    "<img src=\"passport2.jpg\">"
   ]
  },
  {
   "cell_type": "code",
   "execution_count": 23,
   "metadata": {},
   "outputs": [
    {
     "name": "stdout",
     "output_type": "stream",
     "text": [
      "Detection 0: Left: 216 Top: 167 Right: 439 Bottom: 390\n"
     ]
    }
   ],
   "source": [
    "fd2 = getPhoto('passport2.jpg')"
   ]
  },
  {
   "cell_type": "code",
   "execution_count": 24,
   "metadata": {
    "scrolled": true
   },
   "outputs": [
    {
     "name": "stdout",
     "output_type": "stream",
     "text": [
      "0.490645105638294\n"
     ]
    }
   ],
   "source": [
    "a = distance.euclidean(fd, fd2)\n",
    "print(a)"
   ]
  },
  {
   "cell_type": "markdown",
   "metadata": {},
   "source": [
    "Один и тот же человек не смотря на то, что внешне сильно не похож."
   ]
  },
  {
   "cell_type": "markdown",
   "metadata": {},
   "source": [
    "<img src =\"d1.jpg\">"
   ]
  },
  {
   "cell_type": "code",
   "execution_count": 25,
   "metadata": {},
   "outputs": [
    {
     "name": "stdout",
     "output_type": "stream",
     "text": [
      "Detection 0: Left: 81 Top: 98 Right: 236 Bottom: 253\n"
     ]
    }
   ],
   "source": [
    "fd = getPhoto('d1.jpg')"
   ]
  },
  {
   "cell_type": "markdown",
   "metadata": {},
   "source": [
    "<img src =\"d2.jpg\">"
   ]
  },
  {
   "cell_type": "code",
   "execution_count": 26,
   "metadata": {},
   "outputs": [
    {
     "name": "stdout",
     "output_type": "stream",
     "text": [
      "Detection 0: Left: 35 Top: 77 Right: 221 Bottom: 263\n"
     ]
    }
   ],
   "source": [
    "fd2 = getPhoto('d2.jpg')"
   ]
  },
  {
   "cell_type": "code",
   "execution_count": 27,
   "metadata": {},
   "outputs": [
    {
     "name": "stdout",
     "output_type": "stream",
     "text": [
      "0.5012867697949589\n"
     ]
    }
   ],
   "source": [
    "a = distance.euclidean(fd, fd2)\n",
    "print(a)"
   ]
  },
  {
   "cell_type": "markdown",
   "metadata": {},
   "source": [
    "Здесь вышел прокол. Хоть и разные люди, но засчитало как похожего."
   ]
  },
  {
   "cell_type": "markdown",
   "metadata": {},
   "source": [
    "Создадим телеграм бота бля верификации фото"
   ]
  },
  {
   "cell_type": "code",
   "execution_count": 28,
   "metadata": {
    "collapsed": true
   },
   "outputs": [],
   "source": [
    "import telebot\n",
    "\n",
    "bot = telebot.TeleBot(\"\")"
   ]
  },
  {
   "cell_type": "code",
   "execution_count": 29,
   "metadata": {
    "collapsed": true
   },
   "outputs": [],
   "source": [
    "def getPhotoBot(img_path):\n",
    "    img = io.imread(\"https://api.telegram.org/file/bot/\"+img_path)\n",
    "    dets_webcam = detector(img, 1)\n",
    "    for k, d in enumerate(dets_webcam):\n",
    "        print(\"Detection {}: Left: {} Top: {} Right: {} Bottom: {}\".format(\n",
    "                k, d.left(), d.top(), d.right(), d.bottom()))\n",
    "    shape = sp(img, d)\n",
    "    face_descriptor = facerec.compute_face_descriptor(img, shape)\n",
    "    return face_descriptor"
   ]
  },
  {
   "cell_type": "code",
   "execution_count": 30,
   "metadata": {
    "collapsed": true
   },
   "outputs": [],
   "source": [
    "i = 1\n",
    "fd1 = \"\"\n",
    "fd2 = \"\""
   ]
  },
  {
   "cell_type": "code",
   "execution_count": null,
   "metadata": {},
   "outputs": [],
   "source": [
    "@bot.message_handler(commands=['start', 'help'])\n",
    "def send_welcome(message):\n",
    "    bot.reply_to(message, \"Howdy, how are you doing?\")\n",
    "\n",
    "@bot.message_handler(func=lambda message: True)\n",
    "def echo_all(message):\n",
    "    bot.reply_to(message, message.text)\n",
    "\n",
    "@bot.message_handler(content_types=['photo'])\n",
    "def handle_docs_photo(message):\n",
    "    global i, fd1, fd2\n",
    "    try:\n",
    "        file_info = bot.get_file(message.photo[len(message.photo)-1].file_id)\n",
    "        downloaded_file = bot.download_file(file_info.file_path)\n",
    "        if i % 2 != 0: \n",
    "            fd1 = first_photo(file_info.file_path)\n",
    "        else:\n",
    "            fd2 = second_photo(file_info.file_path)\n",
    "        if fd1 != \"\" and fd2 != \"\":\n",
    "            a = distance.euclidean(fd1, fd2)\n",
    "            bot.reply_to(message,a) \n",
    "        i = i + 1\n",
    "        print(i)\n",
    "        print(type(fd1))\n",
    "        print(type(fd2))\n",
    "    except Exception as e:\n",
    "        bot.reply_to(message,e )    \n",
    "    \n",
    "bot.polling()"
   ]
  },
  {
   "cell_type": "code",
   "execution_count": null,
   "metadata": {
    "collapsed": true
   },
   "outputs": [],
   "source": []
  },
  {
   "cell_type": "code",
   "execution_count": null,
   "metadata": {
    "collapsed": true
   },
   "outputs": [],
   "source": []
  },
  {
   "cell_type": "code",
   "execution_count": null,
   "metadata": {
    "collapsed": true
   },
   "outputs": [],
   "source": []
  }
 ],
 "metadata": {
  "accelerator": "GPU",
  "colab": {
   "name": "foto_verification.ipynb",
   "provenance": [],
   "version": "0.3.2"
  },
  "kernelspec": {
   "display_name": "Python 3",
   "language": "python",
   "name": "python3"
  },
  "language_info": {
   "codemirror_mode": {
    "name": "ipython",
    "version": 3
   },
   "file_extension": ".py",
   "mimetype": "text/x-python",
   "name": "python",
   "nbconvert_exporter": "python",
   "pygments_lexer": "ipython3",
   "version": "3.6.2"
  }
 },
 "nbformat": 4,
 "nbformat_minor": 1
}
