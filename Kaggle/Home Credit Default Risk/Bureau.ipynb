{
 "cells": [
  {
   "cell_type": "code",
   "execution_count": 2,
   "metadata": {
    "collapsed": true
   },
   "outputs": [],
   "source": [
    "import pandas as pd\n",
    "import numpy as np\n",
    "import seaborn as sns\n",
    "import matplotlib.pyplot as plt\n",
    "import gc\n",
    "\n",
    "%matplotlib inline"
   ]
  },
  {
   "cell_type": "code",
   "execution_count": 3,
   "metadata": {
    "collapsed": true
   },
   "outputs": [],
   "source": [
    "bureau = pd.read_csv('../input/bureau.csv', nrows=20000)\n",
    "bb = pd.read_csv('../input/bureau_balance.csv', nrows=20000)"
   ]
  },
  {
   "cell_type": "markdown",
   "metadata": {},
   "source": [
    "<font size=3> STATUS: \n",
    "\n",
    "Status of Credit Bureau loan during the month (active, closed, DPD0-30, ? )\n",
    "\n",
    "C means closed\n",
    "\n",
    "X means status unknown,\n",
    "\n",
    "0 means no DPD, \n",
    "\n",
    "1 means maximal did during month between 1-30, \n",
    "\n",
    "2 means DPD 31-60,\n",
    "\n",
    "? 5 means DPD 120+ or sold or written off"
   ]
  },
  {
   "cell_type": "code",
   "execution_count": 3,
   "metadata": {},
   "outputs": [
    {
     "data": {
      "text/html": [
       "<div>\n",
       "<style scoped>\n",
       "    .dataframe tbody tr th:only-of-type {\n",
       "        vertical-align: middle;\n",
       "    }\n",
       "\n",
       "    .dataframe tbody tr th {\n",
       "        vertical-align: top;\n",
       "    }\n",
       "\n",
       "    .dataframe thead th {\n",
       "        text-align: right;\n",
       "    }\n",
       "</style>\n",
       "<table border=\"1\" class=\"dataframe\">\n",
       "  <thead>\n",
       "    <tr style=\"text-align: right;\">\n",
       "      <th></th>\n",
       "      <th>SK_ID_BUREAU</th>\n",
       "      <th>MONTHS_BALANCE</th>\n",
       "      <th>STATUS</th>\n",
       "    </tr>\n",
       "  </thead>\n",
       "  <tbody>\n",
       "    <tr>\n",
       "      <th>0</th>\n",
       "      <td>5715448</td>\n",
       "      <td>0</td>\n",
       "      <td>C</td>\n",
       "    </tr>\n",
       "    <tr>\n",
       "      <th>1</th>\n",
       "      <td>5715448</td>\n",
       "      <td>-1</td>\n",
       "      <td>C</td>\n",
       "    </tr>\n",
       "    <tr>\n",
       "      <th>2</th>\n",
       "      <td>5715448</td>\n",
       "      <td>-2</td>\n",
       "      <td>C</td>\n",
       "    </tr>\n",
       "    <tr>\n",
       "      <th>3</th>\n",
       "      <td>5715448</td>\n",
       "      <td>-3</td>\n",
       "      <td>C</td>\n",
       "    </tr>\n",
       "    <tr>\n",
       "      <th>4</th>\n",
       "      <td>5715448</td>\n",
       "      <td>-4</td>\n",
       "      <td>C</td>\n",
       "    </tr>\n",
       "  </tbody>\n",
       "</table>\n",
       "</div>"
      ],
      "text/plain": [
       "   SK_ID_BUREAU  MONTHS_BALANCE STATUS\n",
       "0       5715448               0      C\n",
       "1       5715448              -1      C\n",
       "2       5715448              -2      C\n",
       "3       5715448              -3      C\n",
       "4       5715448              -4      C"
      ]
     },
     "execution_count": 3,
     "metadata": {},
     "output_type": "execute_result"
    }
   ],
   "source": [
    "bb.head()"
   ]
  },
  {
   "cell_type": "code",
   "execution_count": 4,
   "metadata": {},
   "outputs": [
    {
     "data": {
      "text/plain": [
       "SK_ID_BUREAU      0\n",
       "MONTHS_BALANCE    0\n",
       "STATUS            0\n",
       "dtype: int64"
      ]
     },
     "execution_count": 4,
     "metadata": {},
     "output_type": "execute_result"
    }
   ],
   "source": [
    "bb.isnull().sum()"
   ]
  },
  {
   "cell_type": "code",
   "execution_count": 5,
   "metadata": {},
   "outputs": [
    {
     "data": {
      "text/plain": [
       "<matplotlib.axes._subplots.AxesSubplot at 0x123e04a90>"
      ]
     },
     "execution_count": 5,
     "metadata": {},
     "output_type": "execute_result"
    },
    {
     "data": {
      "image/png": "[encoded data removed]",
      "text/plain": [
       "<matplotlib.figure.Figure at 0x123e04be0>"
      ]
     },
     "metadata": {},
     "output_type": "display_data"
    }
   ],
   "source": [
    "bb.groupby('STATUS').size().plot(kind='bar')"
   ]
  },
  {
   "cell_type": "markdown",
   "metadata": {},
   "source": [
    "<font size=3> merely a tiny part of the bureau balance records are overdue.\n",
    "So we decided to merge all overdue cates into one"
   ]
  },
  {
   "cell_type": "code",
   "execution_count": 6,
   "metadata": {},
   "outputs": [
    {
     "data": {
      "text/plain": [
       "<matplotlib.axes._subplots.AxesSubplot at 0x115a194e0>"
      ]
     },
     "execution_count": 6,
     "metadata": {},
     "output_type": "execute_result"
    },
    {
     "data": {
      "image/png": "[encoded data removed]",
      "text/plain": [
       "<matplotlib.figure.Figure at 0x10dc18d68>"
      ]
     },
     "metadata": {},
     "output_type": "display_data"
    }
   ],
   "source": [
    "for i in range(1, 6):\n",
    "    bb[bb['STATUS'] == str(i)] = 'PASS_DUE'\n",
    "bb.groupby('STATUS').size().plot(kind='bar')"
   ]
  },
  {
   "cell_type": "markdown",
   "metadata": {},
   "source": [
    "<font size=3> take a glimpse on some records"
   ]
  },
  {
   "cell_type": "code",
   "execution_count": 7,
   "metadata": {},
   "outputs": [
    {
     "data": {
      "text/html": [
       "<div>\n",
       "<style scoped>\n",
       "    .dataframe tbody tr th:only-of-type {\n",
       "        vertical-align: middle;\n",
       "    }\n",
       "\n",
       "    .dataframe tbody tr th {\n",
       "        vertical-align: top;\n",
       "    }\n",
       "\n",
       "    .dataframe thead th {\n",
       "        text-align: right;\n",
       "    }\n",
       "</style>\n",
       "<table border=\"1\" class=\"dataframe\">\n",
       "  <thead>\n",
       "    <tr style=\"text-align: right;\">\n",
       "      <th></th>\n",
       "      <th>SK_ID_BUREAU</th>\n",
       "      <th>MONTHS_BALANCE</th>\n",
       "      <th>STATUS</th>\n",
       "    </tr>\n",
       "  </thead>\n",
       "  <tbody>\n",
       "    <tr>\n",
       "      <th>15881597</th>\n",
       "      <td>6291463</td>\n",
       "      <td>0</td>\n",
       "      <td>C</td>\n",
       "    </tr>\n",
       "    <tr>\n",
       "      <th>15881598</th>\n",
       "      <td>6291463</td>\n",
       "      <td>-1</td>\n",
       "      <td>C</td>\n",
       "    </tr>\n",
       "    <tr>\n",
       "      <th>15881599</th>\n",
       "      <td>6291463</td>\n",
       "      <td>-2</td>\n",
       "      <td>C</td>\n",
       "    </tr>\n",
       "    <tr>\n",
       "      <th>15881600</th>\n",
       "      <td>6291463</td>\n",
       "      <td>-3</td>\n",
       "      <td>C</td>\n",
       "    </tr>\n",
       "    <tr>\n",
       "      <th>15881601</th>\n",
       "      <td>6291463</td>\n",
       "      <td>-4</td>\n",
       "      <td>C</td>\n",
       "    </tr>\n",
       "    <tr>\n",
       "      <th>15881602</th>\n",
       "      <td>6291463</td>\n",
       "      <td>-5</td>\n",
       "      <td>C</td>\n",
       "    </tr>\n",
       "    <tr>\n",
       "      <th>15881603</th>\n",
       "      <td>6291463</td>\n",
       "      <td>-6</td>\n",
       "      <td>C</td>\n",
       "    </tr>\n",
       "    <tr>\n",
       "      <th>15881604</th>\n",
       "      <td>6291463</td>\n",
       "      <td>-7</td>\n",
       "      <td>0</td>\n",
       "    </tr>\n",
       "    <tr>\n",
       "      <th>15881605</th>\n",
       "      <td>6291463</td>\n",
       "      <td>-8</td>\n",
       "      <td>0</td>\n",
       "    </tr>\n",
       "    <tr>\n",
       "      <th>15881606</th>\n",
       "      <td>6291463</td>\n",
       "      <td>-9</td>\n",
       "      <td>0</td>\n",
       "    </tr>\n",
       "    <tr>\n",
       "      <th>15881607</th>\n",
       "      <td>6291463</td>\n",
       "      <td>-10</td>\n",
       "      <td>0</td>\n",
       "    </tr>\n",
       "    <tr>\n",
       "      <th>15881608</th>\n",
       "      <td>6291463</td>\n",
       "      <td>-11</td>\n",
       "      <td>0</td>\n",
       "    </tr>\n",
       "    <tr>\n",
       "      <th>15881609</th>\n",
       "      <td>6291463</td>\n",
       "      <td>-12</td>\n",
       "      <td>0</td>\n",
       "    </tr>\n",
       "    <tr>\n",
       "      <th>15881610</th>\n",
       "      <td>6291463</td>\n",
       "      <td>-13</td>\n",
       "      <td>0</td>\n",
       "    </tr>\n",
       "    <tr>\n",
       "      <th>15881611</th>\n",
       "      <td>6291463</td>\n",
       "      <td>-14</td>\n",
       "      <td>0</td>\n",
       "    </tr>\n",
       "    <tr>\n",
       "      <th>15881612</th>\n",
       "      <td>6291463</td>\n",
       "      <td>-15</td>\n",
       "      <td>0</td>\n",
       "    </tr>\n",
       "  </tbody>\n",
       "</table>\n",
       "</div>"
      ],
      "text/plain": [
       "         SK_ID_BUREAU MONTHS_BALANCE STATUS\n",
       "15881597      6291463              0      C\n",
       "15881598      6291463             -1      C\n",
       "15881599      6291463             -2      C\n",
       "15881600      6291463             -3      C\n",
       "15881601      6291463             -4      C\n",
       "15881602      6291463             -5      C\n",
       "15881603      6291463             -6      C\n",
       "15881604      6291463             -7      0\n",
       "15881605      6291463             -8      0\n",
       "15881606      6291463             -9      0\n",
       "15881607      6291463            -10      0\n",
       "15881608      6291463            -11      0\n",
       "15881609      6291463            -12      0\n",
       "15881610      6291463            -13      0\n",
       "15881611      6291463            -14      0\n",
       "15881612      6291463            -15      0"
      ]
     },
     "execution_count": 7,
     "metadata": {},
     "output_type": "execute_result"
    }
   ],
   "source": [
    "bb[bb['SK_ID_BUREAU'] == 6291463]"
   ]
  },
  {
   "cell_type": "markdown",
   "metadata": {},
   "source": [
    "<font size=3> apprently this credit went go through 2 types of status."
   ]
  },
  {
   "cell_type": "code",
   "execution_count": 8,
   "metadata": {
    "collapsed": true
   },
   "outputs": [],
   "source": [
    "def one_hot_encoding(df, nan_as_category):\n",
    "    original_columns = list(df.columns)\n",
    "    categorical_columns = [\n",
    "        col for col in df.columns if df[col].dtype == 'object']\n",
    "    df = pd.get_dummies(df, columns=categorical_columns,\n",
    "                        dummy_na=nan_as_category)\n",
    "    new_columns = [c for c in df.columns if c not in original_columns]\n",
    "    return df, new_columns"
   ]
  },
  {
   "cell_type": "code",
   "execution_count": 9,
   "metadata": {
    "collapsed": true
   },
   "outputs": [],
   "source": [
    "# manual feature - has status changed over the records?\n",
    "def see_change(x):\n",
    "    return x.nunique() > 1\n",
    "\n",
    "bb_agg = bb.groupby('SK_ID_BUREAU')[['STATUS']].\\\n",
    "            agg(see_change).rename(columns={'STATUS': 'STATUS_CHANGE'}).astype('float')\n",
    "\n",
    "# get the latest status for a certain bureau id\n",
    "def find_lateset_status(df):\n",
    "    # note that month balance is negative\n",
    "    return df[df['MONTHS_BALANCE'] == df['MONTHS_BALANCE'].max()]['STATUS'].values[0]\n",
    "\n",
    "latest_status = {}\n",
    "for sk_id, sub_df in bb.groupby('SK_ID_BUREAU'):\n",
    "    latest_status[sk_id] = find_lateset_status(sub_df)\n",
    "bb_agg['LATEST_STATUS'] = pd.Series(latest_status)"
   ]
  },
  {
   "cell_type": "markdown",
   "metadata": {},
   "source": [
    "<font size=4> see the distribution on LATEST_STATUS"
   ]
  },
  {
   "cell_type": "code",
   "execution_count": 10,
   "metadata": {
    "collapsed": true
   },
   "outputs": [],
   "source": [
    "bb_agg.groupby('LATEST_STATUS').size().plot(kind='bar')"
   ]
  },
  {
   "cell_type": "code",
   "execution_count": null,
   "metadata": {
    "collapsed": true
   },
   "outputs": [],
   "source": [
    "bb_agg, _ = one_hot_encoding(bb_agg, nan_as_category=True)"
   ]
  },
  {
   "cell_type": "code",
   "execution_count": null,
   "metadata": {
    "collapsed": true
   },
   "outputs": [],
   "source": [
    "bb, bb_cat = one_hot_encoding(bb, nan_as_category=True)\n",
    "bb_aggregations = {'MONTHS_BALANCE': ['min', 'max', 'size']}\n",
    "\n",
    "status_aggregations = {}\n",
    "for col in bb_cat:\n",
    "    status_aggregations[col] = ['mean', 'sum']\n",
    "\n",
    "bb_agg_auto = bb.groupby('SK_ID_BUREAU').agg({**bb_aggregations, **status_aggregations})\n",
    "bb_agg_auto.columns = pd.Index([e[0] + \"_\" + e[1].upper() for e in bb_agg_auto.columns.tolist()])\n",
    "bb_agg = bb_agg.join(bb_agg_auto, on='SK_ID_BUREAU', how='left')"
   ]
  },
  {
   "cell_type": "code",
   "execution_count": null,
   "metadata": {
    "collapsed": true
   },
   "outputs": [],
   "source": [
    "for col in bb_agg.columns:\n",
    "    print(col)"
   ]
  },
  {
   "cell_type": "code",
   "execution_count": null,
   "metadata": {
    "collapsed": true
   },
   "outputs": [],
   "source": [
    "bb_cat = [col for col in bb_agg.columns if 'STATUS_CHANGE' not in col and 'MONTHS_BALANCE' not in col]"
   ]
  },
  {
   "cell_type": "code",
   "execution_count": null,
   "metadata": {
    "collapsed": true
   },
   "outputs": [],
   "source": [
    "bb_cat"
   ]
  },
  {
   "cell_type": "markdown",
   "metadata": {},
   "source": [
    "<font size=5> Process Bureau"
   ]
  },
  {
   "cell_type": "markdown",
   "metadata": {},
   "source": [
    "<font size=3>\n",
    "SK_BUREAU_ID,Recoded ID of previous Credit Bureau credit related to our loan (unique coding for each loan application),hashed\n",
    "\n",
    "CREDIT_ACTIVE, Status of the Credit Bureau (CB) **reported** credits,\n",
    "\n",
    "CREDIT_CURRENCY, Recoded currency of the Credit Bureau credit,recoded\n",
    "\n",
    "DAYS_CREDIT, How many days before current application did client apply for Credit Bureau credit,time only relative to the application\n",
    "\n",
    "CREDIT_DAY_OVERDUE, Number of days past due on CB credit at the time of application for related loan in our sample,\n",
    "\n",
    "DAYS_CREDIT_ENDDATE, Remaining duration of CB credit (in days) at the time of application in Home Credit,time only relative to the application - Positive for the loan still not paid totally\n",
    "\n",
    "DAYS_ENDDATE_FACT, Days since CB credit ended at the time of application in Home Credit (only for closed credit),time only relative to the application\n",
    "\n",
    "AMT_CREDIT_MAX_OVERDUE, Maximal amount overdue on the Credit Bureau credit so far (at application date of loan in our sample),\n",
    "\n",
    "CNT_CREDIT_PROLONG, How many times was the Credit Bureau credit prolonged,\n",
    "\n",
    "AMT_CREDIT_SUM, Current credit amount for the Credit Bureau credit,\n",
    "\n",
    "AMT_CREDIT_SUM_DEBT, Current debt on Credit Bureau credit,\n",
    "\n",
    "AMT_CREDIT_SUM_LIMIT, Current credit limit of credit card reported in Credit Bureau,\n",
    "\n",
    "AMT_CREDIT_SUM_OVERDUE, Current amount overdue on Credit Bureau credit,\n",
    "\n",
    "CREDIT_TYPE, Type of Credit Bureau credit (Car, cash,...),\n",
    "\n",
    "DAYS_CREDIT_UPDATE, How many days before loan application did last information about the Credit Bureau credit come,time only relative to the application\n",
    "\n",
    "AMT_ANNUITY, Annuity of the Credit Bureau credit,"
   ]
  },
  {
   "cell_type": "code",
   "execution_count": null,
   "metadata": {
    "collapsed": true
   },
   "outputs": [],
   "source": [
    "bureau.head()"
   ]
  },
  {
   "cell_type": "code",
   "execution_count": null,
   "metadata": {
    "collapsed": true
   },
   "outputs": [],
   "source": [
    "# correct anomalies\n",
    "bureau.loc[bureau['DAYS_CREDIT_ENDDATE'] < -20000, 'DAYS_CREDIT_ENDDATE'] = np.nan\n",
    "bureau.loc[bureau['DAYS_ENDDATE_FACT'] < -20000, 'DAYS_ENDDATE_FACT'] = np.nan\n",
    "bureau.loc[bureau['DAYS_CREDIT_UPDATE'] < -20000, 'DAYS_ENDDATE_FACT'] = np.nan"
   ]
  },
  {
   "cell_type": "code",
   "execution_count": null,
   "metadata": {
    "collapsed": true
   },
   "outputs": [],
   "source": [
    "bureau.isnull().sum() / len(bureau)"
   ]
  },
  {
   "cell_type": "markdown",
   "metadata": {},
   "source": [
    "<font size=3> see the distribution on some cols"
   ]
  },
  {
   "cell_type": "code",
   "execution_count": null,
   "metadata": {
    "collapsed": true
   },
   "outputs": [],
   "source": [
    "cate_cols = [col for col in bureau.columns if bureau[col].dtype == 'object']"
   ]
  },
  {
   "cell_type": "code",
   "execution_count": null,
   "metadata": {
    "collapsed": true,
    "scrolled": false
   },
   "outputs": [],
   "source": [
    "def draw_cate_dist(cols):\n",
    "    from math import ceil\n",
    "    n_row = ceil(len(cols) / 2)\n",
    "    i = 1\n",
    "    plt.figure(figsize=(16, 12))\n",
    "    for col in cols:\n",
    "        plt.subplot(n_row, 2, i)\n",
    "        bureau.groupby(col).size().plot(kind='bar')\n",
    "        i += 1\n",
    "    plt.tight_layout()\n",
    "    plt.show()\n",
    "\n",
    "draw_cate_dist(cate_cols)"
   ]
  },
  {
   "cell_type": "code",
   "execution_count": null,
   "metadata": {
    "collapsed": true,
    "scrolled": false
   },
   "outputs": [],
   "source": [
    "numeric_cols = [col for col in bureau.columns if col not in cate_cols and 'ID' not in col]\n",
    "def draw_numeric_dist(cols):\n",
    "    from math import ceil\n",
    "    n_row = ceil(len(cols) / 2)\n",
    "    i = 1\n",
    "    plt.figure(figsize=(16, 32))\n",
    "    for col in cols:\n",
    "        plt.subplot(n_row, 2, i)\n",
    "        if bureau[col].nunique() > 10:\n",
    "            up_bnd = bureau[col].quantile(.999)\n",
    "            low_bnd = bureau[col].quantile(.001)\n",
    "            bureau[(bureau[col] > low_bnd) & (bureau[col] < up_bnd)][col].plot(kind='hist')\n",
    "        else:\n",
    "            bureau[col].plot(kind='hist')\n",
    "        plt.title(col)\n",
    "        i += 1\n",
    "    plt.tight_layout()\n",
    "    plt.show()\n",
    "\n",
    "draw_numeric_dist(numeric_cols)"
   ]
  },
  {
   "cell_type": "code",
   "execution_count": null,
   "metadata": {
    "collapsed": true
   },
   "outputs": [],
   "source": [
    "bureau = bureau.join(bb_agg, on='SK_ID_BUREAU', how='left')\n",
    "bureau.drop(columns='SK_ID_BUREAU', inplace=True)"
   ]
  },
  {
   "cell_type": "code",
   "execution_count": null,
   "metadata": {
    "collapsed": true,
    "scrolled": false
   },
   "outputs": [],
   "source": [
    "for col in bureau.columns:\n",
    "    print(col)"
   ]
  },
  {
   "cell_type": "code",
   "execution_count": null,
   "metadata": {
    "collapsed": true
   },
   "outputs": [],
   "source": [
    "day_cols = [col for col in bureau.columns if 'DAY' in col]"
   ]
  },
  {
   "cell_type": "code",
   "execution_count": null,
   "metadata": {
    "collapsed": true
   },
   "outputs": [],
   "source": [
    "# procesing on DAYS related features\n",
    "bureau['DAYS_CREDIT_SUB_UPDATE'] = bureau['DAYS_CREDIT'] - bureau['DAYS_CREDIT_UPDATE']\n",
    "bureau['DAYS_CREDIT_TO_UPDATE_RATIO'] = (bureau['DAYS_CREDIT'] - 1) / (bureau['DAYS_CREDIT_UPDATE'] - 1)\n",
    "\n",
    "bureau['DAYS_ENDDATE_SUB_UPDATE'] = bureau['DAYS_CREDIT_ENDDATE'] - bureau['DAYS_CREDIT_UPDATE']\n",
    "bureau['DAYS_ENDDATE_TO_UPDATE_RATIO'] = (bureau['DAYS_CREDIT_ENDDATE'] - 1) / (bureau['DAYS_CREDIT_UPDATE'] - 1)\n",
    "\n",
    "bureau['DAYS_FACT_SUB_ENDDATE'] = bureau['DAYS_ENDDATE_FACT'] - bureau['DAYS_CREDIT_ENDDATE']\n",
    "bureau['DAYS_FACT_SUB_UPDATE'] = bureau['DAYS_ENDDATE_FACT'] - bureau['DAYS_CREDIT_UPDATE']\n",
    "bureau['DAYS_FACT_TO_UPDATE_RATIO'] = bureau['DAYS_ENDDATE_FACT'] / bureau['DAYS_CREDIT_UPDATE']\n",
    "\n",
    "bureau['IS_EARLY_PAID'] = (bureau['DAYS_ENDDATE_FACT'] < bureau['DAYS_CREDIT_ENDDATE']).astype('float')\n",
    "bureau['IS_LATER_PAID'] = (bureau['DAYS_ENDDATE_FACT'] > bureau['DAYS_CREDIT_ENDDATE']).astype('float')\n",
    "\n",
    "bureau['PLAN_TIME_SPAN'] = bureau['DAYS_ENDDATE_FACT'] - bureau['DAYS_CREDIT']\n",
    "bureau['ACTUAL_TIME_SPAN'] = bureau['DAYS_CREDIT_ENDDATE'] - bureau['DAYS_CREDIT']\n",
    "bureau['ACTUAL_TIME_SPAN_TO_PLAN_RATIO'] = bureau['ACTUAL_TIME_SPAN'] / bureau['PLAN_TIME_SPAN']\n",
    "\n",
    "bureau['DAYS_FACT_SUB_UPDATE_TO_ACTUAL_TIME_SPAN_RATIO'] = bureau['DAYS_FACT_SUB_UPDATE'] / bureau['ACTUAL_TIME_SPAN']\n",
    "bureau['DAYS_ENDDATE_SUB_UPDATE_TO_PLAN_TIME_SPAN_RATIO'] = bureau['DAYS_FACT_SUB_UPDATE'] / bureau['PLAN_TIME_SPAN']\n",
    "\n",
    "# this means a client applied for a loan in homeCredit before his original creditBureau loan ended\n",
    "bureau['DAYS_ENDDATE_TO_DAYS_CREDIT_RATIO'] = bureau['DAYS_CREDIT_ENDDATE'] / bureau['DAYS_CREDIT']\n",
    "bureau['DAYS_OVERDUE_TO_CREDIT_RATIO'] = -1 * bureau['CREDIT_DAY_OVERDUE'] / bureau['DAYS_CREDIT']\n",
    "bureau['DAYS_OVERDUE_TO_PLAN_TIME_SPAN_RATIO'] = bureau['CREDIT_DAY_OVERDUE'] / bureau['PLAN_TIME_SPAN']\n",
    "bureau['DAYS_OVERDUE_TO_ACTUAL_TIME_SPAN_RATIO'] = bureau['CREDIT_DAY_OVERDUE'] / bureau['ACTUAL_TIME_SPAN']\n",
    "\n",
    "# this feature means a user have paid his loan before he applied\n",
    "bureau['IS_UNTRUSTWORTHY'] = (bureau['DAYS_CREDIT_ENDDATE'] < bureau['DAYS_CREDIT']).astype('float')\n",
    "bureau['IS_END_IN_FUTURE'] = (bureau['DAYS_CREDIT_ENDDATE'] > 0).astype('float')\n",
    "bureau['IS_OLD_UPDATE'] = (bureau['DAYS_CREDIT_UPDATE'] < -365).astype('float')"
   ]
  },
  {
   "cell_type": "markdown",
   "metadata": {},
   "source": [
    "<font size=4> the amt featurs should satisfy this equation:\n",
    "\n",
    "AMT_CREDIT_SUM_LIMIT + AMT_CREDIT_SUM_DEBT = AMT_CREDIT_SUM\n",
    "\n",
    "so we do some correction on it"
   ]
  },
  {
   "cell_type": "code",
   "execution_count": null,
   "metadata": {
    "collapsed": true
   },
   "outputs": [],
   "source": [
    "def is_null_or_zero(val):\n",
    "    return pd.isnull(val) or val == 0\n",
    "\n",
    "def correct_credit_debt(df):\n",
    "    sum_, limit, debt = df['AMT_CREDIT_SUM'], df['AMT_CREDIT_SUM_LIMIT'], df['AMT_CREDIT_SUM_DEBT']\n",
    "    if is_null_or_zero(debt) and not is_null_or_zero(limit):\n",
    "        debt = sum_ - limit\n",
    "    return debt    \n",
    "def correct_credit_limit(df):\n",
    "    sum_, limit, debt = df['AMT_CREDIT_SUM'], df['AMT_CREDIT_SUM_LIMIT'], df['AMT_CREDIT_SUM_DEBT']\n",
    "    if is_null_or_zero(limit) and not is_null_or_zero(debt):\n",
    "        limit = sum_ - debt\n",
    "    return limit\n",
    "\n",
    "bureau['AMT_CREDIT_SUM_DEBT'] = bureau.apply(correct_credit_debt, axis=1)\n",
    "bureau['AMT_CREDIT_SUM_LIMIT'] = bureau.apply(correct_credit_limit, axis=1)"
   ]
  },
  {
   "cell_type": "code",
   "execution_count": null,
   "metadata": {
    "collapsed": true
   },
   "outputs": [],
   "source": [
    "# processing on AMT features\n",
    "bureau['AMT_OVERDUE_TO_CREDIT_RATIO'] = bureau['AMT_CREDIT_SUM_OVERDUE'] / bureau['AMT_CREDIT_SUM']\n",
    "bureau['AMT_OVERDUE_TO_DEBT_RATIO'] = bureau['AMT_CREDIT_SUM_OVERDUE'] / bureau['AMT_CREDIT_SUM_DEBT']\n",
    "bureau['AMT_DEBT_TO_CREDIT_RATIO'] = bureau['AMT_CREDIT_SUM_DEBT'] / bureau['AMT_CREDIT_SUM']\n",
    "bureau['AMT_LIMIT_TO_CREDIT_RATIO'] = bureau['AMT_CREDIT_SUM_LIMIT'] / bureau['AMT_CREDIT_SUM']\n",
    "bureau['AMT_MAX_OVERDUE_TO_CREDIT_RATIO'] = bureau['AMT_CREDIT_MAX_OVERDUE'] / bureau['AMT_CREDIT_SUM']\n",
    "\n",
    "bureau['AMT_ANNUITY_TO_CREDIT_RATIO'] = bureau['AMT_ANNUITY'] / bureau['AMT_CREDIT_SUM']\n",
    "bureau['AMT_ANNUITY_TO_DEBT_RATIO'] = bureau['AMT_ANNUITY'] / bureau['AMT_CREDIT_SUM_DEBT']\n",
    "\n",
    "bureau['AVG_ANNUITY_BY_MONTH'] = bureau['AMT_ANNUITY'] / bureau['MONTHS_BALANCE_SIZE']\n",
    "bureau['AVG_CREDIT_BY_MONTH'] = bureau['AMT_CREDIT_SUM'] / bureau['MONTHS_BALANCE_SIZE']\n",
    "bureau['AVG_DEBT_BY_MONTH'] = bureau['AMT_CREDIT_SUM_DEBT'] / bureau['MONTHS_BALANCE_SIZE']\n",
    "bureau['AVG_LIMIT_BY_MONTH'] = bureau['AMT_CREDIT_SUM_LIMIT'] / bureau['MONTHS_BALANCE_SIZE']\n",
    "\n",
    "bureau['IS_DEBT_NEG'] = (bureau['AMT_CREDIT_SUM_DEBT'] < 0).astype('float')\n",
    "bureau['IS_LIMIT_NEG'] = (bureau['AMT_CREDIT_SUM_DEBT'] < 0).astype('float')"
   ]
  },
  {
   "cell_type": "markdown",
   "metadata": {},
   "source": [
    "<font size=4> See the correlation between AMT COLS"
   ]
  },
  {
   "cell_type": "code",
   "execution_count": null,
   "metadata": {
    "collapsed": true
   },
   "outputs": [],
   "source": [
    "amt_cols = [col for col in bureau.columns if 'AMT_' in col]\n",
    "plt.figure(figsize=(12, 12))\n",
    "sns.heatmap(data=bureau[amt_cols].corr(), linewidths=1, square=True)\n",
    "plt.tight_layout()"
   ]
  },
  {
   "cell_type": "markdown",
   "metadata": {},
   "source": [
    "<font size=5> Change Ratio on some numerical columns"
   ]
  },
  {
   "cell_type": "code",
   "execution_count": null,
   "metadata": {
    "collapsed": true
   },
   "outputs": [],
   "source": [
    "temp = bureau.groupby('SK_ID_CURR').apply(lambda x: x.sort_values(['DAYS_CREDIT'], ascending=False)).reset_index(drop=True)"
   ]
  },
  {
   "cell_type": "code",
   "execution_count": 14,
   "metadata": {
    "collapsed": true
   },
   "outputs": [],
   "source": [
    "change_ratio_cols = [\n",
    "    'AMT_CREDIT_SUM',\n",
    "    'AMT_CREDIT_SUM_DEBT',\n",
    "    'AMT_ANNUITY',\n",
    "    'AMT_CREDIT_MAX_OVERDUE',\n",
    "    'CNT_CREDIT_PROLONG',\n",
    "\n",
    "    'DAYS_CREDIT_SUB_UPDATE',\n",
    "    'DAYS_CREDIT_TO_UPDATE_RATIO',\n",
    "    'DAYS_ENDDATE_SUB_UPDATE',\n",
    "    'DAYS_ENDDATE_TO_UPDATE_RATIO',\n",
    "\n",
    "    'DAYS_FACT_SUB_ENDDATE',\n",
    "    'DAYS_FACT_SUB_UPDATE',\n",
    "    'DAYS_FACT_TO_UPDATE_RATIO',\n",
    "\n",
    "    'PLAN_TIME_SPAN',\n",
    "    'ACTUAL_TIME_SPAN',\n",
    "    'ACTUAL_TIME_SPAN_TO_PLAN_RATIO',\n",
    "\n",
    "    'DAYS_FACT_SUB_UPDATE_TO_ACTUAL_TIME_SPAN_RATIO',\n",
    "    'DAYS_ENDDATE_SUB_UPDATE_TO_PLAN_TIME_SPAN_RATIO',\n",
    "\n",
    "    'DAYS_ENDDATE_TO_DAYS_CREDIT_RATIO',\n",
    "    'DAYS_OVERDUE_TO_CREDIT_RATIO',\n",
    "    'DAYS_OVERDUE_TO_PLAN_TIME_SPAN_RATIO',\n",
    "    'DAYS_OVERDUE_TO_ACTUAL_TIME_SPAN_RATIO',\n",
    "\n",
    "    'AMT_OVERDUE_TO_CREDIT_RATIO',\n",
    "    'AMT_OVERDUE_TO_DEBT_RATIO',\n",
    "    'AMT_DEBT_TO_CREDIT_RATIO',\n",
    "    'AMT_LIMIT_TO_CREDIT_RATIO',\n",
    "    'AMT_MAX_OVERDUE_TO_CREDIT_RATIO',\n",
    "\n",
    "    'AMT_ANNUITY_TO_CREDIT_RATIO',\n",
    "    'AMT_ANNUITY_TO_DEBT_RATIO',\n",
    "\n",
    "    'AVG_ANNUITY_BY_MONTH',\n",
    "    'AVG_CREDIT_BY_MONTH',\n",
    "    'AVG_DEBT_BY_MONTH',\n",
    "\n",
    "    'MONTHS_BALANCE_SIZE'\n",
    "]\n",
    "\n",
    "diff_cols = [\n",
    "    'DAYS_CREDIT',\n",
    "    'CREDIT_DAY_OVERDUE',\n",
    "    'DAYS_CREDIT_ENDDATE',\n",
    "    'DAYS_ENDDATE_FACT',\n",
    "    'DAYS_CREDIT_UPDATE',\n",
    "]\n",
    "\n",
    "diff_cols += change_ratio_cols"
   ]
  },
  {
   "cell_type": "code",
   "execution_count": 15,
   "metadata": {
    "collapsed": true
   },
   "outputs": [
    {
     "ename": "KeyError",
     "evalue": "\"Columns not found: 'DAYS_CREDIT_SUB_UPDATE', 'AMT_ANNUITY_TO_DEBT_RATIO', 'MONTHS_BALANCE_SIZE', 'DAYS_CREDIT_TO_UPDATE_RATIO', 'DAYS_ENDDATE_SUB_UPDATE_TO_PLAN_TIME_SPAN_RATIO', 'DAYS_ENDDATE_TO_DAYS_CREDIT_RATIO', 'AMT_OVERDUE_TO_DEBT_RATIO', 'AMT_OVERDUE_TO_CREDIT_RATIO', 'AMT_DEBT_TO_CREDIT_RATIO', 'DAYS_FACT_TO_UPDATE_RATIO', 'ACTUAL_TIME_SPAN', 'DAYS_ENDDATE_TO_UPDATE_RATIO', 'AMT_MAX_OVERDUE_TO_CREDIT_RATIO', 'AMT_ANNUITY_TO_CREDIT_RATIO', 'DAYS_FACT_SUB_UPDATE_TO_ACTUAL_TIME_SPAN_RATIO', 'AMT_LIMIT_TO_CREDIT_RATIO', 'DAYS_OVERDUE_TO_ACTUAL_TIME_SPAN_RATIO', 'DAYS_FACT_SUB_ENDDATE', 'AVG_CREDIT_BY_MONTH', 'AVG_ANNUITY_BY_MONTH', 'DAYS_OVERDUE_TO_PLAN_TIME_SPAN_RATIO', 'AVG_DEBT_BY_MONTH', 'DAYS_FACT_SUB_UPDATE', 'DAYS_ENDDATE_SUB_UPDATE', 'ACTUAL_TIME_SPAN_TO_PLAN_RATIO', 'PLAN_TIME_SPAN', 'DAYS_OVERDUE_TO_CREDIT_RATIO'\"",
     "output_type": "error",
     "traceback": [
      "\u001b[0;31m---------------------------------------------------------------------------\u001b[0m",
      "\u001b[0;31mKeyError\u001b[0m                                  Traceback (most recent call last)",
      "\u001b[0;32m<ipython-input-15-fea6b234354a>\u001b[0m in \u001b[0;36m<module>\u001b[0;34m()\u001b[0m\n\u001b[1;32m      6\u001b[0m \u001b[0;34m\u001b[0m\u001b[0m\n\u001b[1;32m      7\u001b[0m \u001b[0mnew_col_cg_ratio\u001b[0m \u001b[0;34m=\u001b[0m \u001b[0;34m[\u001b[0m\u001b[0mcol\u001b[0m \u001b[0;34m+\u001b[0m \u001b[0;34m'_CHANGE_RATIO'\u001b[0m \u001b[0;32mfor\u001b[0m \u001b[0mcol\u001b[0m \u001b[0;32min\u001b[0m \u001b[0mchange_ratio_cols\u001b[0m\u001b[0;34m]\u001b[0m\u001b[0;34m\u001b[0m\u001b[0m\n\u001b[0;32m----> 8\u001b[0;31m \u001b[0mburau\u001b[0m\u001b[0;34m[\u001b[0m\u001b[0mnew_col_cg_ratio\u001b[0m\u001b[0;34m]\u001b[0m \u001b[0;34m=\u001b[0m \u001b[0mtemp\u001b[0m\u001b[0;34m.\u001b[0m\u001b[0mgroupby\u001b[0m\u001b[0;34m(\u001b[0m\u001b[0;34m'SK_ID_CURR'\u001b[0m\u001b[0;34m)\u001b[0m\u001b[0;34m[\u001b[0m\u001b[0mchange_ratio_cols\u001b[0m\u001b[0;34m]\u001b[0m\u001b[0;34m.\u001b[0m\u001b[0mapply\u001b[0m\u001b[0;34m(\u001b[0m\u001b[0mchange_ratio\u001b[0m\u001b[0;34m)\u001b[0m\u001b[0;34m\u001b[0m\u001b[0m\n\u001b[0m\u001b[1;32m      9\u001b[0m \u001b[0;34m\u001b[0m\u001b[0m\n\u001b[1;32m     10\u001b[0m \u001b[0mnew_col_diff\u001b[0m \u001b[0;34m=\u001b[0m \u001b[0;34m[\u001b[0m\u001b[0mcol\u001b[0m \u001b[0;34m+\u001b[0m \u001b[0;34m'_DIFF'\u001b[0m \u001b[0;32mfor\u001b[0m \u001b[0mcol\u001b[0m \u001b[0;32min\u001b[0m \u001b[0mdiff_cols\u001b[0m\u001b[0;34m]\u001b[0m\u001b[0;34m\u001b[0m\u001b[0m\n",
      "\u001b[0;32m~/anaconda3/lib/python3.6/site-packages/pandas/core/base.py\u001b[0m in \u001b[0;36m__getitem__\u001b[0;34m(self, key)\u001b[0m\n\u001b[1;32m    255\u001b[0m                 \u001b[0mbad_keys\u001b[0m \u001b[0;34m=\u001b[0m \u001b[0mlist\u001b[0m\u001b[0;34m(\u001b[0m\u001b[0mset\u001b[0m\u001b[0;34m(\u001b[0m\u001b[0mkey\u001b[0m\u001b[0;34m)\u001b[0m\u001b[0;34m.\u001b[0m\u001b[0mdifference\u001b[0m\u001b[0;34m(\u001b[0m\u001b[0mself\u001b[0m\u001b[0;34m.\u001b[0m\u001b[0mobj\u001b[0m\u001b[0;34m.\u001b[0m\u001b[0mcolumns\u001b[0m\u001b[0;34m)\u001b[0m\u001b[0;34m)\u001b[0m\u001b[0;34m\u001b[0m\u001b[0m\n\u001b[1;32m    256\u001b[0m                 raise KeyError(\"Columns not found: {missing}\"\n\u001b[0;32m--> 257\u001b[0;31m                                .format(missing=str(bad_keys)[1:-1]))\n\u001b[0m\u001b[1;32m    258\u001b[0m             \u001b[0;32mreturn\u001b[0m \u001b[0mself\u001b[0m\u001b[0;34m.\u001b[0m\u001b[0m_gotitem\u001b[0m\u001b[0;34m(\u001b[0m\u001b[0mlist\u001b[0m\u001b[0;34m(\u001b[0m\u001b[0mkey\u001b[0m\u001b[0;34m)\u001b[0m\u001b[0;34m,\u001b[0m \u001b[0mndim\u001b[0m\u001b[0;34m=\u001b[0m\u001b[0;36m2\u001b[0m\u001b[0;34m)\u001b[0m\u001b[0;34m\u001b[0m\u001b[0m\n\u001b[1;32m    259\u001b[0m \u001b[0;34m\u001b[0m\u001b[0m\n",
      "\u001b[0;31mKeyError\u001b[0m: \"Columns not found: 'DAYS_CREDIT_SUB_UPDATE', 'AMT_ANNUITY_TO_DEBT_RATIO', 'MONTHS_BALANCE_SIZE', 'DAYS_CREDIT_TO_UPDATE_RATIO', 'DAYS_ENDDATE_SUB_UPDATE_TO_PLAN_TIME_SPAN_RATIO', 'DAYS_ENDDATE_TO_DAYS_CREDIT_RATIO', 'AMT_OVERDUE_TO_DEBT_RATIO', 'AMT_OVERDUE_TO_CREDIT_RATIO', 'AMT_DEBT_TO_CREDIT_RATIO', 'DAYS_FACT_TO_UPDATE_RATIO', 'ACTUAL_TIME_SPAN', 'DAYS_ENDDATE_TO_UPDATE_RATIO', 'AMT_MAX_OVERDUE_TO_CREDIT_RATIO', 'AMT_ANNUITY_TO_CREDIT_RATIO', 'DAYS_FACT_SUB_UPDATE_TO_ACTUAL_TIME_SPAN_RATIO', 'AMT_LIMIT_TO_CREDIT_RATIO', 'DAYS_OVERDUE_TO_ACTUAL_TIME_SPAN_RATIO', 'DAYS_FACT_SUB_ENDDATE', 'AVG_CREDIT_BY_MONTH', 'AVG_ANNUITY_BY_MONTH', 'DAYS_OVERDUE_TO_PLAN_TIME_SPAN_RATIO', 'AVG_DEBT_BY_MONTH', 'DAYS_FACT_SUB_UPDATE', 'DAYS_ENDDATE_SUB_UPDATE', 'ACTUAL_TIME_SPAN_TO_PLAN_RATIO', 'PLAN_TIME_SPAN', 'DAYS_OVERDUE_TO_CREDIT_RATIO'\""
     ]
    }
   ],
   "source": [
    "def change_ratio(df):\n",
    "    return df.shift(-1) / df - 1\n",
    "\n",
    "def diff(df):\n",
    "    return df.shift(-1) - df\n",
    "\n",
    "new_col_cg_ratio = [col + '_CHANGE_RATIO' for col in change_ratio_cols]\n",
    "burau[new_col_cg_ratio] = temp.groupby('SK_ID_CURR')[change_ratio_cols].apply(change_ratio)\n",
    "\n",
    "new_col_diff = [col + '_DIFF' for col in diff_cols]\n",
    "burau[new_col_diff] = temp.groupby('SK_ID_CURR')[diff_cols].apply(diff)"
   ]
  },
  {
   "cell_type": "code",
   "execution_count": null,
   "metadata": {
    "collapsed": true
   },
   "outputs": [],
   "source": [
    "# CREDIT TYPE DIVERSITY\n",
    "bureau_agg = bureau.groupby('SK_ID_CURR')[['CREDIT_TYPE']]\\\n",
    "                .nunique().rename(columns={'CREDIT_TYPE': 'BURO_CREDIT_TYPE_CNT'})\n",
    "\n",
    "bureau_agg['BURO_TOTAL_CREDIT_CNT'] = bureau.groupby('SK_ID_CURR')['CREDIT_TYPE'].size()\n",
    "bureau_agg['BURO_CREDIT_TYPE_DIVERSITY'] = bureau_agg['BURO_TOTAL_CREDIT_CNT'] / bureau_agg['BURO_CREDIT_TYPE_CNT']\n",
    "\n",
    "# APP TIME SPAN\n",
    "bureau_agg['BURO_ALL_CREDIT_TIME_SPAN'] = temp.groupby('SK_ID_CURR')['DAYS_CREDIT'].agg(lambda x: x.max() - x.min())"
   ]
  },
  {
   "cell_type": "code",
   "execution_count": null,
   "metadata": {
    "collapsed": true
   },
   "outputs": [],
   "source": [
    "bureau, bureau_cat = one_hot_encoding(bureau, nan_as_category=True)\n",
    "\n",
    "# Bureau and bureau_balance numeric features\n",
    "num_aggregations = {\n",
    "    # Original Features\n",
    "    'DAYS_CREDIT': ['mean', 'var', 'max', 'min'],\n",
    "    'CREDIT_DAY_OVERDUE': ['mean', 'min', 'max'],\n",
    "    'DAYS_CREDIT_ENDDATE': ['mean', 'min', 'max'],\n",
    "    'DAYS_ENDDATE_FACT': ['mean', 'min', 'max'],\n",
    "    'DAYS_CREDIT_UPDATE': ['mean', 'min', 'max'],\n",
    "    \n",
    "    'AMT_CREDIT_MAX_OVERDUE': ['sum', 'mean', 'min', 'max'],\n",
    "    'AMT_CREDIT_SUM': ['sum', 'mean', 'min', 'max'],\n",
    "    'AMT_CREDIT_SUM_DEBT': ['sum', 'mean', 'min', 'max'],\n",
    "    'AMT_CREDIT_SUM_OVERDUE': ['sum', 'mean', 'min', 'max'],\n",
    "    'AMT_CREDIT_SUM_LIMIT': ['sum', 'mean', 'min', 'max'],\n",
    "    'AMT_ANNUITY': ['sum', 'mean', 'min', 'max'],\n",
    "    'CNT_CREDIT_PROLONG': ['sum', 'mean', 'min', 'max'],\n",
    "\n",
    "    # Manual Features on DAYS\n",
    "    'DAYS_CREDIT_SUB_UPDATE': ['mean', 'min', 'max', 'sum'],\n",
    "    'DAYS_CREDIT_TO_UPDATE_RATIO': ['mean', 'min', 'max'],\n",
    "    'DAYS_ENDDATE_SUB_UPDATE': ['mean', 'min', 'max', 'sum'],\n",
    "    'DAYS_ENDDATE_TO_UPDATE_RATIO': ['mean', 'min', 'max'],\n",
    "\n",
    "\n",
    "    'DAYS_FACT_SUB_ENDDATE': ['mean', 'min', 'max', 'sum'],\n",
    "    'DAYS_FACT_SUB_UPDATE': ['mean', 'min', 'max', 'sum'],\n",
    "    'DAYS_FACT_TO_UPDATE_RATIO': ['mean', 'min', 'max'],\n",
    "\n",
    "    'IS_EARLY_PAID': ['mean', 'sum'],\n",
    "    'IS_LATER_PAID': ['mean', 'sum'],\n",
    "\n",
    "    'PLAN_TIME_SPAN': ['mean', 'min', 'max', 'sum'],\n",
    "    'ACTUAL_TIME_SPAN': ['mean', 'min', 'max', 'sum'],\n",
    "    'ACTUAL_TIME_SPAN_TO_PLAN_RATIO': ['mean', 'min', 'max'],\n",
    "\n",
    "    'DAYS_FACT_SUB_UPDATE_TO_ACTUAL_TIME_SPAN_RATIO': ['mean', 'min', 'max'],\n",
    "    'DAYS_ENDDATE_SUB_UPDATE_TO_PLAN_TIME_SPAN_RATIO': ['mean', 'min', 'max'],\n",
    "\n",
    "    'DAYS_ENDDATE_TO_DAYS_CREDIT_RATIO': ['mean', 'min', 'max'],\n",
    "    'DAYS_OVERDUE_TO_CREDIT_RATIO': ['mean', 'min', 'max'],\n",
    "    'DAYS_OVERDUE_TO_PLAN_TIME_SPAN_RATIO': ['mean', 'min', 'max'],\n",
    "    'DAYS_OVERDUE_TO_ACTUAL_TIME_SPAN_RATIO': ['mean', 'min', 'max'],\n",
    "\n",
    "    'IS_UNTRUSTWORTHY': ['mean', 'sum'],\n",
    "    'IS_END_IN_FUTURE': ['mean', 'sum'],\n",
    "    'IS_OLD_UPDATE': ['mean', 'sum'],\n",
    "    \n",
    "    # Manual Features on AMT\n",
    "    'AMT_OVERDUE_TO_CREDIT_RATIO': ['mean', 'min', 'max'],\n",
    "    'AMT_OVERDUE_TO_DEBT_RATIO': ['mean', 'min', 'max'],\n",
    "    'AMT_DEBT_TO_CREDIT_RATIO': ['mean', 'min', 'max'],\n",
    "    'AMT_LIMIT_TO_CREDIT_RATIO': ['mean', 'min', 'max'],\n",
    "    'AMT_MAX_OVERDUE_TO_CREDIT_RATIO': ['mean', 'min', 'max'],\n",
    "\n",
    "    'AMT_ANNUITY_TO_CREDIT_RATIO': ['mean', 'min', 'max'],\n",
    "    'AMT_ANNUITY_TO_DEBT_RATIO': ['mean', 'min', 'max'],\n",
    "\n",
    "    'AVG_ANNUITY_BY_MONTH': ['mean', 'min', 'max'],\n",
    "    'AVG_CREDIT_BY_MONTH': ['mean', 'min', 'max'],\n",
    "    'AVG_DEBT_BY_MONTH': ['mean', 'min', 'max'],\n",
    "    'AVG_LIMIT_BY_MONTH': ['mean', 'min', 'max'],\n",
    "\n",
    "    'IS_DEBT_NEG': ['mean', 'sum'],\n",
    "    'IS_LIMIT_NEG': ['mean', 'sum'],\n",
    "    \n",
    "    # Numerical Features come from bureau_balance\n",
    "    'STATUS_CHANGE': ['sum', 'mean'],\n",
    "\n",
    "    'MONTHS_BALANCE_MIN': ['min'],\n",
    "    'MONTHS_BALANCE_MAX': ['max'],\n",
    "    'MONTHS_BALANCE_SIZE': ['mean', 'sum']\n",
    "}\n",
    "\n",
    "for col in change_ratio_cols + diff_cols:\n",
    "    num_aggregations[col] = ['min', 'max', 'mean']\n",
    "\n",
    "\n",
    "# Bureau and bureau_balance categorical features\n",
    "cat_aggregations = {}\n",
    "for cat in bureau_cat:\n",
    "    cat_aggregations[cat] = ['mean', 'sum']\n",
    "for cat in bb_cat:\n",
    "    cat_aggregations[cat] = ['mean', 'sum']\n",
    "\n",
    "bureau_agg_auto = bureau.groupby('SK_ID_CURR').agg({**num_aggregations, **cat_aggregations})\n",
    "bureau_agg_auto.columns = pd.Index(['BURO_' + e[0] + \"_\" + e[1].upper() for e in bureau_agg_auto.columns.tolist()])\n",
    "bureau_agg = bureau_agg.join(bureau_agg_auto, how='left', on='SK_ID_CURR')\n",
    "del bureau_agg_auto\n",
    "gc.collect()\n",
    "\n",
    "bureau_agg['BURO_DAYS_DIFF_MEAN_TO_ACTUAL_TIME_SPAN_MEAN_RATIO'] = bureau_agg['BURO_DAYS_DIFF_MEAN'] / bureau_agg['BURO_ACTUAL_TIME_SPAN_MEAN']\n",
    "bureau_agg['BURO_DAYS_DIFF_MEAN_TO_ACTUAL_TIME_SPAN_SUM_RATIO'] = bureau_agg['BURO_DAYS_DIFF_MEAN'] / bureau_agg['BURO_ACTUAL_TIME_SPAN_MEAN']\n",
    "bureau_agg['BURO_ALL_CREDIT_TIME_SPAN_TO_ACUTAL_TIME_SPAN_SUM_RATIO'] = bureau_agg['BURO_ALL_CREDIT_TIME_SPAN'] / bureau_agg['BURO_ACTUAL_TIME_SPAN_SUM']\n",
    "\n",
    "bureau_agg['BURO_AMT_CREDIT_SUM_SUM_TO_LIMIT_SUM_RATIO'] = bureau_agg['BURO_AMT_CREDIT_SUM_SUM'] / bureau_agg['BURO_AMT_CREDIT_SUM_LIMIT_SUM']\n",
    "bureau_agg['BURO_AMT_CREDIT_SUM_SUM_TO_DEBT_SUM_RATIO'] = bureau_agg['BURO_AMT_CREDIT_SUM_SUM'] / bureau_agg['BURO_AMT_CREDIT_SUM_DEBT_SUM']\n",
    "bureau_agg['BURO_AMT_CREDIT_SUM_SUM_TO_MAX_OVERDUE_SUM_RATIO'] = bureau_agg['BURO_AMT_CREDIT_SUM_SUM'] / bureau_agg['BURO_AMT_CREDIT_MAX_OVERDUE_SUM']\n",
    "bureau_agg['BURO_AMT_CREDIT_SUM_SUM_TO_CREDIT_SUM_OVERDUE_SUM_RATIO'] = bureau_agg['BURO_AMT_CREDIT_SUM_SUM'] / bureau_agg['BURO_AMT_CREDIT_SUM_OVERDUE_SUM']\n",
    "bureau_agg['BURO_AMT_CREDIT_SUM_SUM_TO_ANNUITYE_SUM_RATIO'] = bureau_agg['BURO_AMT_CREDIT_SUM_SUM'] / bureau_agg['BURO_AMT_ANNUITY_SUM']\n",
    "\n",
    "bureau_agg['BURO_AVG_CREDIT_ON_BUREAU_BALANCE_REC'] = bureau_agg['BURO_AMT_CREDIT_SUM_SUM'] / bureau_agg['BURO_MONTHS_BALANCE_SIZE_SUM']\n",
    "bureau_agg['BURO_AVG_LIMIT_ON_BUREAU_BALANCE_REC'] = bureau_agg['BURO_AMT_CREDIT_SUM_LIMIT_SUM'] / bureau_agg['BURO_MONTHS_BALANCE_SIZE_SUM']\n",
    "bureau_agg['BURO_AVG_DEBT_ON_BUREAU_BALANCE_REC'] = bureau_agg['BURO_AMT_CREDIT_SUM_DEBT_SUM'] / bureau_agg['BURO_MONTHS_BALANCE_SIZE_SUM']\n",
    "bureau_agg['BURO_AVG_MAX_OVERDUE_ON_BUREAU_BALANCE_REC'] = bureau_agg['BURO_AMT_CREDIT_MAX_OVERDUE_SUM'] / bureau_agg['BURO_MONTHS_BALANCE_SIZE_SUM']\n",
    "bureau_agg['BURO_AVG_OVERDUE_ON_BUREAU_BALANCE_REC'] = bureau_agg['BURO_AMT_CREDIT_SUM_OVERDUE_SUM'] / bureau_agg['BURO_MONTHS_BALANCE_SIZE_SUM']\n",
    "bureau_agg['BURO_AVG_ANNUITY_ON_BUREAU_BALANCE_REC'] = bureau_agg['BURO_AMT_ANNUITY_SUM'] / bureau_agg['BURO_MONTHS_BALANCE_SIZE_SUM']\n",
    "\n",
    "bureau_agg['BURO_AVG_PROLONG_CREDIT'] = bureau_agg['BURO_AMT_CREDIT_SUM_SUM'] / bureau_agg['BURO_CNT_CREDIT_PROLONG_SUM']\n",
    "bureau_agg['BURO_AVG_PROLONG_ANNUITY'] = bureau_agg['BURO_AMT_ANNUITY_SUM'] / bureau_agg['BURO_CNT_CREDIT_PROLONG_SUM']\n",
    "bureau_agg['BURO_AVG_PROLONG_CREDIT_OVERDUE'] = bureau_agg['BURO_AMT_CREDIT_SUM_OVERDUE_SUM'] / bureau_agg['BURO_CNT_CREDIT_PROLONG_SUM']"
   ]
  },
  {
   "cell_type": "code",
   "execution_count": null,
   "metadata": {
    "collapsed": true
   },
   "outputs": [],
   "source": [
    "# Bureau: Active credits\n",
    "active = bureau[bureau['CREDIT_ACTIVE_Active'] == 1]\n",
    "active_agg = active.groupby('SK_ID_CURR').agg({**num_aggregations, **cat_aggregations})\n",
    "active_agg.columns = pd.Index(['ACTIVE_' + e[0] + \"_\" + e[1].upper() for e in active_agg.columns.tolist()])\n",
    "bureau_agg = bureau_agg.join(active_agg, how='left', on='SK_ID_CURR')\n",
    "del active, active_agg\n",
    "gc.collect()\n",
    "\n",
    "# Bureau: Closed credits\n",
    "closed = bureau[bureau['CREDIT_ACTIVE_Closed'] == 1]\n",
    "closed_agg = closed.groupby('SK_ID_CURR').agg({**num_aggregations, **cat_aggregations})\n",
    "closed_agg.columns = pd.Index(['CLOSED_' + e[0] + \"_\" + e[1].upper() for e in closed_agg.columns.tolist()])\n",
    "bureau_agg = bureau_agg.join(closed_agg, how='left', on='SK_ID_CURR')\n",
    "del closed, closed_agg,\n",
    "\n",
    "# Bureau: future credits - using only numerical aggregations\n",
    "future = bureau[bureau['IS_END_IN_FUTURE'] == 1]\n",
    "future_agg = future.groupby('SK_ID_CURR').agg({**num_aggregations, **cat_aggregations})\n",
    "future_agg.columns = pd.Index(['FUTURE_' + e[0] + \"_\" + e[1].upper() for e in future_agg.columns.tolist()])\n",
    "bureau_agg = bureau_agg.join(future_agg, how='left', on='SK_ID_CURR')"
   ]
  },
  {
   "cell_type": "code",
   "execution_count": null,
   "metadata": {
    "collapsed": true,
    "scrolled": false
   },
   "outputs": [],
   "source": [
    "for col in bureau_agg.columns:\n",
    "    print(col)"
   ]
  }
 ],
 "metadata": {
  "kernelspec": {
   "display_name": "Python 3",
   "language": "python",
   "name": "python3"
  },
  "language_info": {
   "codemirror_mode": {
    "name": "ipython",
    "version": 3
   },
   "file_extension": ".py",
   "mimetype": "text/x-python",
   "name": "python",
   "nbconvert_exporter": "python",
   "pygments_lexer": "ipython3",
   "version": "3.6.3"
  }
 },
 "nbformat": 4,
 "nbformat_minor": 2
}
