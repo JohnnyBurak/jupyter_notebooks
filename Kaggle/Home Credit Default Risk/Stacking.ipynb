{
 "cells": [
  {
   "cell_type": "code",
   "execution_count": 1,
   "metadata": {
    "collapsed": true
   },
   "outputs": [],
   "source": [
    "import pandas as pd\n",
    "import numpy as np\n",
    "import matplotlib.pyplot as plt\n",
    "import pickle\n",
    "import sys\n",
    "sys.path.append('../../')\n",
    "%matplotlib inline"
   ]
  },
  {
   "cell_type": "code",
   "execution_count": 2,
   "metadata": {
    "collapsed": true
   },
   "outputs": [],
   "source": [
    "with open('./stacking.pkl', 'rb') as f:\n",
    "    stacking = pickle.load(f)"
   ]
  },
  {
   "cell_type": "code",
   "execution_count": 3,
   "metadata": {
    "collapsed": true
   },
   "outputs": [],
   "source": [
    "meta_clf = stacking.meta_classifier_\n",
    "base_clfs = stacking.base_classifiers_"
   ]
  },
  {
   "cell_type": "markdown",
   "metadata": {},
   "source": [
    "<font size=5> OVERVIEW ON BASE CLASSIFIER"
   ]
  },
  {
   "cell_type": "code",
   "execution_count": 7,
   "metadata": {
    "scrolled": false
   },
   "outputs": [
    {
     "name": "stdout",
     "output_type": "stream",
     "text": [
      "#1 BASE_CLF NAME: base_lgb_1\n",
      "============================================================\n",
      "fold_1\n",
      "BEST_ITER:                     100\n",
      "BEST_SCORE_TRAIN:              0.925607\n",
      "BEST_SCORE_VALID:              0.698582\n",
      "TRAINING_USING_TIME:           5\n",
      "--------------------------------------------------\n",
      "fold_2\n",
      "BEST_ITER:                     100\n",
      "BEST_SCORE_TRAIN:              0.927013\n",
      "BEST_SCORE_VALID:              0.712918\n",
      "TRAINING_USING_TIME:           5\n",
      "--------------------------------------------------\n",
      "fold_3\n",
      "BEST_ITER:                     100\n",
      "BEST_SCORE_TRAIN:              0.925368\n",
      "BEST_SCORE_VALID:              0.713259\n",
      "TRAINING_USING_TIME:           5\n",
      "--------------------------------------------------\n",
      "fold_4\n",
      "BEST_ITER:                     100\n",
      "BEST_SCORE_TRAIN:              0.926531\n",
      "BEST_SCORE_VALID:              0.726094\n",
      "TRAINING_USING_TIME:           5\n",
      "--------------------------------------------------\n",
      "fold_5\n",
      "BEST_ITER:                     100\n",
      "BEST_SCORE_TRAIN:              0.929056\n",
      "BEST_SCORE_VALID:              0.721776\n",
      "TRAINING_USING_TIME:           5\n",
      "--------------------------------------------------\n",
      "FULL VALID AUC:                0.714420 \n",
      "\n",
      "#2 BASE_CLF NAME: base_lgb_2\n",
      "============================================================\n",
      "fold_1\n",
      "BEST_ITER:                     100\n",
      "BEST_SCORE_TRAIN:              0.943433\n",
      "BEST_SCORE_VALID:              0.691237\n",
      "TRAINING_USING_TIME:           5\n",
      "--------------------------------------------------\n",
      "fold_2\n",
      "BEST_ITER:                     100\n",
      "BEST_SCORE_TRAIN:              0.941891\n",
      "BEST_SCORE_VALID:              0.704849\n",
      "TRAINING_USING_TIME:           5\n",
      "--------------------------------------------------\n",
      "fold_3\n",
      "BEST_ITER:                     100\n",
      "BEST_SCORE_TRAIN:              0.942044\n",
      "BEST_SCORE_VALID:              0.704811\n",
      "TRAINING_USING_TIME:           5\n",
      "--------------------------------------------------\n",
      "fold_4\n",
      "BEST_ITER:                     100\n",
      "BEST_SCORE_TRAIN:              0.941450\n",
      "BEST_SCORE_VALID:              0.720661\n",
      "TRAINING_USING_TIME:           5\n",
      "--------------------------------------------------\n",
      "fold_5\n",
      "BEST_ITER:                     100\n",
      "BEST_SCORE_TRAIN:              0.943386\n",
      "BEST_SCORE_VALID:              0.724254\n",
      "TRAINING_USING_TIME:           5\n",
      "--------------------------------------------------\n",
      "FULL VALID AUC:                0.709005 \n",
      "\n",
      "#3 BASE_CLF NAME: base_lgb_3\n",
      "============================================================\n",
      "fold_1\n",
      "BEST_ITER:                     100\n",
      "BEST_SCORE_TRAIN:              0.914747\n",
      "BEST_SCORE_VALID:              0.700580\n",
      "TRAINING_USING_TIME:           5\n",
      "--------------------------------------------------\n",
      "fold_2\n",
      "BEST_ITER:                     100\n",
      "BEST_SCORE_TRAIN:              0.910107\n",
      "BEST_SCORE_VALID:              0.721999\n",
      "TRAINING_USING_TIME:           5\n",
      "--------------------------------------------------\n",
      "fold_3\n",
      "BEST_ITER:                     100\n",
      "BEST_SCORE_TRAIN:              0.910812\n",
      "BEST_SCORE_VALID:              0.716839\n",
      "TRAINING_USING_TIME:           5\n",
      "--------------------------------------------------\n",
      "fold_4\n",
      "BEST_ITER:                     100\n",
      "BEST_SCORE_TRAIN:              0.908691\n",
      "BEST_SCORE_VALID:              0.735281\n",
      "TRAINING_USING_TIME:           5\n",
      "--------------------------------------------------\n",
      "fold_5\n",
      "BEST_ITER:                     100\n",
      "BEST_SCORE_TRAIN:              0.910044\n",
      "BEST_SCORE_VALID:              0.714534\n",
      "TRAINING_USING_TIME:           5\n",
      "--------------------------------------------------\n",
      "FULL VALID AUC:                0.717668 \n",
      "\n",
      "#4 BASE_CLF NAME: base_lgb_4\n",
      "============================================================\n",
      "fold_1\n",
      "BEST_ITER:                     100\n",
      "BEST_SCORE_TRAIN:              0.928263\n",
      "BEST_SCORE_VALID:              0.708079\n",
      "TRAINING_USING_TIME:           5\n",
      "--------------------------------------------------\n",
      "fold_2\n",
      "BEST_ITER:                     100\n",
      "BEST_SCORE_TRAIN:              0.929569\n",
      "BEST_SCORE_VALID:              0.717301\n",
      "TRAINING_USING_TIME:           5\n",
      "--------------------------------------------------\n",
      "fold_3\n",
      "BEST_ITER:                     100\n",
      "BEST_SCORE_TRAIN:              0.931350\n",
      "BEST_SCORE_VALID:              0.710918\n",
      "TRAINING_USING_TIME:           5\n",
      "--------------------------------------------------\n",
      "fold_4\n",
      "BEST_ITER:                     100\n",
      "BEST_SCORE_TRAIN:              0.925992\n",
      "BEST_SCORE_VALID:              0.725666\n",
      "TRAINING_USING_TIME:           6\n",
      "--------------------------------------------------\n",
      "fold_5\n",
      "BEST_ITER:                     100\n",
      "BEST_SCORE_TRAIN:              0.925693\n",
      "BEST_SCORE_VALID:              0.730162\n",
      "TRAINING_USING_TIME:           5\n",
      "--------------------------------------------------\n",
      "FULL VALID AUC:                0.718247 \n",
      "\n",
      "#5 BASE_CLF NAME: base_lgb_5\n",
      "============================================================\n",
      "fold_1\n",
      "BEST_ITER:                     100\n",
      "BEST_SCORE_TRAIN:              0.947497\n",
      "BEST_SCORE_VALID:              0.703360\n",
      "TRAINING_USING_TIME:           5\n",
      "--------------------------------------------------\n",
      "fold_2\n",
      "BEST_ITER:                     100\n",
      "BEST_SCORE_TRAIN:              0.943502\n",
      "BEST_SCORE_VALID:              0.726817\n",
      "TRAINING_USING_TIME:           6\n",
      "--------------------------------------------------\n",
      "fold_3\n",
      "BEST_ITER:                     100\n",
      "BEST_SCORE_TRAIN:              0.945589\n",
      "BEST_SCORE_VALID:              0.721183\n",
      "TRAINING_USING_TIME:           6\n",
      "--------------------------------------------------\n",
      "fold_4\n",
      "BEST_ITER:                     100\n",
      "BEST_SCORE_TRAIN:              0.942342\n",
      "BEST_SCORE_VALID:              0.723749\n",
      "TRAINING_USING_TIME:           6\n",
      "--------------------------------------------------\n",
      "fold_5\n",
      "BEST_ITER:                     100\n",
      "BEST_SCORE_TRAIN:              0.946920\n",
      "BEST_SCORE_VALID:              0.714682\n",
      "TRAINING_USING_TIME:           6\n",
      "--------------------------------------------------\n",
      "FULL VALID AUC:                0.718022 \n",
      "\n"
     ]
    }
   ],
   "source": [
    "for i, baseClf in enumerate(base_clfs, 1):\n",
    "    print(\"#%d BASE_CLF NAME: %s\" % (i, baseClf.name_))\n",
    "    print(\"=\" * 60)\n",
    "    kfold_result = baseClf.kfold_result_\n",
    "    for n_fold in kfold_result.keys():\n",
    "        fold_res = kfold_result[n_fold]\n",
    "        print(n_fold)\n",
    "        print(\"%-30s %d\" % ('BEST_ITER:', fold_res['best_iteration']))\n",
    "        print(\"%-30s %.6f\" % ('BEST_SCORE_TRAIN:', fold_res['best_score']['training']))\n",
    "        print(\"%-30s %.6f\" % ('BEST_SCORE_VALID:', fold_res['best_score']['valid']))\n",
    "        print(\"%-30s %d\" % ('TRAINING_USING_TIME:', fold_res['using_time']))\n",
    "        print(\"-\"* 50)\n",
    "    print(\"%-30s %.6f \\n\" % ('FULL VALID AUC:', baseClf.score_))"
   ]
  },
  {
   "cell_type": "markdown",
   "metadata": {},
   "source": [
    "<font size=5> OVERVIEW ON META CLASSIFIER"
   ]
  },
  {
   "cell_type": "code",
   "execution_count": 67,
   "metadata": {},
   "outputs": [
    {
     "name": "stdout",
     "output_type": "stream",
     "text": [
      "CV result on Cs\n",
      "0.001        |   0.01         |   0.1          |   0.5          |   1            |   10        \n",
      "===============================================================================================\n",
      "0.75637560   |   0.75638878   |   0.75654810   |   0.75657861   |   0.75662757   |   0.75664828\n",
      "0.73550348   |   0.73556939   |   0.73573473   |   0.73572682   |   0.73567597   |   0.73566957\n",
      "0.72157645   |   0.72152296   |   0.72105058   |   0.72051039   |   0.72034389   |   0.72015931\n",
      "0.74946019   |   0.74945831   |   0.74938281   |   0.74919482   |   0.74916538   |   0.74910423\n",
      "0.71356488   |   0.71356525   |   0.71373663   |   0.71378948   |   0.71380345   |   0.71379967\n",
      "============================================= AVG =============================================\n",
      "0.73529612   |   0.73530094   |   0.73529057   |   0.73516002   |   0.73512325   |   0.73507621\n"
     ]
    }
   ],
   "source": [
    "print(\"CV result on Cs\")\n",
    "print('   |   '.join(map(lambda x: '%-10s' % x, meta_clf.Cs)))\n",
    "print('=' * 95)\n",
    "n_rows = meta_clf.scores_[1].shape[0]\n",
    "for i in range(n_rows):\n",
    "    print('   |   '.join(map(lambda x: str(x)[:10], list(meta_clf.scores_[1][i]))))\n",
    "print('=' * 45, 'AVG', '=' * 45)\n",
    "print('   |   '.join(map(lambda x: str(x)[:10], list(meta_clf.scores_[1].mean(axis=0)))))"
   ]
  },
  {
   "cell_type": "code",
   "execution_count": 44,
   "metadata": {},
   "outputs": [
    {
     "name": "stdout",
     "output_type": "stream",
     "text": [
      "BASE CLASSIFIER's WEIGHT: \n",
      "base_lgb_1   |   base_lgb_2   |   base_lgb_3   |   base_lgb_4   |   base_lgb_5\n",
      "0.78493541   |   0.81773800   |   0.79965269   |   0.86813896   |   0.86924265\n"
     ]
    }
   ],
   "source": [
    "print(\"BASE CLASSIFIER's WEIGHT: \")\n",
    "print('   |   '.join(map(lambda x: x.name_, base_clfs)))\n",
    "print('   |   '.join(map(lambda x: str(x)[:10], list(meta_clf.coef_[0]))))"
   ]
  }
 ],
 "metadata": {
  "kernelspec": {
   "display_name": "Python 3",
   "language": "python",
   "name": "python3"
  },
  "language_info": {
   "codemirror_mode": {
    "name": "ipython",
    "version": 3
   },
   "file_extension": ".py",
   "mimetype": "text/x-python",
   "name": "python",
   "nbconvert_exporter": "python",
   "pygments_lexer": "ipython3",
   "version": "3.6.3"
  }
 },
 "nbformat": 4,
 "nbformat_minor": 2
}
