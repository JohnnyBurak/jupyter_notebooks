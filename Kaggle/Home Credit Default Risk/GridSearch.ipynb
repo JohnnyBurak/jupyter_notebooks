{
 "cells": [
  {
   "cell_type": "code",
   "execution_count": null,
   "metadata": {
    "collapsed": true
   },
   "outputs": [],
   "source": [
    "import pickle\n",
    "import pandas as pd\n",
    "import matplotlib.pyplot as plt\n",
    "%matplotlib inline"
   ]
  },
  {
   "cell_type": "code",
   "execution_count": null,
   "metadata": {
    "collapsed": true
   },
   "outputs": [],
   "source": [
    "with open('./grid_search.pkl', 'rb') as f:\n",
    "    searcher = pickle.load(f)\n",
    "cv_result_df = pd.DataFrame(searcher.cv_results_)"
   ]
  },
  {
   "cell_type": "markdown",
   "metadata": {},
   "source": [
    "<font size=5> Grid Search Overview"
   ]
  },
  {
   "cell_type": "code",
   "execution_count": null,
   "metadata": {
    "collapsed": true
   },
   "outputs": [],
   "source": [
    "params = searcher.get_params()\n",
    "del params['estimator'], params['error_score']\n",
    "print('GRID SEARCH PARAM SETTING')\n",
    "print('=' * 90)\n",
    "for key, val in params.items():\n",
    "    print('%-50s %s' % (key, val))"
   ]
  },
  {
   "cell_type": "code",
   "execution_count": null,
   "metadata": {
    "collapsed": true
   },
   "outputs": [],
   "source": [
    "over_view_cols = ['rank_test_score', 'mean_test_score', 'mean_train_score'] +\\\n",
    "                 [col for col in cv_result_df.columns if 'param_' in col]\n",
    "\n",
    "cv_result_df[over_view_cols].sort_values(by='rank_test_score')"
   ]
  },
  {
   "cell_type": "markdown",
   "metadata": {},
   "source": [
    "<font size=5> Analysis on Paramters Performance"
   ]
  },
  {
   "cell_type": "code",
   "execution_count": null,
   "metadata": {
    "collapsed": true
   },
   "outputs": [],
   "source": [
    "def draw_param_performance(df, col):\n",
    "    ind = range(len(df))\n",
    "    x_vals = df[col].values\n",
    "    y_vals = df['mean_test_score'].values   \n",
    "    err_vals = df['std_test_score'].values   \n",
    "    low_bnd, up_bnd = 0.998 * y_vals.min(), 1.002 * y_vals.max()\n",
    "    plt.bar(ind, y_vals, yerr=err_vals)\n",
    "    plt.xticks(ind, x_vals)\n",
    "    plt.ylim((low_bnd, up_bnd))\n",
    "    plt.grid(True)\n",
    "    plt.xlabel(col)\n",
    "    plt.ylabel('mean_test_score')"
   ]
  }
 ],
 "metadata": {
  "kernelspec": {
   "display_name": "Python 3",
   "language": "python",
   "name": "python3"
  },
  "language_info": {
   "codemirror_mode": {
    "name": "ipython",
    "version": 3
   },
   "file_extension": ".py",
   "mimetype": "text/x-python",
   "name": "python",
   "nbconvert_exporter": "python",
   "pygments_lexer": "ipython3",
   "version": "3.6.3"
  }
 },
 "nbformat": 4,
 "nbformat_minor": 2
}
