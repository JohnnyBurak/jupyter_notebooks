{
 "cells": [
  {
   "cell_type": "markdown",
   "metadata": {
    "_uuid": "3f924b9b249d597d0105e2e0f2d2b9425e68e4df"
   },
   "source": [
    "![](header.png)\n",
    "\n",
    "## Постановка задачи\n",
    "Необходимо определить стоимость транзакций для каждого потенциального клиента. Это первый шаг, для персонализации своих услуг.\n",
    "\n",
    "Согласно исследованиям Epsilon, 80% клиентов с большей вероятностью будут вести бизнес с теми, кто предоставляет персонализированное обслуживание. Банковское дело не является исключением.\n",
    "\n",
    "Цифровизация повседневной жизни означает, что клиенты ожидают, что услуги будут предоставляться персонализированно и своевременно и даже, прежде чем они даже осознают, что им нужна эта услуга. \n",
    "\n",
    "Метрика оценки - RMSLE"
   ]
  },
  {
   "cell_type": "markdown",
   "metadata": {
    "_uuid": "ad1d0ea11e4e57634fbe5739e437bd39521b13d9"
   },
   "source": [
    "## Подход к решению задачи\n",
    "Применяем раздичные подходы и методы ML, после чего блендим решения в одно."
   ]
  },
  {
   "cell_type": "markdown",
   "metadata": {
    "_uuid": "a93501f5756912766aae969d1abb0d577faebef9"
   },
   "source": [
    "## Data Leak\n",
    "Для того, что бы вникнуть в Data Leak по этому соревнованию обнаруженный пользователем [Giba](https://www.kaggle.com/titericz). Рекомендую почитать [обсуждение](https://www.kaggle.com/c/santander-value-prediction-challenge/discussion/61329) и посмотреть [кернел](https://www.kaggle.com/johnfarrell/giba-s-property-extended-extended-result).  "
   ]
  },
  {
   "cell_type": "markdown",
   "metadata": {
    "_uuid": "63d42e9dcda754a1583049d49dbafa4d2c04b281"
   },
   "source": [
    "## Подгружаем все необходимое"
   ]
  },
  {
   "cell_type": "code",
   "execution_count": 1,
   "metadata": {
    "_cell_guid": "b1076dfc-b9ad-4769-8c92-a6c4dae69d19",
    "_uuid": "8f2839f25d086af736a60e9eeb907d3b93b6e0e5"
   },
   "outputs": [
    {
     "name": "stdout",
     "output_type": "stream",
     "text": [
      "['santander-value-prediction-challenge', 'publicsubs']\n"
     ]
    }
   ],
   "source": [
    "import numpy as np \n",
    "import pandas as pd \n",
    "import os\n",
    "print(os.listdir(\"../input\"))\n",
    "\n",
    "import lightgbm as lgb\n",
    "from sklearn.model_selection import *\n",
    "from sklearn.metrics import mean_squared_error, make_scorer\n",
    "from scipy.stats import mode, skew, kurtosis, entropy\n",
    "from sklearn.ensemble import ExtraTreesRegressor\n",
    "\n",
    "import matplotlib.pyplot as plt\n",
    "import seaborn as sns\n",
    "\n",
    "import dask.dataframe as dd\n",
    "from dask.multiprocessing import get\n",
    "\n",
    "from tqdm import tqdm, tqdm_notebook\n",
    "tqdm.pandas(tqdm_notebook)"
   ]
  },
  {
   "cell_type": "code",
   "execution_count": 3,
   "metadata": {
    "_uuid": "4c47ab89151f7f21e3983c7e62f63d0c19b0fc0e",
    "collapsed": true
   },
   "outputs": [],
   "source": [
    "train = pd.read_csv(\"../input/santander-value-prediction-challenge/train.csv\")\n",
    "test = pd.read_csv(\"../input/santander-value-prediction-challenge/test.csv\")\n",
    "\n",
    "transact_cols = [f for f in train.columns if f not in [\"ID\", \"target\"]]\n",
    "y = np.log1p(train[\"target\"]).values"
   ]
  },
  {
   "cell_type": "markdown",
   "metadata": {
    "_uuid": "efbb2b7e5320010d5b80c4174d5889d98af786b0"
   },
   "source": [
    "[Здесь](https://www.kaggle.com/johnfarrell/giba-s-property-extended-result) мы берем столбцы временных рядов"
   ]
  },
  {
   "cell_type": "code",
   "execution_count": 4,
   "metadata": {
    "_uuid": "06392db30bb34b4378dad0fe1452bd4ffc6920fe",
    "collapsed": true
   },
   "outputs": [],
   "source": [
    "cols = ['f190486d6', '58e2e02e6', 'eeb9cd3aa', '9fd594eec', '6eef030c1',\n",
    "       '15ace8c9f', 'fb0f5dbfe', '58e056e12', '20aa07010', '024c577b9',\n",
    "       'd6bb78916', 'b43a7cfd5', '58232a6fb', '1702b5bf0', '324921c7b', \n",
    "       '62e59a501', '2ec5b290f', '241f0f867', 'fb49e4212',  '66ace2992',\n",
    "       'f74e8f13d', '5c6487af1', '963a49cdc', '26fc93eb7', '1931ccfdd', \n",
    "       '703885424', '70feb1494', '491b9ee45', '23310aa6f', 'e176a204a',\n",
    "       '6619d81fc', '1db387535', 'fc99f9426', '91f701ba2',  '0572565c2',\n",
    "       '190db8488',  'adb64ff71', 'c47340d97', 'c5a231d81', '0ff32eb98'] "
   ]
  },
  {
   "cell_type": "markdown",
   "metadata": {
    "_uuid": "7025b66efd411da182d4fc8ffce440a4a5aeb00a"
   },
   "source": [
    "Ищем data leak:\n",
    "1.  Получите строку из всех значений после удаления первых двух\n",
    "1.  Для всех строк мы сдвигаем строку на два шага и снова делаем строку\n",
    "1.  Просто найдите строки, где строка из 2 соответствует строке из 1\n",
    "1.  Получите 1-й шаг в строке из 3 (в настоящее время есть дополнительное условие только для получения значения, если мы получили ровно одно совпадение на шаге 3)"
   ]
  },
  {
   "cell_type": "code",
   "execution_count": 5,
   "metadata": {
    "_uuid": "ccabc9afac87d07df2811f4d762e7391c944895d",
    "collapsed": true
   },
   "outputs": [],
   "source": [
    "from multiprocessing import Pool\n",
    "CPU_CORES = 1\n",
    "def _get_leak(df, cols, lag=0):\n",
    "    series_str = df[cols[lag+2:]].apply(lambda x: \"_\".join(x.round(2).astype(str)), axis=1)\n",
    "    series_shifted_str = df[cols].shift(lag+2, axis=1)[cols[lag+2:]].apply(lambda x: \"_\".join(x.round(2).astype(str)), axis=1)\n",
    "    target_rows = series_shifted_str.progress_apply(lambda x: np.where(x == series_str)[0])\n",
    "    target_vals = target_rows.apply(lambda x: df.loc[x[0], cols[lag]] if len(x)==1 else 0)\n",
    "    return target_vals\n",
    "\n",
    "def get_all_leak(df, cols=None, nlags=15):\n",
    "    df =  df.copy()\n",
    "\n",
    "    for i in range(nlags):\n",
    "        print(\"Processing lag {}\".format(i))\n",
    "        df[\"leaked_target_\"+str(i)] = _get_leak(df, cols, i)\n",
    "    return df"
   ]
  },
  {
   "cell_type": "code",
   "execution_count": 6,
   "metadata": {
    "_uuid": "53985536b039239636aa8ea4d1e62315686d764c"
   },
   "outputs": [
    {
     "data": {
      "text/html": [
       "<div>\n",
       "<style scoped>\n",
       "    .dataframe tbody tr th:only-of-type {\n",
       "        vertical-align: middle;\n",
       "    }\n",
       "\n",
       "    .dataframe tbody tr th {\n",
       "        vertical-align: top;\n",
       "    }\n",
       "\n",
       "    .dataframe thead th {\n",
       "        text-align: right;\n",
       "    }\n",
       "</style>\n",
       "<table border=\"1\" class=\"dataframe\">\n",
       "  <thead>\n",
       "    <tr style=\"text-align: right;\">\n",
       "      <th></th>\n",
       "      <th>ID</th>\n",
       "      <th>target</th>\n",
       "      <th>f190486d6</th>\n",
       "      <th>58e2e02e6</th>\n",
       "      <th>eeb9cd3aa</th>\n",
       "      <th>9fd594eec</th>\n",
       "      <th>6eef030c1</th>\n",
       "      <th>15ace8c9f</th>\n",
       "      <th>fb0f5dbfe</th>\n",
       "      <th>58e056e12</th>\n",
       "      <th>20aa07010</th>\n",
       "      <th>024c577b9</th>\n",
       "      <th>d6bb78916</th>\n",
       "      <th>b43a7cfd5</th>\n",
       "      <th>58232a6fb</th>\n",
       "      <th>1702b5bf0</th>\n",
       "      <th>324921c7b</th>\n",
       "      <th>62e59a501</th>\n",
       "      <th>2ec5b290f</th>\n",
       "      <th>241f0f867</th>\n",
       "      <th>fb49e4212</th>\n",
       "      <th>66ace2992</th>\n",
       "      <th>f74e8f13d</th>\n",
       "      <th>5c6487af1</th>\n",
       "      <th>963a49cdc</th>\n",
       "      <th>26fc93eb7</th>\n",
       "      <th>1931ccfdd</th>\n",
       "      <th>703885424</th>\n",
       "      <th>70feb1494</th>\n",
       "      <th>491b9ee45</th>\n",
       "      <th>23310aa6f</th>\n",
       "      <th>e176a204a</th>\n",
       "      <th>6619d81fc</th>\n",
       "      <th>1db387535</th>\n",
       "      <th>fc99f9426</th>\n",
       "      <th>91f701ba2</th>\n",
       "      <th>0572565c2</th>\n",
       "      <th>190db8488</th>\n",
       "      <th>adb64ff71</th>\n",
       "      <th>c47340d97</th>\n",
       "      <th>c5a231d81</th>\n",
       "      <th>0ff32eb98</th>\n",
       "    </tr>\n",
       "  </thead>\n",
       "  <tbody>\n",
       "    <tr>\n",
       "      <th>0</th>\n",
       "      <td>000d6aaf2</td>\n",
       "      <td>38000000.0</td>\n",
       "      <td>1866666.66</td>\n",
       "      <td>12066666.66</td>\n",
       "      <td>700000.0</td>\n",
       "      <td>600000.0</td>\n",
       "      <td>900000.0</td>\n",
       "      <td>4100000.0</td>\n",
       "      <td>0.0</td>\n",
       "      <td>0.0</td>\n",
       "      <td>0.0</td>\n",
       "      <td>0.0</td>\n",
       "      <td>0.0</td>\n",
       "      <td>0.0</td>\n",
       "      <td>28000000.0</td>\n",
       "      <td>0.0</td>\n",
       "      <td>6050000.0</td>\n",
       "      <td>0.0</td>\n",
       "      <td>0.0</td>\n",
       "      <td>950000.0</td>\n",
       "      <td>0.0</td>\n",
       "      <td>0.0</td>\n",
       "      <td>1733333.34</td>\n",
       "      <td>0.0</td>\n",
       "      <td>13200000.0</td>\n",
       "      <td>3205000.0</td>\n",
       "      <td>2000000.0</td>\n",
       "      <td>0.0</td>\n",
       "      <td>1200000.0</td>\n",
       "      <td>0.0</td>\n",
       "      <td>0.0</td>\n",
       "      <td>0.0</td>\n",
       "      <td>400000.0</td>\n",
       "      <td>0.0</td>\n",
       "      <td>0.0</td>\n",
       "      <td>5000000.0</td>\n",
       "      <td>400000.0</td>\n",
       "      <td>0.0</td>\n",
       "      <td>0.0</td>\n",
       "      <td>0.0</td>\n",
       "      <td>0.0</td>\n",
       "      <td>0.0</td>\n",
       "    </tr>\n",
       "    <tr>\n",
       "      <th>1</th>\n",
       "      <td>000fbd867</td>\n",
       "      <td>600000.0</td>\n",
       "      <td>0.00</td>\n",
       "      <td>2850000.00</td>\n",
       "      <td>2225000.0</td>\n",
       "      <td>1800000.0</td>\n",
       "      <td>800000.0</td>\n",
       "      <td>0.0</td>\n",
       "      <td>0.0</td>\n",
       "      <td>3300000.0</td>\n",
       "      <td>2200000.0</td>\n",
       "      <td>0.0</td>\n",
       "      <td>2000000.0</td>\n",
       "      <td>0.0</td>\n",
       "      <td>0.0</td>\n",
       "      <td>16000000.0</td>\n",
       "      <td>7000000.0</td>\n",
       "      <td>0.0</td>\n",
       "      <td>0.0</td>\n",
       "      <td>0.0</td>\n",
       "      <td>0.0</td>\n",
       "      <td>0.0</td>\n",
       "      <td>0.00</td>\n",
       "      <td>0.0</td>\n",
       "      <td>0.0</td>\n",
       "      <td>0.0</td>\n",
       "      <td>0.0</td>\n",
       "      <td>0.0</td>\n",
       "      <td>0.0</td>\n",
       "      <td>0.0</td>\n",
       "      <td>0.0</td>\n",
       "      <td>0.0</td>\n",
       "      <td>0.0</td>\n",
       "      <td>0.0</td>\n",
       "      <td>0.0</td>\n",
       "      <td>0.0</td>\n",
       "      <td>0.0</td>\n",
       "      <td>0.0</td>\n",
       "      <td>0.0</td>\n",
       "      <td>0.0</td>\n",
       "      <td>0.0</td>\n",
       "      <td>0.0</td>\n",
       "    </tr>\n",
       "    <tr>\n",
       "      <th>2</th>\n",
       "      <td>0027d6b71</td>\n",
       "      <td>10000000.0</td>\n",
       "      <td>0.00</td>\n",
       "      <td>0.00</td>\n",
       "      <td>0.0</td>\n",
       "      <td>0.0</td>\n",
       "      <td>0.0</td>\n",
       "      <td>0.0</td>\n",
       "      <td>0.0</td>\n",
       "      <td>6000000.0</td>\n",
       "      <td>0.0</td>\n",
       "      <td>0.0</td>\n",
       "      <td>0.0</td>\n",
       "      <td>0.0</td>\n",
       "      <td>0.0</td>\n",
       "      <td>0.0</td>\n",
       "      <td>0.0</td>\n",
       "      <td>0.0</td>\n",
       "      <td>0.0</td>\n",
       "      <td>0.0</td>\n",
       "      <td>0.0</td>\n",
       "      <td>5500000.0</td>\n",
       "      <td>0.00</td>\n",
       "      <td>0.0</td>\n",
       "      <td>12000000.0</td>\n",
       "      <td>0.0</td>\n",
       "      <td>0.0</td>\n",
       "      <td>0.0</td>\n",
       "      <td>0.0</td>\n",
       "      <td>0.0</td>\n",
       "      <td>0.0</td>\n",
       "      <td>0.0</td>\n",
       "      <td>0.0</td>\n",
       "      <td>0.0</td>\n",
       "      <td>0.0</td>\n",
       "      <td>0.0</td>\n",
       "      <td>0.0</td>\n",
       "      <td>0.0</td>\n",
       "      <td>0.0</td>\n",
       "      <td>0.0</td>\n",
       "      <td>0.0</td>\n",
       "      <td>0.0</td>\n",
       "    </tr>\n",
       "    <tr>\n",
       "      <th>3</th>\n",
       "      <td>0028cbf45</td>\n",
       "      <td>2000000.0</td>\n",
       "      <td>2000000.00</td>\n",
       "      <td>0.00</td>\n",
       "      <td>0.0</td>\n",
       "      <td>0.0</td>\n",
       "      <td>0.0</td>\n",
       "      <td>0.0</td>\n",
       "      <td>0.0</td>\n",
       "      <td>0.0</td>\n",
       "      <td>0.0</td>\n",
       "      <td>0.0</td>\n",
       "      <td>0.0</td>\n",
       "      <td>0.0</td>\n",
       "      <td>0.0</td>\n",
       "      <td>0.0</td>\n",
       "      <td>0.0</td>\n",
       "      <td>0.0</td>\n",
       "      <td>0.0</td>\n",
       "      <td>0.0</td>\n",
       "      <td>0.0</td>\n",
       "      <td>0.0</td>\n",
       "      <td>0.00</td>\n",
       "      <td>0.0</td>\n",
       "      <td>0.0</td>\n",
       "      <td>0.0</td>\n",
       "      <td>0.0</td>\n",
       "      <td>0.0</td>\n",
       "      <td>0.0</td>\n",
       "      <td>0.0</td>\n",
       "      <td>0.0</td>\n",
       "      <td>0.0</td>\n",
       "      <td>0.0</td>\n",
       "      <td>0.0</td>\n",
       "      <td>0.0</td>\n",
       "      <td>0.0</td>\n",
       "      <td>0.0</td>\n",
       "      <td>0.0</td>\n",
       "      <td>0.0</td>\n",
       "      <td>0.0</td>\n",
       "      <td>0.0</td>\n",
       "      <td>0.0</td>\n",
       "    </tr>\n",
       "    <tr>\n",
       "      <th>4</th>\n",
       "      <td>002a68644</td>\n",
       "      <td>14400000.0</td>\n",
       "      <td>0.00</td>\n",
       "      <td>0.00</td>\n",
       "      <td>0.0</td>\n",
       "      <td>0.0</td>\n",
       "      <td>37662000.0</td>\n",
       "      <td>0.0</td>\n",
       "      <td>4000000.0</td>\n",
       "      <td>6700000.0</td>\n",
       "      <td>2000000.0</td>\n",
       "      <td>5400000.0</td>\n",
       "      <td>0.0</td>\n",
       "      <td>0.0</td>\n",
       "      <td>0.0</td>\n",
       "      <td>0.0</td>\n",
       "      <td>0.0</td>\n",
       "      <td>0.0</td>\n",
       "      <td>1180000.0</td>\n",
       "      <td>0.0</td>\n",
       "      <td>0.0</td>\n",
       "      <td>0.0</td>\n",
       "      <td>0.00</td>\n",
       "      <td>0.0</td>\n",
       "      <td>0.0</td>\n",
       "      <td>0.0</td>\n",
       "      <td>0.0</td>\n",
       "      <td>0.0</td>\n",
       "      <td>0.0</td>\n",
       "      <td>0.0</td>\n",
       "      <td>0.0</td>\n",
       "      <td>0.0</td>\n",
       "      <td>0.0</td>\n",
       "      <td>0.0</td>\n",
       "      <td>0.0</td>\n",
       "      <td>0.0</td>\n",
       "      <td>0.0</td>\n",
       "      <td>0.0</td>\n",
       "      <td>0.0</td>\n",
       "      <td>8000000.0</td>\n",
       "      <td>0.0</td>\n",
       "      <td>0.0</td>\n",
       "    </tr>\n",
       "  </tbody>\n",
       "</table>\n",
       "</div>"
      ],
      "text/plain": [
       "          ID      target   f190486d6    ...      c47340d97  c5a231d81  0ff32eb98\n",
       "0  000d6aaf2  38000000.0  1866666.66    ...            0.0        0.0        0.0\n",
       "1  000fbd867    600000.0        0.00    ...            0.0        0.0        0.0\n",
       "2  0027d6b71  10000000.0        0.00    ...            0.0        0.0        0.0\n",
       "3  0028cbf45   2000000.0  2000000.00    ...            0.0        0.0        0.0\n",
       "4  002a68644  14400000.0        0.00    ...      8000000.0        0.0        0.0\n",
       "\n",
       "[5 rows x 42 columns]"
      ]
     },
     "execution_count": 6,
     "metadata": {},
     "output_type": "execute_result"
    }
   ],
   "source": [
    "test[\"target\"] = train[\"target\"].mean()\n",
    "\n",
    "all_df = pd.concat([train[[\"ID\", \"target\"] + cols], test[[\"ID\", \"target\"]+ cols]]).reset_index(drop=True)\n",
    "all_df.head()"
   ]
  },
  {
   "cell_type": "code",
   "execution_count": null,
   "metadata": {
    "_uuid": "6cde0d088f2559fb1d4d49db4a44d373c81fd74a"
   },
   "outputs": [
    {
     "name": "stdout",
     "output_type": "stream",
     "text": [
      "Processing lag 0\n"
     ]
    }
   ],
   "source": [
    "NLAGS = 25\n",
    "all_df = get_all_leak(all_df, cols=cols, nlags=NLAGS)"
   ]
  },
  {
   "cell_type": "code",
   "execution_count": null,
   "metadata": {
    "_cell_guid": "79c7e3d0-c299-4dcb-8224-4455121ee9b0",
    "_uuid": "d629ff2d2480ee46fbb7e2d37f6b5fab8052498a",
    "collapsed": true
   },
   "outputs": [],
   "source": [
    "#https://www.kaggle.com/tezdhar/breaking-lb-fresh-start, LB 0.69\n",
    "BEST_69 = pd.read_csv(\"../input/publicsubs/baseline_submission_with_leaks.csv\")\n",
    "\n",
    "# ？\n",
    "ROUNED_MIN2 = pd.read_csv(\"../input/publicsubs/baseline_submission_with_leaks_ROUNDED_MINUS2.csv\")\n",
    "\n",
    "# https://www.kaggle.com/johnfarrell/baseline-with-lag-select-fake-rows-dropped, LB: 0.69\n",
    "NOFAKE = pd.read_csv(\"../input/publicsubs/non_fake_sub_lag_29.csv\")\n",
    "\n",
    "# https://www.kaggle.com/ogrellier/feature-scoring-vs-zeros/output, xgb, LB 0.66\n",
    "XGB = pd.read_csv(\"../input/publicsubs/leaky_submission.csv\")\n",
    "\n",
    "# https://www.kaggle.com/zeus75/xgboost-features-scoring-with-ligthgbm-model/output, LB 0.65\n",
    "XGB1 = pd.read_csv(\"../input/publicsubs/leaky_submission1.csv\")\n",
    "\n",
    "# https://www.kaggle.com/the1owl/love-is-the-answer/output?scriptVersionId=4733381, 0.63\n",
    "BLEND04 = pd.read_csv(\"../input/publicsubs/blend04.csv\") \n",
    "\n",
    "# https://www.kaggle.com/prashantkikani/santad-label-is-present-in-row/output.  0.63\n",
    "ISLABEL = pd.read_csv(\"../input/publicsubs/final.csv\")\n",
    "\n",
    "# https://www.kaggle.com/danil328/ligthgbm-with-bayesian-optimization/output  0.65\n",
    "MYSUB = pd.read_csv(\"../input/publicsubs/my_submission.csv\")\n",
    "\n",
    "# https://www.kaggle.com/nulldata/jiazhen-to-armamut-via-gurchetan1000-0-56/output 0.56\n",
    "JIAZHEN = pd.read_csv(\"../input/publicsubs/baseline_sub_lag_37.csv\")"
   ]
  },
  {
   "cell_type": "code",
   "execution_count": null,
   "metadata": {
    "_uuid": "f5877144fecc90fa9aba1dc13448f7f2cecd5ae1",
    "collapsed": true
   },
   "outputs": [],
   "source": [
    "CORR = pd.DataFrame()\n",
    "#CORR['BEST_69'] = BEST_69.target\n",
    "#CORR['ROUNED_MIN2'] = ROUNED_MIN2.target\n",
    "#CORR['NOFAKE'] = NOFAKE.target\n",
    "#CORR['XGB'] = XGB.target\n",
    "CORR['XGB1'] = XGB1.target\n",
    "CORR['BLEND04'] = BLEND04.target\n",
    "CORR['ISLABEL'] = ISLABEL.target\n",
    "CORR['MYSUB'] = MYSUB.target\n",
    "CORR['JIAZHEN'] = JIAZHEN.target"
   ]
  },
  {
   "cell_type": "code",
   "execution_count": null,
   "metadata": {
    "_uuid": "37c6dc759dc4ba12cb9ec95e4d4e3d8fd22dcffd",
    "collapsed": true
   },
   "outputs": [],
   "source": [
    "print(CORR.corr())"
   ]
  },
  {
   "cell_type": "code",
   "execution_count": null,
   "metadata": {
    "_uuid": "e79767c79872757f7b5ccc476a444d1e4c12921d",
    "collapsed": true
   },
   "outputs": [],
   "source": [
    "ENS_LEAKS = BEST_69.copy()\n",
    "\n",
    "ENS_LEAKS.target = 0.6*JIAZHEN['target']+0.1*BLEND04['target']+0.1*ISLABEL['target']+0.1*XGB1['target']+0.1*MYSUB['target']\n",
    "\n",
    "ENS_LEAKS.to_csv(\"ENS_LEAKS.csv\", index=None)"
   ]
  },
  {
   "cell_type": "code",
   "execution_count": null,
   "metadata": {
    "_uuid": "484ec2084d9d203f61908130720a0c315615330f",
    "collapsed": true
   },
   "outputs": [],
   "source": [
    "ENS_LEAKS = BEST_69.copy()\n",
    "\n",
    "ENS_LEAKS.target = 0.5*JIAZHEN['target']+0.15*BLEND04['target']+0.1*ISLABEL['target']+0.1*XGB1['target']+0.15*MYSUB['target']\n",
    "\n",
    "ENS_LEAKS.to_csv(\"ENS_LEAKS.csv\", index=None)"
   ]
  }
 ],
 "metadata": {
  "kernelspec": {
   "display_name": "Python 3",
   "language": "python",
   "name": "python3"
  },
  "language_info": {
   "codemirror_mode": {
    "name": "ipython",
    "version": 3
   },
   "file_extension": ".py",
   "mimetype": "text/x-python",
   "name": "python",
   "nbconvert_exporter": "python",
   "pygments_lexer": "ipython3",
   "version": "3.6.2"
  }
 },
 "nbformat": 4,
 "nbformat_minor": 1
}
