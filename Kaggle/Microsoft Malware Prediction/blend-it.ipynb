{
 "cells": [
  {
   "cell_type": "code",
   "execution_count": 1,
   "metadata": {
    "_cell_guid": "b1076dfc-b9ad-4769-8c92-a6c4dae69d19",
    "_uuid": "8f2839f25d086af736a60e9eeb907d3b93b6e0e5"
   },
   "outputs": [],
   "source": [
    "import numpy as np # NUMPY\n",
    "import pandas as pd # PANDAS\n",
    "\n",
    "# DATA VIZUALIZATION LIBRARIES\n",
    "from matplotlib import pyplot as plt\n",
    "import seaborn as sns\n",
    "\n",
    "# METRICS TO MEASURE RMSE\n",
    "from math import sqrt\n",
    "from sklearn import metrics"
   ]
  },
  {
   "cell_type": "code",
   "execution_count": 2,
   "metadata": {
    "_cell_guid": "79c7e3d0-c299-4dcb-8224-4455121ee9b0",
    "_uuid": "d629ff2d2480ee46fbb7e2d37f6b5fab8052498a"
   },
   "outputs": [],
   "source": [
    "df_base0 = pd.read_csv('../input/ms-malware-final-blend-dataset/lgb_submission.csv')\n",
    "df_base1 = pd.read_csv('../input/ms-malware-final-blend-dataset/ms_malware.csv')\n",
    "df_base2 = pd.read_csv('../input/ms-malware-final-blend-dataset/nffm_submission.csv')\n",
    "df_base3 = pd.read_csv('../input/ms-malware-final-blend-dataset/submit_e5_cv072748_2019-03-13-22-21.csv')"
   ]
  },
  {
   "cell_type": "code",
   "execution_count": 3,
   "metadata": {
    "_uuid": "59908548177920632b001bba7d12638d57aa95f8"
   },
   "outputs": [
    {
     "data": {
      "text/html": [
       "<div>\n",
       "<style scoped>\n",
       "    .dataframe tbody tr th:only-of-type {\n",
       "        vertical-align: middle;\n",
       "    }\n",
       "\n",
       "    .dataframe tbody tr th {\n",
       "        vertical-align: top;\n",
       "    }\n",
       "\n",
       "    .dataframe thead th {\n",
       "        text-align: right;\n",
       "    }\n",
       "</style>\n",
       "<table border=\"1\" class=\"dataframe\">\n",
       "  <thead>\n",
       "    <tr style=\"text-align: right;\">\n",
       "      <th></th>\n",
       "      <th>MachineIdentifier</th>\n",
       "      <th>HasDetections</th>\n",
       "    </tr>\n",
       "  </thead>\n",
       "  <tbody>\n",
       "    <tr>\n",
       "      <th>0</th>\n",
       "      <td>0000010489e3af074adeac69c53e555e</td>\n",
       "      <td>0.562550</td>\n",
       "    </tr>\n",
       "    <tr>\n",
       "      <th>1</th>\n",
       "      <td>00000176ac758d54827acd545b6315a5</td>\n",
       "      <td>0.590425</td>\n",
       "    </tr>\n",
       "    <tr>\n",
       "      <th>2</th>\n",
       "      <td>0000019dcefc128c2d4387c1273dae1d</td>\n",
       "      <td>0.669614</td>\n",
       "    </tr>\n",
       "    <tr>\n",
       "      <th>3</th>\n",
       "      <td>0000055553dc51b1295785415f1a224d</td>\n",
       "      <td>0.493130</td>\n",
       "    </tr>\n",
       "    <tr>\n",
       "      <th>4</th>\n",
       "      <td>00000574cefffeca83ec8adf9285b2bf</td>\n",
       "      <td>0.533077</td>\n",
       "    </tr>\n",
       "  </tbody>\n",
       "</table>\n",
       "</div>"
      ],
      "text/plain": [
       "                  MachineIdentifier  HasDetections\n",
       "0  0000010489e3af074adeac69c53e555e       0.562550\n",
       "1  00000176ac758d54827acd545b6315a5       0.590425\n",
       "2  0000019dcefc128c2d4387c1273dae1d       0.669614\n",
       "3  0000055553dc51b1295785415f1a224d       0.493130\n",
       "4  00000574cefffeca83ec8adf9285b2bf       0.533077"
      ]
     },
     "execution_count": 3,
     "metadata": {},
     "output_type": "execute_result"
    }
   ],
   "source": [
    "df_base0.head(5)"
   ]
  },
  {
   "cell_type": "code",
   "execution_count": 4,
   "metadata": {
    "_uuid": "bfeec41496b9c07cd0203f8adf0f2c12e22c0328"
   },
   "outputs": [],
   "source": [
    "#df_base = p.merge(df_base1,df_base0,how='inner',on='MachineIdentifier')\n",
    "#df_base = p.merge(df_base,df_base2,how='inner',on='MachineIdentifier')\n",
    "#df_base = p.merge(df_base,df_base3,how='inner',on='MachineIdentifier')"
   ]
  },
  {
   "cell_type": "code",
   "execution_count": 5,
   "metadata": {
    "_uuid": "36cc619db71845c5cfa4521047659860b33f1bdb"
   },
   "outputs": [],
   "source": [
    "#CORRELATION MATRIX (Pearson Correlation to measure how similar are 2 solutions)\n",
    "#plt.figure(figsize=(16,12))\n",
    "#sns.heatmap(df_base.iloc[:,1:].corr(),annot=True,fmt=\".2f\")"
   ]
  },
  {
   "cell_type": "code",
   "execution_count": 6,
   "metadata": {
    "_uuid": "5f42b2da7a273da867f59b01ddeb49232caf05fb"
   },
   "outputs": [],
   "source": [
    "#df_base_final = p.read_csv('../input/ms-malware-final-blend-dataset/lgb_submission.csv')"
   ]
  },
  {
   "cell_type": "code",
   "execution_count": 7,
   "metadata": {
    "_uuid": "2adf26ab9881e35102a1b67efca7708810e1ddd6"
   },
   "outputs": [],
   "source": [
    "bof = df_base0['HasDetections'] * 0.3 + df_base1['HasDetections'] * 0.3 + df_base2['HasDetections'] * 0.2 + df_base3['HasDetections'] * 0.2\n",
    "sample = pd.read_csv('../input/microsoft-malware-prediction/sample_submission.csv')"
   ]
  },
  {
   "cell_type": "code",
   "execution_count": 8,
   "metadata": {
    "_uuid": "be16ba2ba4de3605cf99ba6c484e768d6b6be932"
   },
   "outputs": [],
   "source": [
    "from os import path"
   ]
  },
  {
   "cell_type": "code",
   "execution_count": 9,
   "metadata": {
    "_uuid": "8e6965507f49ee509e4368b1d8ffa87ede368cd9"
   },
   "outputs": [],
   "source": [
    "blend_name = 'blend_v10.csv.gz'"
   ]
  },
  {
   "cell_type": "code",
   "execution_count": 10,
   "metadata": {
    "_uuid": "c1cc92d9de6824a0f6201bd085ae5a79c2056ea2"
   },
   "outputs": [],
   "source": [
    "sample['HasDetections'] = bof\n",
    "sample.to_csv(blend_name, compression='gzip', index=False)\n",
    "\n",
    "message = 'Blend {} of'.format(blend_name)"
   ]
  },
  {
   "cell_type": "code",
   "execution_count": 11,
   "metadata": {
    "_uuid": "d527af388d5ff31c1491e3b8b7b53f4b747dfcc3"
   },
   "outputs": [],
   "source": [
    "import kaggle"
   ]
  },
  {
   "cell_type": "code",
   "execution_count": 12,
   "metadata": {
    "_uuid": "81b2e08ae2675d1acb6b680382799dd56f368b3e"
   },
   "outputs": [],
   "source": [
    "#competition = 'microsoft-malware-prediction'\n",
    "#kaggle.api.competition_submit(path.abspath(path.join(output_dir, blend_name)), message, competition)"
   ]
  },
  {
   "cell_type": "code",
   "execution_count": 13,
   "metadata": {
    "_uuid": "ca2c483f6637242d007abb1014071d81fae89678"
   },
   "outputs": [],
   "source": []
  }
 ],
 "metadata": {
  "kernelspec": {
   "display_name": "Python 3",
   "language": "python",
   "name": "python3"
  },
  "language_info": {
   "codemirror_mode": {
    "name": "ipython",
    "version": 3
   },
   "file_extension": ".py",
   "mimetype": "text/x-python",
   "name": "python",
   "nbconvert_exporter": "python",
   "pygments_lexer": "ipython3",
   "version": "3.6.6"
  }
 },
 "nbformat": 4,
 "nbformat_minor": 1
}
