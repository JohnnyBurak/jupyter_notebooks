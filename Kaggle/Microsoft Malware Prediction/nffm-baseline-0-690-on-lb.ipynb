{
 "cells": [
  {
   "cell_type": "markdown",
   "metadata": {
    "_uuid": "49dbbb0a5d245fb039de1ff98a151eed7655c9ec"
   },
   "source": [
    "# Download repo from https://github.com/guoday/ctrNet-tool"
   ]
  },
  {
   "cell_type": "code",
   "execution_count": 1,
   "metadata": {
    "_uuid": "3dd1c886d4d9eab3575471f01e4b617834bfd39d"
   },
   "outputs": [
    {
     "name": "stdout",
     "output_type": "stream",
     "text": [
      "Cloning into 'ctrNet-tool'...\r\n",
      "remote: Enumerating objects: 110, done.\u001b[K\r\n",
      "remote: Counting objects: 100% (110/110), done.\u001b[K\r\n",
      "remote: Compressing objects: 100% (82/82), done.\u001b[K\r\n",
      "remote: Total 110 (delta 50), reused 63 (delta 25), pack-reused 0\u001b[K\r\n",
      "Receiving objects: 100% (110/110), 8.41 MiB | 0 bytes/s, done.\r\n",
      "Resolving deltas: 100% (50/50), done.\r\n",
      "rm: cannot remove '.git': No such file or directory\r\n",
      "total 40\r\n",
      "drwxr-xr-x 4 root root  4096 Feb 11 04:04 .\r\n",
      "drwxr-xr-x 6 root root  4096 Feb 11 04:04 ..\r\n",
      "-rw-r--r-- 1 root root  2306 Feb 11 04:04 README.md\r\n",
      "-rw-r--r-- 1 root root 11456 Feb 11 04:04 __notebook__.ipynb\r\n",
      "-rw-r--r-- 1 root root   269 Feb 11 04:04 __output__.json\r\n",
      "-rw-r--r-- 1 root root   766 Feb 11 04:04 ctrNet.py\r\n",
      "drwxr-xr-x 2 root root  4096 Feb 11 04:04 models\r\n",
      "drwxr-xr-x 2 root root  4096 Feb 11 04:04 src\r\n"
     ]
    }
   ],
   "source": [
    "#Download ctrNet-tool \n",
    "#You can find the code in https://github.com/guoday/ctrNet-tool\n",
    "!git clone https://github.com/guoday/ctrNet-tool.git\n",
    "!cp -r ctrNet-tool/* ./\n",
    "!rm -r ctrNet-tool data .git\n",
    "!ls -all"
   ]
  },
  {
   "cell_type": "code",
   "execution_count": 2,
   "metadata": {
    "_uuid": "b130d0c90f9052e4e79d9a42a33126d326f99e76"
   },
   "outputs": [],
   "source": [
    "import ctrNet\n",
    "import pandas as pd\n",
    "import numpy as np\n",
    "import random\n",
    "import tensorflow as tf\n",
    "from src import misc_utils as utils\n",
    "import os\n",
    "import gc\n",
    "random.seed(2019)\n",
    "np.random.seed(2019)"
   ]
  },
  {
   "cell_type": "markdown",
   "metadata": {
    "_uuid": "78002914dd03d54e6184faf7a7bd3cf69f8eab07"
   },
   "source": [
    "# Loading Dataset"
   ]
  },
  {
   "cell_type": "code",
   "execution_count": 3,
   "metadata": {
    "_uuid": "ec4defddeddeee26da9b7b6d338c8dca694ebf94"
   },
   "outputs": [
    {
     "name": "stdout",
     "output_type": "stream",
     "text": [
      "Loading Train and Test Data.\n",
      "\n"
     ]
    }
   ],
   "source": [
    "dtypes = {\n",
    "        'MachineIdentifier':                                    'category',\n",
    "        'ProductName':                                          'category',\n",
    "        'EngineVersion':                                        'category',\n",
    "        'AppVersion':                                           'category',\n",
    "        'AvSigVersion':                                         'category',\n",
    "        'IsBeta':                                               'int8',\n",
    "        'RtpStateBitfield':                                     'float16',\n",
    "        'IsSxsPassiveMode':                                     'int8',\n",
    "        'DefaultBrowsersIdentifier':                            'float16',\n",
    "        'AVProductStatesIdentifier':                            'float32',\n",
    "        'AVProductsInstalled':                                  'float16',\n",
    "        'AVProductsEnabled':                                    'float16',\n",
    "        'HasTpm':                                               'int8',\n",
    "        'CountryIdentifier':                                    'int16',\n",
    "        'CityIdentifier':                                       'float32',\n",
    "        'OrganizationIdentifier':                               'float16',\n",
    "        'GeoNameIdentifier':                                    'float16',\n",
    "        'LocaleEnglishNameIdentifier':                          'int8',\n",
    "        'Platform':                                             'category',\n",
    "        'Processor':                                            'category',\n",
    "        'OsVer':                                                'category',\n",
    "        'OsBuild':                                              'int16',\n",
    "        'OsSuite':                                              'int16',\n",
    "        'OsPlatformSubRelease':                                 'category',\n",
    "        'OsBuildLab':                                           'category',\n",
    "        'SkuEdition':                                           'category',\n",
    "        'IsProtected':                                          'float16',\n",
    "        'AutoSampleOptIn':                                      'int8',\n",
    "        'PuaMode':                                              'category',\n",
    "        'SMode':                                                'float16',\n",
    "        'IeVerIdentifier':                                      'float16',\n",
    "        'SmartScreen':                                          'category',\n",
    "        'Firewall':                                             'float16',\n",
    "        'UacLuaenable':                                         'float32',\n",
    "        'Census_MDC2FormFactor':                                'category',\n",
    "        'Census_DeviceFamily':                                  'category',\n",
    "        'Census_OEMNameIdentifier':                             'float16',\n",
    "        'Census_OEMModelIdentifier':                            'float32',\n",
    "        'Census_ProcessorCoreCount':                            'float16',\n",
    "        'Census_ProcessorManufacturerIdentifier':               'float16',\n",
    "        'Census_ProcessorModelIdentifier':                      'float16',\n",
    "        'Census_ProcessorClass':                                'category',\n",
    "        'Census_PrimaryDiskTotalCapacity':                      'float32',\n",
    "        'Census_PrimaryDiskTypeName':                           'category',\n",
    "        'Census_SystemVolumeTotalCapacity':                     'float32',\n",
    "        'Census_HasOpticalDiskDrive':                           'int8',\n",
    "        'Census_TotalPhysicalRAM':                              'float32',\n",
    "        'Census_ChassisTypeName':                               'category',\n",
    "        'Census_InternalPrimaryDiagonalDisplaySizeInInches':    'float16',\n",
    "        'Census_InternalPrimaryDisplayResolutionHorizontal':    'float16',\n",
    "        'Census_InternalPrimaryDisplayResolutionVertical':      'float16',\n",
    "        'Census_PowerPlatformRoleName':                         'category',\n",
    "        'Census_InternalBatteryType':                           'category',\n",
    "        'Census_InternalBatteryNumberOfCharges':                'float32',\n",
    "        'Census_OSVersion':                                     'category',\n",
    "        'Census_OSArchitecture':                                'category',\n",
    "        'Census_OSBranch':                                      'category',\n",
    "        'Census_OSBuildNumber':                                 'int16',\n",
    "        'Census_OSBuildRevision':                               'int32',\n",
    "        'Census_OSEdition':                                     'category',\n",
    "        'Census_OSSkuName':                                     'category',\n",
    "        'Census_OSInstallTypeName':                             'category',\n",
    "        'Census_OSInstallLanguageIdentifier':                   'float16',\n",
    "        'Census_OSUILocaleIdentifier':                          'int16',\n",
    "        'Census_OSWUAutoUpdateOptionsName':                     'category',\n",
    "        'Census_IsPortableOperatingSystem':                     'int8',\n",
    "        'Census_GenuineStateName':                              'category',\n",
    "        'Census_ActivationChannel':                             'category',\n",
    "        'Census_IsFlightingInternal':                           'float16',\n",
    "        'Census_IsFlightsDisabled':                             'float16',\n",
    "        'Census_FlightRing':                                    'category',\n",
    "        'Census_ThresholdOptIn':                                'float16',\n",
    "        'Census_FirmwareManufacturerIdentifier':                'float16',\n",
    "        'Census_FirmwareVersionIdentifier':                     'float32',\n",
    "        'Census_IsSecureBootEnabled':                           'int8',\n",
    "        'Census_IsWIMBootEnabled':                              'float16',\n",
    "        'Census_IsVirtualDevice':                               'float16',\n",
    "        'Census_IsTouchEnabled':                                'int8',\n",
    "        'Census_IsPenCapable':                                  'int8',\n",
    "        'Census_IsAlwaysOnAlwaysConnectedCapable':              'float16',\n",
    "        'Wdft_IsGamer':                                         'float16',\n",
    "        'Wdft_RegionIdentifier':                                'float16',\n",
    "        'HasDetections':                                        'int8'\n",
    "        }\n",
    "print('Loading Train and Test Data.\\n')\n",
    "train = pd.read_csv('../input/train.csv', dtype=dtypes, low_memory=True)\n",
    "train['MachineIdentifier'] = train.index.astype('uint32')\n",
    "test  = pd.read_csv('../input/test.csv',  dtype=dtypes, low_memory=True)\n",
    "test['MachineIdentifier']  = test.index.astype('uint32')\n",
    "test['HasDetections']=[0]*len(test)"
   ]
  },
  {
   "cell_type": "code",
   "execution_count": 4,
   "metadata": {
    "_uuid": "f24dcd1a223ea1175800f722952980c4a8a4215c"
   },
   "outputs": [],
   "source": [
    "def make_bucket(data,num=10):\n",
    "    data.sort()\n",
    "    bins=[]\n",
    "    for i in range(num):\n",
    "        bins.append(data[int(len(data)*(i+1)//num)-1])\n",
    "    return bins\n",
    "float_features=['Census_SystemVolumeTotalCapacity','Census_PrimaryDiskTotalCapacity']\n",
    "for f in float_features:\n",
    "    train[f]=train[f].fillna(1e10)\n",
    "    test[f]=test[f].fillna(1e10)\n",
    "    data=list(train[f])+list(test[f])\n",
    "    bins=make_bucket(data,num=50)\n",
    "    train[f]=np.digitize(train[f],bins=bins)\n",
    "    test[f]=np.digitize(test[f],bins=bins)\n",
    "    \n",
    "features=train.columns.tolist()[1:-1]"
   ]
  },
  {
   "cell_type": "markdown",
   "metadata": {
    "_uuid": "43985fb1cde4988c788d44fe94094cbf05171ce9"
   },
   "source": [
    "# Creating hparams"
   ]
  },
  {
   "cell_type": "code",
   "execution_count": 5,
   "metadata": {
    "_uuid": "40b2ecd8536dcac62d426daeeb8c5f79f8f817c4"
   },
   "outputs": [
    {
     "name": "stdout",
     "output_type": "stream",
     "text": [
      "  batch_norm_decay=0.9\n",
      "  batch_size=1024\n",
      "  epoch=1\n",
      "  feature_nums=81\n",
      "  hash_ids=200000\n",
      "  hidden_size=[128, 128]\n",
      "  init_method=uniform\n",
      "  init_value=0.1\n",
      "  k=8\n",
      "  kfold=5\n",
      "  learning_rate=0.001\n",
      "  metric=auc\n",
      "  model=nffm\n",
      "  norm=True\n",
      "  num_display_steps=1000\n",
      "  num_eval_steps=1000\n",
      "  optimizer=adam\n"
     ]
    }
   ],
   "source": [
    "hparam=tf.contrib.training.HParams(\n",
    "            model='nffm',\n",
    "            norm=True,\n",
    "            batch_norm_decay=0.9,\n",
    "            hidden_size=[128,128],\n",
    "            k=8,\n",
    "            hash_ids=int(2e5),\n",
    "            batch_size=1024,\n",
    "            optimizer=\"adam\",\n",
    "            learning_rate=0.001,\n",
    "            num_display_steps=1000,\n",
    "            num_eval_steps=1000,\n",
    "            epoch=1,\n",
    "            metric='auc',\n",
    "            init_method='uniform',\n",
    "            init_value=0.1,\n",
    "            feature_nums=len(features),\n",
    "            kfold=5)\n",
    "utils.print_hparams(hparam)"
   ]
  },
  {
   "cell_type": "markdown",
   "metadata": {
    "_uuid": "66e67bbf4fb72dfb853ca1cb05ce993f670bec35"
   },
   "source": [
    "# Training model"
   ]
  },
  {
   "cell_type": "code",
   "execution_count": 6,
   "metadata": {
    "_uuid": "6c48b409a4e86c09ca395c3a4f75b2b1c372d124"
   },
   "outputs": [
    {
     "name": "stdout",
     "output_type": "stream",
     "text": [
      "Number: 1784296\n",
      "Number: 1784296\n",
      "Number: 1784296\n",
      "Number: 1784296\n",
      "Number: 1784299\n",
      "Fold 0\n"
     ]
    },
    {
     "name": "stderr",
     "output_type": "stream",
     "text": [
      "/opt/conda/lib/python3.6/site-packages/tensorflow/python/ops/gradients_impl.py:112: UserWarning: Converting sparse IndexedSlices to a dense Tensor of unknown shape. This may consume a large amount of memory.\n",
      "  \"Converting sparse IndexedSlices to a dense Tensor of unknown shape. \"\n"
     ]
    },
    {
     "name": "stdout",
     "output_type": "stream",
     "text": [
      "# Trainable variables\n",
      "  emb_v1:0, (200000, 1), \n",
      "  emb_v2:0, (200000, 81, 8), \n",
      "  Variable:0, (3240, 128), \n",
      "  norm_0/beta:0, (128,), \n",
      "  norm_0/gamma:0, (128,), \n",
      "  Variable_1:0, (128, 128), \n",
      "  norm_1/beta:0, (128,), \n",
      "  norm_1/gamma:0, (128,), \n",
      "  Variable_2:0, (128, 1), \n",
      "  Variable_3:0, (), \n",
      "  epoch 0 step 1000 lr 0.001 logloss 0.656511 gN 0.30, Mon Feb 11 04:14:56 2019\n",
      "# Epcho-time 251.15s Eval AUC 0.722813. Best AUC 0.722813.\n",
      "  epoch 0 step 2000 lr 0.001 logloss 0.603903 gN 0.18, Mon Feb 11 04:19:34 2019\n",
      "# Epcho-time 529.13s Eval AUC 0.730561. Best AUC 0.730561.\n",
      "  epoch 0 step 3000 lr 0.001 logloss 0.600278 gN 0.17, Mon Feb 11 04:24:12 2019\n",
      "# Epcho-time 806.94s Eval AUC 0.735258. Best AUC 0.735258.\n",
      "  epoch 0 step 4000 lr 0.001 logloss 0.597178 gN 0.16, Mon Feb 11 04:28:50 2019\n",
      "# Epcho-time 1084.66s Eval AUC 0.736314. Best AUC 0.736314.\n",
      "  epoch 0 step 5000 lr 0.001 logloss 0.595246 gN 0.16, Mon Feb 11 04:33:27 2019\n",
      "# Epcho-time 1361.77s Eval AUC 0.737835. Best AUC 0.737835.\n",
      "  epoch 0 step 6000 lr 0.001 logloss 0.594265 gN 0.15, Mon Feb 11 04:38:05 2019\n",
      "# Epcho-time 1639.66s Eval AUC 0.739056. Best AUC 0.739056.\n",
      "# Epcho-time 1909.87s Eval AUC 0.739638. Best AUC 0.739638.\n",
      "INFO:tensorflow:Restoring parameters from model_tmp/model\n",
      "# Epcho-time 1937.66s Eval AUC 0.739671. Best AUC 0.739671.\n",
      "Training Done! Inference...\n",
      "Fold 1\n",
      "# Trainable variables\n",
      "  emb_v1:0, (200000, 1), \n",
      "  emb_v2:0, (200000, 81, 8), \n",
      "  Variable:0, (3240, 128), \n",
      "  norm_0/beta:0, (128,), \n",
      "  norm_0/gamma:0, (128,), \n",
      "  Variable_1:0, (128, 128), \n",
      "  norm_1/beta:0, (128,), \n",
      "  norm_1/gamma:0, (128,), \n",
      "  Variable_2:0, (128, 1), \n",
      "  Variable_3:0, (), \n",
      "  epoch 0 step 1000 lr 0.001 logloss 0.635078 gN 0.26, Mon Feb 11 05:08:01 2019\n",
      "# Epcho-time 251.66s Eval AUC 0.727743. Best AUC 0.727743.\n",
      "  epoch 0 step 2000 lr 0.001 logloss 0.603832 gN 0.17, Mon Feb 11 05:12:40 2019\n",
      "# Epcho-time 530.71s Eval AUC 0.734799. Best AUC 0.734799.\n",
      "  epoch 0 step 3000 lr 0.001 logloss 0.600021 gN 0.16, Mon Feb 11 05:17:19 2019\n",
      "# Epcho-time 809.78s Eval AUC 0.738137. Best AUC 0.738137.\n",
      "  epoch 0 step 4000 lr 0.001 logloss 0.596906 gN 0.15, Mon Feb 11 05:21:57 2019\n",
      "# Epcho-time 1088.24s Eval AUC 0.739321. Best AUC 0.739321.\n",
      "  epoch 0 step 5000 lr 0.001 logloss 0.595005 gN 0.15, Mon Feb 11 05:26:36 2019\n",
      "# Epcho-time 1367.04s Eval AUC 0.741221. Best AUC 0.741221.\n",
      "  epoch 0 step 6000 lr 0.001 logloss 0.594023 gN 0.14, Mon Feb 11 05:31:14 2019\n",
      "# Epcho-time 1645.35s Eval AUC 0.743072. Best AUC 0.743072.\n",
      "# Epcho-time 1916.50s Eval AUC 0.743905. Best AUC 0.743905.\n",
      "INFO:tensorflow:Restoring parameters from model_tmp/model\n",
      "# Epcho-time 1944.35s Eval AUC 0.743907. Best AUC 0.743907.\n",
      "Training Done! Inference...\n",
      "Fold 2\n",
      "# Trainable variables\n",
      "  emb_v1:0, (200000, 1), \n",
      "  emb_v2:0, (200000, 81, 8), \n",
      "  Variable:0, (3240, 128), \n",
      "  norm_0/beta:0, (128,), \n",
      "  norm_0/gamma:0, (128,), \n",
      "  Variable_1:0, (128, 128), \n",
      "  norm_1/beta:0, (128,), \n",
      "  norm_1/gamma:0, (128,), \n",
      "  Variable_2:0, (128, 1), \n",
      "  Variable_3:0, (), \n",
      "  epoch 0 step 1000 lr 0.001 logloss 0.640693 gN 0.27, Mon Feb 11 06:01:08 2019\n",
      "# Epcho-time 252.84s Eval AUC 0.727777. Best AUC 0.727777.\n",
      "  epoch 0 step 2000 lr 0.001 logloss 0.604504 gN 0.18, Mon Feb 11 06:05:51 2019\n",
      "# Epcho-time 535.33s Eval AUC 0.733182. Best AUC 0.733182.\n",
      "  epoch 0 step 3000 lr 0.001 logloss 0.599594 gN 0.17, Mon Feb 11 06:10:31 2019\n",
      "# Epcho-time 815.69s Eval AUC 0.736800. Best AUC 0.736800.\n",
      "  epoch 0 step 4000 lr 0.001 logloss 0.597331 gN 0.16, Mon Feb 11 06:15:10 2019\n",
      "# Epcho-time 1095.12s Eval AUC 0.738557. Best AUC 0.738557.\n",
      "  epoch 0 step 5000 lr 0.001 logloss 0.595279 gN 0.15, Mon Feb 11 06:19:54 2019\n",
      "# Epcho-time 1378.61s Eval AUC 0.740857. Best AUC 0.740857.\n",
      "  epoch 0 step 6000 lr 0.001 logloss 0.594368 gN 0.14, Mon Feb 11 06:24:34 2019\n",
      "# Epcho-time 1658.85s Eval AUC 0.741803. Best AUC 0.741803.\n",
      "# Epcho-time 1934.65s Eval AUC 0.742521. Best AUC 0.742521.\n",
      "INFO:tensorflow:Restoring parameters from model_tmp/model\n",
      "# Epcho-time 1962.26s Eval AUC 0.742511. Best AUC 0.742521.\n",
      "Training Done! Inference...\n",
      "Fold 3\n",
      "# Trainable variables\n",
      "  emb_v1:0, (200000, 1), \n",
      "  emb_v2:0, (200000, 81, 8), \n",
      "  Variable:0, (3240, 128), \n",
      "  norm_0/beta:0, (128,), \n",
      "  norm_0/gamma:0, (128,), \n",
      "  Variable_1:0, (128, 128), \n",
      "  norm_1/beta:0, (128,), \n",
      "  norm_1/gamma:0, (128,), \n",
      "  Variable_2:0, (128, 1), \n",
      "  Variable_3:0, (), \n",
      "  epoch 0 step 1000 lr 0.001 logloss 0.640317 gN 0.27, Mon Feb 11 06:54:38 2019\n",
      "# Epcho-time 250.36s Eval AUC 0.724138. Best AUC 0.724138.\n",
      "  epoch 0 step 2000 lr 0.001 logloss 0.604114 gN 0.17, Mon Feb 11 06:59:15 2019\n",
      "# Epcho-time 527.91s Eval AUC 0.729465. Best AUC 0.729465.\n",
      "  epoch 0 step 3000 lr 0.001 logloss 0.599117 gN 0.16, Mon Feb 11 07:03:53 2019\n",
      "# Epcho-time 805.72s Eval AUC 0.733360. Best AUC 0.733360.\n",
      "  epoch 0 step 4000 lr 0.001 logloss 0.597067 gN 0.15, Mon Feb 11 07:08:31 2019\n",
      "# Epcho-time 1083.70s Eval AUC 0.735322. Best AUC 0.735322.\n",
      "  epoch 0 step 5000 lr 0.001 logloss 0.596064 gN 0.15, Mon Feb 11 07:13:09 2019\n",
      "# Epcho-time 1361.40s Eval AUC 0.737604. Best AUC 0.737604.\n",
      "  epoch 0 step 6000 lr 0.001 logloss 0.593487 gN 0.14, Mon Feb 11 07:17:47 2019\n",
      "# Epcho-time 1639.44s Eval AUC 0.739118. Best AUC 0.739118.\n",
      "# Epcho-time 1910.62s Eval AUC 0.740488. Best AUC 0.740488.\n",
      "INFO:tensorflow:Restoring parameters from model_tmp/model\n",
      "# Epcho-time 1938.24s Eval AUC 0.740483. Best AUC 0.740488.\n",
      "Training Done! Inference...\n",
      "Fold 4\n",
      "# Trainable variables\n",
      "  emb_v1:0, (200000, 1), \n",
      "  emb_v2:0, (200000, 81, 8), \n",
      "  Variable:0, (3240, 128), \n",
      "  norm_0/beta:0, (128,), \n",
      "  norm_0/gamma:0, (128,), \n",
      "  Variable_1:0, (128, 128), \n",
      "  norm_1/beta:0, (128,), \n",
      "  norm_1/gamma:0, (128,), \n",
      "  Variable_2:0, (128, 1), \n",
      "  Variable_3:0, (), \n",
      "  epoch 0 step 1000 lr 0.001 logloss 0.643234 gN 0.28, Mon Feb 11 07:47:42 2019\n",
      "# Epcho-time 251.55s Eval AUC 0.726023. Best AUC 0.726023.\n",
      "  epoch 0 step 2000 lr 0.001 logloss 0.604248 gN 0.17, Mon Feb 11 07:52:21 2019\n",
      "# Epcho-time 531.12s Eval AUC 0.732655. Best AUC 0.732655.\n",
      "  epoch 0 step 3000 lr 0.001 logloss 0.599268 gN 0.16, Mon Feb 11 07:57:00 2019\n",
      "# Epcho-time 810.36s Eval AUC 0.736647. Best AUC 0.736647.\n",
      "  epoch 0 step 4000 lr 0.001 logloss 0.597351 gN 0.15, Mon Feb 11 08:01:39 2019\n",
      "# Epcho-time 1089.12s Eval AUC 0.737835. Best AUC 0.737835.\n",
      "  epoch 0 step 5000 lr 0.001 logloss 0.596258 gN 0.14, Mon Feb 11 08:06:18 2019\n",
      "# Epcho-time 1367.68s Eval AUC 0.741086. Best AUC 0.741086.\n",
      "  epoch 0 step 6000 lr 0.001 logloss 0.593404 gN 0.13, Mon Feb 11 08:10:57 2019\n",
      "# Epcho-time 1646.57s Eval AUC 0.742230. Best AUC 0.742230.\n",
      "# Epcho-time 1918.33s Eval AUC 0.742652. Best AUC 0.742652.\n",
      "INFO:tensorflow:Restoring parameters from model_tmp/model\n",
      "# Epcho-time 1946.07s Eval AUC 0.742670. Best AUC 0.742670.\n",
      "Training Done! Inference...\n"
     ]
    }
   ],
   "source": [
    "index=set(range(train.shape[0]))\n",
    "K_fold=[]\n",
    "for i in range(hparam.kfold):\n",
    "    if i == hparam.kfold-1:\n",
    "        tmp=index\n",
    "    else:\n",
    "        tmp=random.sample(index,int(1.0/hparam.kfold*train.shape[0]))\n",
    "    index=index-set(tmp)\n",
    "    print(\"Number:\",len(tmp))\n",
    "    K_fold.append(tmp)\n",
    "    \n",
    "\n",
    "for i in range(hparam.kfold):\n",
    "    print(\"Fold\",i)\n",
    "    dev_index=K_fold[i]\n",
    "    dev_index=random.sample(dev_index,int(0.1*len(dev_index)))\n",
    "    train_index=[]\n",
    "    for j in range(hparam.kfold):\n",
    "        if j!=i:\n",
    "            train_index+=K_fold[j]\n",
    "    model=ctrNet.build_model(hparam)\n",
    "    model.train(train_data=(train.iloc[train_index][features],train.iloc[train_index]['HasDetections']),\\\n",
    "                dev_data=(train.iloc[dev_index][features],train.iloc[dev_index]['HasDetections']))\n",
    "    print(\"Training Done! Inference...\")\n",
    "    if i==0:\n",
    "        preds=model.infer(dev_data=(test[features],test['HasDetections']))/hparam.kfold\n",
    "    else:\n",
    "        preds+=model.infer(dev_data=(test[features],test['HasDetections']))/hparam.kfold"
   ]
  },
  {
   "cell_type": "markdown",
   "metadata": {
    "_uuid": "4302884724f2191b363591d5af43c1dc12c79a48"
   },
   "source": [
    "# Inference"
   ]
  },
  {
   "cell_type": "code",
   "execution_count": 7,
   "metadata": {
    "_uuid": "fcd62d5f09ca9d78e96854d84433325fb80f6096"
   },
   "outputs": [
    {
     "name": "stdout",
     "output_type": "stream",
     "text": [
      "0    0.481406\n",
      "1    0.607505\n",
      "2    0.625403\n",
      "3    0.301756\n",
      "4    0.441225\n",
      "Name: HasDetections, dtype: float32\n"
     ]
    }
   ],
   "source": [
    "submission = pd.read_csv('../input/sample_submission.csv')\n",
    "submission['HasDetections'] = preds\n",
    "print(submission['HasDetections'].head())\n",
    "submission.to_csv('nffm_submission.csv', index=False)"
   ]
  }
 ],
 "metadata": {
  "kernelspec": {
   "display_name": "Python 3",
   "language": "python",
   "name": "python3"
  },
  "language_info": {
   "codemirror_mode": {
    "name": "ipython",
    "version": 3
   },
   "file_extension": ".py",
   "mimetype": "text/x-python",
   "name": "python",
   "nbconvert_exporter": "python",
   "pygments_lexer": "ipython3",
   "version": "3.6.6"
  }
 },
 "nbformat": 4,
 "nbformat_minor": 1
}
