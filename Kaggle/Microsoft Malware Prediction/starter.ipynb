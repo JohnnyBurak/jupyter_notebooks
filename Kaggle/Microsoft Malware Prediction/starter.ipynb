{
 "cells": [
  {
   "cell_type": "code",
   "execution_count": 1,
   "metadata": {
    "_cell_guid": "b1076dfc-b9ad-4769-8c92-a6c4dae69d19",
    "_uuid": "8f2839f25d086af736a60e9eeb907d3b93b6e0e5"
   },
   "outputs": [
    {
     "name": "stdout",
     "output_type": "stream",
     "text": [
      "script started:  Mar 12 2019 17:17:40\n"
     ]
    }
   ],
   "source": [
    "import warnings\n",
    "import gc\n",
    "import time\n",
    "import sys\n",
    "import datetime\n",
    "\n",
    "import utils\n",
    "\n",
    "\n",
    "import numpy as np \n",
    "import pandas as pd \n",
    "import catboost as cb\n",
    "\n",
    "\n",
    "from sklearn.model_selection import KFold\n",
    "from sklearn.metrics import roc_auc_score\n",
    "\n",
    "\n",
    "pd.options.mode.chained_assignment = None\n",
    "pd.options.display.max_columns = 999\n",
    "\n",
    "from tqdm import tqdm\n",
    "\n",
    "print(\"script started: \", time.strftime(\"%b %d %Y %H:%M:%S\"))"
   ]
  },
  {
   "cell_type": "code",
   "execution_count": 2,
   "metadata": {
    "_cell_guid": "79c7e3d0-c299-4dcb-8224-4455121ee9b0",
    "_uuid": "d629ff2d2480ee46fbb7e2d37f6b5fab8052498a"
   },
   "outputs": [],
   "source": [
    "def reduce_mem_usage(df, verbose=True):\n",
    "    numerics = ['int16', 'int32', 'int64', 'float16', 'float32', 'float64']\n",
    "    start_mem = df.memory_usage().sum() / 1024**2    \n",
    "    for col in df.columns:\n",
    "        col_type = df[col].dtypes\n",
    "        if col_type in numerics:\n",
    "            c_min = df[col].min()\n",
    "            c_max = df[col].max()\n",
    "            if str(col_type)[:3] == 'int':\n",
    "                if c_min > np.iinfo(np.int8).min and c_max < np.iinfo(np.int8).max:\n",
    "                    df[col] = df[col].astype(np.int8)\n",
    "                elif c_min > np.iinfo(np.int16).min and c_max < np.iinfo(np.int16).max:\n",
    "                    df[col] = df[col].astype(np.int16)\n",
    "                elif c_min > np.iinfo(np.int32).min and c_max < np.iinfo(np.int32).max:\n",
    "                    df[col] = df[col].astype(np.int32)\n",
    "                elif c_min > np.iinfo(np.int64).min and c_max < np.iinfo(np.int64).max:\n",
    "                    df[col] = df[col].astype(np.int64)  \n",
    "            else:\n",
    "                if c_min > np.finfo(np.float16).min and c_max < np.finfo(np.float16).max:\n",
    "                    df[col] = df[col].astype(np.float16)\n",
    "                elif c_min > np.finfo(np.float32).min and c_max < np.finfo(np.float32).max:\n",
    "                    df[col] = df[col].astype(np.float32)\n",
    "                else:\n",
    "                    df[col] = df[col].astype(np.float64)    \n",
    "    end_mem = df.memory_usage().sum() / 1024**2\n",
    "    if verbose: print('Mem. usage decreased to {:5.2f} Mb ({:.1f}% reduction)'.format(end_mem, 100 * (start_mem - end_mem) / start_mem))\n",
    "    return df"
   ]
  },
  {
   "cell_type": "code",
   "execution_count": 3,
   "metadata": {
    "_uuid": "5066084e4d6b826ecfed90c45313d5b1d6807035"
   },
   "outputs": [
    {
     "name": "stdout",
     "output_type": "stream",
     "text": [
      "TRAIN LOADED\n",
      "TEST LOADED\n",
      "Target saved\n",
      "MERGED\n"
     ]
    },
    {
     "data": {
      "text/plain": [
       "18"
      ]
     },
     "execution_count": 3,
     "metadata": {},
     "output_type": "execute_result"
    }
   ],
   "source": [
    "train = pd.read_pickle('../input/msmalware/train.pkl')\n",
    "print(\"TRAIN LOADED\")\n",
    "test = pd.read_pickle('../input/msmalware/test.pkl')\n",
    "print(\"TEST LOADED\")\n",
    "\n",
    "# merge both datasets\n",
    "\n",
    "target = train['HasDetections']\n",
    "del train['HasDetections']\n",
    "\n",
    "target.to_pickle('target.pkl')\n",
    "print(\"Target saved\")\n",
    "\n",
    "train_rows = train.shape[0]\n",
    "\n",
    "df_full = pd.concat([train, test])\n",
    "\n",
    "print(\"MERGED\") \n",
    "gc.collect()"
   ]
  },
  {
   "cell_type": "code",
   "execution_count": 4,
   "metadata": {
    "_uuid": "1c2fa77ca975caad1a9b76950baffaa3f739f5ee"
   },
   "outputs": [
    {
     "name": "stdout",
     "output_type": "stream",
     "text": [
      "Mem. usage decreased to 1310.34 Mb (0.0% reduction)\n",
      "Mem. usage decreased to 1153.46 Mb (0.0% reduction)\n"
     ]
    }
   ],
   "source": [
    "train = reduce_mem_usage(train)\n",
    "test = reduce_mem_usage(test)\n",
    "\n",
    "\n",
    "true_numerical_columns = [\n",
    "    'Census_ProcessorCoreCount',\n",
    "    'Census_PrimaryDiskTotalCapacity',\n",
    "    'Census_SystemVolumeTotalCapacity',\n",
    "    'Census_TotalPhysicalRAM',\n",
    "    'Census_InternalPrimaryDiagonalDisplaySizeInInches',\n",
    "    'Census_InternalPrimaryDisplayResolutionHorizontal',\n",
    "    'Census_InternalPrimaryDisplayResolutionVertical',\n",
    "    'Census_InternalBatteryNumberOfCharges'\n",
    "]\n",
    "\n",
    "binary_variables = [c for c in train.columns if train[c].nunique() == 2]\n",
    "\n",
    "categorical_columns = [c for c in train.columns if c not in true_numerical_columns]"
   ]
  },
  {
   "cell_type": "code",
   "execution_count": 5,
   "metadata": {
    "_uuid": "642246081567afbc3f0d565986e10098ffdbf91d"
   },
   "outputs": [],
   "source": [
    "def encode_categorical_columns(x_train, x_test, columns, sort=True):\n",
    "    train_length = x_train.shape[0]\n",
    "    for col in tqdm(columns):\n",
    "        if col == 'MachineIdentifier' or col == 'HasDetections':\n",
    "            continue\n",
    "            \n",
    "        combined_data = pd.concat([x_train[col], x_test[col]])\n",
    "        combined_data, _ = pd.factorize(combined_data, sort=sort)\n",
    "        combined_data = pd.Series(combined_data).astype('int32')\n",
    "        combined_data = combined_data + abs(combined_data.min()) + 1\n",
    "        x_train[col] = combined_data.iloc[:train_length].values\n",
    "        x_test[col] = combined_data.iloc[train_length:].values\n",
    "        x_train[col] = x_train[col].fillna(0)\n",
    "        x_test[col] = x_test[col].fillna(0)\n",
    "        del combined_data\n",
    "        \n",
    "    return x_train, x_test"
   ]
  },
  {
   "cell_type": "code",
   "execution_count": 6,
   "metadata": {
    "_uuid": "60e858caa4bb96473aa8d58c8d143763ee94738c"
   },
   "outputs": [
    {
     "name": "stderr",
     "output_type": "stream",
     "text": [
      "100%|██████████| 74/74 [02:16<00:00,  1.67s/it]\n"
     ]
    }
   ],
   "source": [
    "train, test = encode_categorical_columns(train, test, categorical_columns)"
   ]
  },
  {
   "cell_type": "code",
   "execution_count": 7,
   "metadata": {
    "_uuid": "d356bcfc1d12b227fd908482a02df31a6965e9a3"
   },
   "outputs": [
    {
     "name": "stdout",
     "output_type": "stream",
     "text": [
      "MachineIdentifier                           uint64\n",
      "ProductName                                  int64\n",
      "EngineVersion                                int64\n",
      "AppVersion                                   int64\n",
      "AvSigVersion                                 int64\n",
      "IsBeta                                       int64\n",
      "RtpStateBitfield                             int64\n",
      "IsSxsPassiveMode                             int64\n",
      "DefaultBrowsersIdentifier                    int64\n",
      "AVProductStatesIdentifier                    int64\n",
      "AVProductsInstalled                          int64\n",
      "AVProductsEnabled                            int64\n",
      "HasTpm                                       int64\n",
      "CountryIdentifier                            int64\n",
      "CityIdentifier                               int64\n",
      "OrganizationIdentifier                       int64\n",
      "GeoNameIdentifier                            int64\n",
      "LocaleEnglishNameIdentifier                  int64\n",
      "Platform                                     int64\n",
      "Processor                                    int64\n",
      "OsVer                                        int64\n",
      "OsBuild                                      int64\n",
      "OsSuite                                      int64\n",
      "OsPlatformSubRelease                         int64\n",
      "OsBuildLab                                   int64\n",
      "SkuEdition                                   int64\n",
      "IsProtected                                  int64\n",
      "AutoSampleOptIn                              int64\n",
      "PuaMode                                      int64\n",
      "SMode                                        int64\n",
      "                                            ...   \n",
      "Census_InternalBatteryType                   int64\n",
      "Census_InternalBatteryNumberOfCharges      float32\n",
      "Census_OSVersion                             int64\n",
      "Census_OSArchitecture                        int64\n",
      "Census_OSBranch                              int64\n",
      "Census_OSBuildNumber                         int64\n",
      "Census_OSBuildRevision                       int64\n",
      "Census_OSEdition                             int64\n",
      "Census_OSSkuName                             int64\n",
      "Census_OSInstallTypeName                     int64\n",
      "Census_OSInstallLanguageIdentifier           int64\n",
      "Census_OSUILocaleIdentifier                  int64\n",
      "Census_OSWUAutoUpdateOptionsName             int64\n",
      "Census_IsPortableOperatingSystem             int64\n",
      "Census_GenuineStateName                      int64\n",
      "Census_ActivationChannel                     int64\n",
      "Census_IsFlightingInternal                   int64\n",
      "Census_IsFlightsDisabled                     int64\n",
      "Census_FlightRing                            int64\n",
      "Census_ThresholdOptIn                        int64\n",
      "Census_FirmwareManufacturerIdentifier        int64\n",
      "Census_FirmwareVersionIdentifier             int64\n",
      "Census_IsSecureBootEnabled                   int64\n",
      "Census_IsWIMBootEnabled                      int64\n",
      "Census_IsVirtualDevice                       int64\n",
      "Census_IsTouchEnabled                        int64\n",
      "Census_IsPenCapable                          int64\n",
      "Census_IsAlwaysOnAlwaysConnectedCapable      int64\n",
      "Wdft_IsGamer                                 int64\n",
      "Wdft_RegionIdentifier                        int64\n",
      "Length: 82, dtype: object\n",
      "Mem. usage decreased to 1114.57 Mb (78.7% reduction)\n",
      "Mem. usage decreased to 981.12 Mb (78.7% reduction)\n"
     ]
    }
   ],
   "source": [
    "print(train.dtypes)\n",
    "\n",
    "train = reduce_mem_usage(train)\n",
    "test = reduce_mem_usage(test)"
   ]
  },
  {
   "cell_type": "code",
   "execution_count": 8,
   "metadata": {
    "_uuid": "a9fa742d2bd6d0286ebf0a6fa4c975d46a80e0d9"
   },
   "outputs": [
    {
     "name": "stdout",
     "output_type": "stream",
     "text": [
      "MachineIdentifier                           uint64\n",
      "ProductName                                   int8\n",
      "EngineVersion                                 int8\n",
      "AppVersion                                    int8\n",
      "AvSigVersion                                 int16\n",
      "IsBeta                                        int8\n",
      "RtpStateBitfield                              int8\n",
      "IsSxsPassiveMode                              int8\n",
      "DefaultBrowsersIdentifier                    int16\n",
      "AVProductStatesIdentifier                    int32\n",
      "AVProductsInstalled                           int8\n",
      "AVProductsEnabled                             int8\n",
      "HasTpm                                        int8\n",
      "CountryIdentifier                            int16\n",
      "CityIdentifier                               int32\n",
      "OrganizationIdentifier                        int8\n",
      "GeoNameIdentifier                            int16\n",
      "LocaleEnglishNameIdentifier                  int16\n",
      "Platform                                      int8\n",
      "Processor                                     int8\n",
      "OsVer                                         int8\n",
      "OsBuild                                       int8\n",
      "OsSuite                                       int8\n",
      "OsPlatformSubRelease                          int8\n",
      "OsBuildLab                                   int16\n",
      "SkuEdition                                    int8\n",
      "IsProtected                                   int8\n",
      "AutoSampleOptIn                               int8\n",
      "PuaMode                                       int8\n",
      "SMode                                         int8\n",
      "                                            ...   \n",
      "Census_InternalBatteryType                    int8\n",
      "Census_InternalBatteryNumberOfCharges      float32\n",
      "Census_OSVersion                             int16\n",
      "Census_OSArchitecture                         int8\n",
      "Census_OSBranch                               int8\n",
      "Census_OSBuildNumber                         int16\n",
      "Census_OSBuildRevision                       int16\n",
      "Census_OSEdition                              int8\n",
      "Census_OSSkuName                              int8\n",
      "Census_OSInstallTypeName                      int8\n",
      "Census_OSInstallLanguageIdentifier            int8\n",
      "Census_OSUILocaleIdentifier                  int16\n",
      "Census_OSWUAutoUpdateOptionsName              int8\n",
      "Census_IsPortableOperatingSystem              int8\n",
      "Census_GenuineStateName                       int8\n",
      "Census_ActivationChannel                      int8\n",
      "Census_IsFlightingInternal                    int8\n",
      "Census_IsFlightsDisabled                      int8\n",
      "Census_FlightRing                             int8\n",
      "Census_ThresholdOptIn                         int8\n",
      "Census_FirmwareManufacturerIdentifier        int16\n",
      "Census_FirmwareVersionIdentifier             int32\n",
      "Census_IsSecureBootEnabled                    int8\n",
      "Census_IsWIMBootEnabled                       int8\n",
      "Census_IsVirtualDevice                        int8\n",
      "Census_IsTouchEnabled                         int8\n",
      "Census_IsPenCapable                           int8\n",
      "Census_IsAlwaysOnAlwaysConnectedCapable       int8\n",
      "Wdft_IsGamer                                  int8\n",
      "Wdft_RegionIdentifier                         int8\n",
      "Length: 82, dtype: object\n"
     ]
    }
   ],
   "source": [
    "print(train.dtypes)\n",
    "\n",
    "\n",
    "# save data in case that model crashes\n",
    "train.to_pickle('train_cat.pkl.gz', compression='gzip')"
   ]
  },
  {
   "cell_type": "code",
   "execution_count": 9,
   "metadata": {
    "_uuid": "ba4ee918956b49590c9522d56ea197b980115788"
   },
   "outputs": [],
   "source": [
    "test.to_pickle('test_cat.pkl.gz', compression='gzip')"
   ]
  },
  {
   "cell_type": "code",
   "execution_count": 10,
   "metadata": {
    "_uuid": "99d8b97b5b3e3e88ab6b55557911c4f84c9717c6"
   },
   "outputs": [],
   "source": [
    "target.to_pickle('target.pkl.gz', compression='gzip')"
   ]
  },
  {
   "cell_type": "code",
   "execution_count": 11,
   "metadata": {
    "_uuid": "4d5b2d9737d231e4a2b8d356200d247f73a61444"
   },
   "outputs": [
    {
     "name": "stdout",
     "output_type": "stream",
     "text": [
      "data preparation finished:  Mar 12 2019 18:10:37\n"
     ]
    }
   ],
   "source": [
    "print(\"data preparation finished: \", time.strftime(\"%b %d %Y %H:%M:%S\"))"
   ]
  },
  {
   "cell_type": "code",
   "execution_count": 12,
   "metadata": {
    "_uuid": "b0cf5382c262f77e86c867e1905b36866577904a"
   },
   "outputs": [],
   "source": []
  }
 ],
 "metadata": {
  "kernelspec": {
   "display_name": "Python 3",
   "language": "python",
   "name": "python3"
  },
  "language_info": {
   "codemirror_mode": {
    "name": "ipython",
    "version": 3
   },
   "file_extension": ".py",
   "mimetype": "text/x-python",
   "name": "python",
   "nbconvert_exporter": "python",
   "pygments_lexer": "ipython3",
   "version": "3.6.6"
  }
 },
 "nbformat": 4,
 "nbformat_minor": 1
}
