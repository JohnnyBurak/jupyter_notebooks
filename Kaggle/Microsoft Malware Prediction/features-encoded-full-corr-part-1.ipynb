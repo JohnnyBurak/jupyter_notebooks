{
 "cells": [
  {
   "cell_type": "code",
   "execution_count": 1,
   "metadata": {
    "_cell_guid": "b1076dfc-b9ad-4769-8c92-a6c4dae69d19",
    "_uuid": "8f2839f25d086af736a60e9eeb907d3b93b6e0e5"
   },
   "outputs": [],
   "source": [
    "# coding: utf-8\n",
    "import gc\n",
    "import pickle\n",
    "import numpy as np\n",
    "import pandas as pd\n",
    "from itertools import combinations\n",
    "from tqdm import tqdm"
   ]
  },
  {
   "cell_type": "code",
   "execution_count": 2,
   "metadata": {
    "_cell_guid": "79c7e3d0-c299-4dcb-8224-4455121ee9b0",
    "_uuid": "d629ff2d2480ee46fbb7e2d37f6b5fab8052498a"
   },
   "outputs": [
    {
     "name": "stdout",
     "output_type": "stream",
     "text": [
      "TRAIN LOADED\n",
      "TEST LOADED\n",
      "Target saved\n",
      "MERGED\n"
     ]
    },
    {
     "data": {
      "text/plain": [
       "18"
      ]
     },
     "execution_count": 2,
     "metadata": {},
     "output_type": "execute_result"
    }
   ],
   "source": [
    "train = pd.read_pickle('../input/msmalware/train.pkl')\n",
    "print(\"TRAIN LOADED\")\n",
    "test = pd.read_pickle('../input/msmalware/test.pkl')\n",
    "print(\"TEST LOADED\")\n",
    "\n",
    "# merge both datasets\n",
    "\n",
    "target = train['HasDetections']\n",
    "del train['HasDetections']\n",
    "\n",
    "target.to_pickle('target.pkl')\n",
    "print(\"Target saved\")\n",
    "del(target)\n",
    "\n",
    "train_rows = train.shape[0]\n",
    "\n",
    "df_full = pd.concat([train, test])\n",
    "\n",
    "print(\"MERGED\") \n",
    "del(train)\n",
    "del(test)\n",
    "gc.collect()"
   ]
  },
  {
   "cell_type": "code",
   "execution_count": 3,
   "metadata": {
    "_uuid": "455724b034c865134b9f6dfa8c08122f33f19048"
   },
   "outputs": [],
   "source": [
    "# prepare the features\n",
    "true_numerical_columns = [\n",
    "    'Census_ProcessorCoreCount',\n",
    "    'Census_PrimaryDiskTotalCapacity',\n",
    "    'Census_SystemVolumeTotalCapacity',\n",
    "    'Census_TotalPhysicalRAM',\n",
    "    'Census_InternalPrimaryDiagonalDisplaySizeInInches',\n",
    "    'fe_avsig_gamer_freq',\n",
    "    'fe_cpucores_region_freq', \n",
    "    'fe_cpucores_oemname_freq',\n",
    "    'fe_geoname_oemname_freq', \n",
    "    'fe_non_primary_drive_MB',\n",
    "    'fe_screen_area'\n",
    "\n",
    "    #'Census_InternalPrimaryDisplayResolutionHorizontal',\n",
    "    #'Census_InternalPrimaryDisplayResolutionVertical',\n",
    "#    'Census_InternalBatteryNumberOfCharges'\n",
    "]\n",
    "\n",
    "new_numerical_columns = [\n",
    "    'non_primary_drive_MB',\n",
    "    'aspect_ratio',\n",
    "    'Screen_Area'\n",
    "]"
   ]
  },
  {
   "cell_type": "code",
   "execution_count": 4,
   "metadata": {
    "_uuid": "c47d8c3d9186afec78aae51631cbb3632259bbf9"
   },
   "outputs": [],
   "source": [
    "DTYPES = {\n",
    "    'MachineIdentifier':                                    'object',\n",
    "    'ProductName':                                          'object',\n",
    "    'EngineVersion':                                        'object',\n",
    "    'AppVersion':                                           'object',\n",
    "    'AvSigVersion':                                         'object',\n",
    "    'IsBeta':                                               'int8',\n",
    "    'RtpStateBitfield':                                     'float16',\n",
    "    'IsSxsPassiveMode':                                     'int8',\n",
    "    'DefaultBrowsersIdentifier':                            'float32',  # was 'float16'\n",
    "    'AVProductStatesIdentifier':                            'float32',\n",
    "    'AVProductsInstalled':                                  'float16',\n",
    "    'AVProductsEnabled':                                    'float16',\n",
    "    'HasTpm':                                               'int8',\n",
    "    'CountryIdentifier':                                    'int16',\n",
    "    'CityIdentifier':                                       'float32',\n",
    "    'OrganizationIdentifier':                               'float16',\n",
    "    'GeoNameIdentifier':                                    'float16',\n",
    "    'LocaleEnglishNameIdentifier':                          'int16',  # was 'int8'\n",
    "    'Platform':                                             'object',\n",
    "    'Processor':                                            'object',\n",
    "    'OsVer':                                                'object',\n",
    "    'OsBuild':                                              'int16',\n",
    "    'OsSuite':                                              'int16',\n",
    "    'OsPlatformSubRelease':                                 'object',\n",
    "    'OsBuildLab':                                           'object',\n",
    "    'SkuEdition':                                           'object',\n",
    "    'IsProtected':                                          'float16',\n",
    "    'AutoSampleOptIn':                                      'int8',\n",
    "    'PuaMode':                                              'object',\n",
    "    'SMode':                                                'float16',\n",
    "    'IeVerIdentifier':                                      'float16',\n",
    "    'SmartScreen':                                          'object',\n",
    "    'Firewall':                                             'float16',\n",
    "    'UacLuaenable':                                         'float64', # was 'float32'\n",
    "    'Census_MDC2FormFactor':                                'object',\n",
    "    'Census_DeviceFamily':                                  'object',\n",
    "    'Census_OEMNameIdentifier':                             'float32', # was 'float16'\n",
    "    'Census_OEMModelIdentifier':                            'float32',\n",
    "    'Census_ProcessorCoreCount':                            'float16',\n",
    "    'Census_ProcessorManufacturerIdentifier':               'float16',\n",
    "    'Census_ProcessorModelIdentifier':                      'float32', # was 'float16'\n",
    "    'Census_ProcessorClass':                                'object',\n",
    "    'Census_PrimaryDiskTotalCapacity':                      'float64', # was 'float32'\n",
    "    'Census_PrimaryDiskTypeName':                           'object',\n",
    "    'Census_SystemVolumeTotalCapacity':                     'float64', # was 'float32'\n",
    "    'Census_HasOpticalDiskDrive':                           'int8',\n",
    "    'Census_TotalPhysicalRAM':                              'float32',\n",
    "    'Census_ChassisTypeName':                               'object',\n",
    "    'Census_InternalPrimaryDiagonalDisplaySizeInInches':    'float32', # was 'float16'\n",
    "    'Census_InternalPrimaryDisplayResolutionHorizontal':    'float32', # was 'float16'\n",
    "    'Census_InternalPrimaryDisplayResolutionVertical':      'float32', # was 'float16'\n",
    "    'Census_PowerPlatformRoleName':                         'object',\n",
    "    'Census_InternalBatteryType':                           'object',\n",
    "    'Census_InternalBatteryNumberOfCharges':                'float64', # was 'float32'\n",
    "    'Census_OSVersion':                                     'object',\n",
    "    'Census_OSArchitecture':                                'object',\n",
    "    'Census_OSBranch':                                      'object',\n",
    "    'Census_OSBuildNumber':                                 'int16',\n",
    "    'Census_OSBuildRevision':                               'int32',\n",
    "    'Census_OSEdition':                                     'object',\n",
    "    'Census_OSSkuName':                                     'object',\n",
    "    'Census_OSInstallTypeName':                             'object',\n",
    "    'Census_OSInstallLanguageIdentifier':                   'float16',\n",
    "    'Census_OSUILocaleIdentifier':                          'int16',\n",
    "    'Census_OSWUAutoUpdateOptionsName':                     'object',\n",
    "    'Census_IsPortableOperatingSystem':                     'int8',\n",
    "    'Census_GenuineStateName':                              'object',\n",
    "    'Census_ActivationChannel':                             'object',\n",
    "    'Census_IsFlightingInternal':                           'float16',\n",
    "    'Census_IsFlightsDisabled':                             'float16',\n",
    "    'Census_FlightRing':                                    'object',\n",
    "    'Census_ThresholdOptIn':                                'float16',\n",
    "    'Census_FirmwareManufacturerIdentifier':                'float16',\n",
    "    'Census_FirmwareVersionIdentifier':                     'float32',\n",
    "    'Census_IsSecureBootEnabled':                           'int8',\n",
    "    'Census_IsWIMBootEnabled':                              'float16',\n",
    "    'Census_IsVirtualDevice':                               'float16',\n",
    "    'Census_IsTouchEnabled':                                'int8',\n",
    "    'Census_IsPenCapable':                                  'int8',\n",
    "    'Census_IsAlwaysOnAlwaysConnectedCapable':              'float16',\n",
    "    'Wdft_IsGamer':                                         'float16',\n",
    "    'Wdft_RegionIdentifier':                                'float16',\n",
    "    'HasDetections':                                        'float32',\n",
    "}"
   ]
  },
  {
   "cell_type": "code",
   "execution_count": 5,
   "metadata": {
    "_uuid": "0246428a9b9851796e15c0860092aef930b2b3d8"
   },
   "outputs": [],
   "source": [
    "def display_features(df):\n",
    "    # https://www.kaggle.com/adityaecdrid/simple-feature-engineering-xd\n",
    "    df['fe_non_primary_drive_MB'] = df['Census_PrimaryDiskTotalCapacity'] - df['Census_SystemVolumeTotalCapacity']\n",
    "\n",
    "    df['aspect_ratio'] = df['Census_InternalPrimaryDisplayResolutionHorizontal']/ df['Census_InternalPrimaryDisplayResolutionVertical']\n",
    "\n",
    "    df['fe_monitor_dims'] = df['Census_InternalPrimaryDisplayResolutionHorizontal'].astype(str) + '*' + df['Census_InternalPrimaryDisplayResolutionVertical'].astype('str')\n",
    "    \n",
    "  \n",
    "    df['fe_screen_area'] = (df['aspect_ratio'] * (df['Census_InternalPrimaryDiagonalDisplaySizeInInches']**2))/(df['aspect_ratio']**2 + 1)\n",
    "    \n",
    "    df.drop('aspect_ratio', axis=1, inplace=True)\n",
    "\n",
    "    return df\n",
    "    \n",
    "def fill_nan(df):\n",
    "\n",
    "    df['Census_ThresholdOptIn'] = df['Census_ThresholdOptIn'].fillna(1)\n",
    "    df['Census_IsWIMBootEnabled'] = df['Census_IsWIMBootEnabled'].fillna(1)\n",
    "    df['Wdft_IsGamer'] = df['Wdft_IsGamer'].fillna(0)\n",
    "    \n",
    "    return df\n",
    "\n",
    "\n",
    "true_numerical_columns = true_numerical_columns + new_numerical_columns\n",
    "num_datatypes = ['int8', 'int16', 'int32', 'float16', 'float32']\n",
    "true_numerical_columns = [c for c, v in DTYPES.items() if v in num_datatypes]"
   ]
  },
  {
   "cell_type": "code",
   "execution_count": 6,
   "metadata": {
    "_uuid": "747a507a9565a8dbc0fe4bbb5dfbc80c0e554a6d"
   },
   "outputs": [
    {
     "name": "stdout",
     "output_type": "stream",
     "text": [
      "categorical features prepared\n",
      "SmartScreen ready\n"
     ]
    }
   ],
   "source": [
    "df_full = display_features(df_full)\n",
    "\n",
    "print(\"categorical features prepared\")\n",
    "\n",
    "binary_variables = [c for c in df_full.columns if df_full[c].nunique() == 2]\n",
    "\n",
    "categorical_columns = [c for c in df_full.columns\n",
    "                       if (c not in true_numerical_columns) & (c not in binary_variables)]\n",
    "\n",
    "#one more test with SmartScreen \n",
    "\n",
    "df_full['SmartScreen']=df_full['SmartScreen'].astype(str)\n",
    "df_full['SmartScreen']=df_full['SmartScreen'].str.lower()\n",
    "df_full['SmartScreen'].replace({\"promt\":\"prompt\",\n",
    "                        \"promprt\":\"prompt\",\n",
    "                        \"00000000\":\"0\",\n",
    "                        \"enabled\":\"on\",\n",
    "                        \"of\":\"off\" ,\n",
    "                        \"deny\":\"0\" , # just one\n",
    "                        \"requiredadmin\":\"requireadmin\"\n",
    "                       },inplace=True)\n",
    "df_full['SmartScreen'] = df_full['SmartScreen'].astype(\"category\")\n",
    "print(\"SmartScreen ready\")"
   ]
  },
  {
   "cell_type": "code",
   "execution_count": 7,
   "metadata": {
    "_uuid": "945fa1d27d331bc2e9e1f1fba6f5da7336324e99"
   },
   "outputs": [],
   "source": [
    "def add_factor_sort(df, col):\n",
    "    val = [tuple([float(v) for v in (s.split('.'))]) for s in df[col]]\n",
    "    val = pd.factorize(val, sort=True)[0]\n",
    "    return val"
   ]
  },
  {
   "cell_type": "code",
   "execution_count": 8,
   "metadata": {
    "_uuid": "7e19cb78b157a3f4759f530809be70791c1a6ffb"
   },
   "outputs": [
    {
     "name": "stdout",
     "output_type": "stream",
     "text": [
      "Preparing ratios\n",
      "Version factors\n"
     ]
    },
    {
     "name": "stderr",
     "output_type": "stream",
     "text": [
      "100%|██████████| 3/3 [01:54<00:00, 37.81s/it]"
     ]
    },
    {
     "name": "stdout",
     "output_type": "stream",
     "text": [
      "Target mean encoding\n"
     ]
    },
    {
     "name": "stderr",
     "output_type": "stream",
     "text": [
      "\n"
     ]
    }
   ],
   "source": [
    "# compute some ratios\n",
    "print(\"Preparing ratios\")\n",
    "nrows = df_full.shape[0]\n",
    "df_full['fe_avsig_gamer_freq'] = df_full.groupby(['AvSigVersion','Wdft_IsGamer'])['OsBuild'].transform('count') / nrows\n",
    "df_full['fe_cpucores_region_freq'] = df_full.groupby(['Census_ProcessorCoreCount','Wdft_RegionIdentifier'])['OsBuild'].transform('count') / nrows\n",
    "df_full['fe_cpucores_oemname_freq'] = df_full.groupby(['Census_ProcessorCoreCount','Census_OEMNameIdentifier'])['OsBuild'].transform('count') / nrows\n",
    "df_full['fe_geoname_oemname_freq'] = df_full.groupby(['GeoNameIdentifier','Census_OEMNameIdentifier'])['OsBuild'].transform('count') / nrows\n",
    "\n",
    "\n",
    "#santiize bad value of AvSigVersion\n",
    "df_full['AvSigVersion'] = df_full['AvSigVersion'].astype(str)\n",
    "df_full.at[5244810, 'AvSigVersion'] = '1.273.1444.0'\n",
    "df_full['AvSigVersion'] = df_full['AvSigVersion'].astype('category')\n",
    "\n",
    "#encode the versions\n",
    "print(\"Version factors\")\n",
    "versions = ['EngineVersion', 'AppVersion', 'AvSigVersion']\n",
    "for version in tqdm(versions):\n",
    "    colname = version + '_factor'\n",
    "    df_full[colname] = add_factor_sort(df_full, version)\n",
    "    \n",
    "\n",
    "print(\"Target mean encoding\")"
   ]
  },
  {
   "cell_type": "code",
   "execution_count": 9,
   "metadata": {
    "_uuid": "9dbe3dde22c2378f163ff587ede4e0083f4b153c"
   },
   "outputs": [],
   "source": [
    "def frequency_encoding_single(df, col):\n",
    "    t = df[col].value_counts().reset_index()\n",
    "    t = t.reset_index()\n",
    "    t.loc[t[col] == 1, 'level_0'] = np.nan\n",
    "    t.set_index('index', inplace=True)\n",
    "    max_label = t['level_0'].max() + 1\n",
    "    t.fillna(max_label, inplace=True)\n",
    "    return t.to_dict()['level_0']"
   ]
  },
  {
   "cell_type": "code",
   "execution_count": 10,
   "metadata": {
    "_uuid": "f7d49200e840ee548057204cd1d6d2fef916c976"
   },
   "outputs": [
    {
     "name": "stdout",
     "output_type": "stream",
     "text": [
      "Frequency variables\n",
      "MachineIdentifier 8921483\n",
      "AvSigVersion 9623\n",
      "Census_PrimaryDiskTotalCapacity 8796\n",
      "Census_SystemVolumeTotalCapacity 636117\n",
      "Census_InternalBatteryNumberOfCharges 52836\n",
      "fe_non_primary_drive_MB 705572\n",
      "fe_monitor_dims 18336\n"
     ]
    },
    {
     "name": "stderr",
     "output_type": "stream",
     "text": [
      "  0%|          | 0/8 [00:00<?, ?it/s]"
     ]
    },
    {
     "name": "stdout",
     "output_type": "stream",
     "text": [
      "fe_screen_area 5926\n"
     ]
    },
    {
     "name": "stderr",
     "output_type": "stream",
     "text": [
      "100%|██████████| 8/8 [01:42<00:00, 12.64s/it]\n",
      "  0%|          | 0/28 [00:00<?, ?it/s]"
     ]
    },
    {
     "name": "stdout",
     "output_type": "stream",
     "text": [
      "Categorical encoding\n"
     ]
    },
    {
     "name": "stderr",
     "output_type": "stream",
     "text": [
      "100%|██████████| 28/28 [00:41<00:00,  1.07s/it]\n"
     ]
    }
   ],
   "source": [
    "print(\"Frequency variables\")\n",
    "to_freq_encode = []\n",
    "for col in categorical_columns:\n",
    "    if df_full[col].nunique() > 1000:\n",
    "        print(col, df_full[col].nunique())\n",
    "        to_freq_encode.append(col)\n",
    "\n",
    "for variable in tqdm(to_freq_encode):\n",
    "    freq_enc_dict = frequency_encoding_single(df_full, variable)\n",
    "    df_full[variable] = df_full[variable].map(lambda x: freq_enc_dict.get(x, np.nan))\n",
    "    categorical_columns.remove(variable)\n",
    "\n",
    "\n",
    "print(\"Categorical encoding\")\n",
    "for col in tqdm(categorical_columns):\n",
    "    if col == 'MachineIdentifier':\n",
    "        continue\n",
    "    #senti = df_full[col].nunique() + 1    \n",
    "    df_full[col] = pd.factorize(df_full[col])[0]\n",
    "    df_full[col] = df_full[col].astype('int32')\n",
    "    df_full[col] = df_full[col] + abs(df_full[col].min()) + 1"
   ]
  },
  {
   "cell_type": "code",
   "execution_count": 11,
   "metadata": {
    "_uuid": "2400f3422e0af762190ca1d3ca8667d827102cf5"
   },
   "outputs": [
    {
     "data": {
      "text/plain": [
       "250"
      ]
     },
     "execution_count": 11,
     "metadata": {},
     "output_type": "execute_result"
    }
   ],
   "source": [
    "gc.collect()"
   ]
  },
  {
   "cell_type": "code",
   "execution_count": 12,
   "metadata": {
    "_uuid": "40a018b4176918ef11edf003334a0ba398bf7d72"
   },
   "outputs": [
    {
     "data": {
      "text/plain": [
       "7"
      ]
     },
     "execution_count": 12,
     "metadata": {},
     "output_type": "execute_result"
    }
   ],
   "source": [
    "# split back and save\n",
    "train = df_full[:train_rows]\n",
    "test = df_full[train_rows:]\n",
    "\n",
    "del df_full\n",
    "gc.collect()"
   ]
  },
  {
   "cell_type": "code",
   "execution_count": 13,
   "metadata": {
    "_uuid": "0975191b2ac2e8abc5de32e4a5c31576111b9971"
   },
   "outputs": [],
   "source": [
    "def reduce_mem_usage(df, verbose=True):\n",
    "    numerics = ['int16', 'int32', 'int64', 'float16', 'float32', 'float64']\n",
    "    start_mem = df.memory_usage().sum() / 1024**2    \n",
    "    for col in df.columns:\n",
    "        col_type = df[col].dtypes\n",
    "        if col_type in numerics:\n",
    "            c_min = df[col].min()\n",
    "            c_max = df[col].max()\n",
    "            if str(col_type)[:3] == 'int':\n",
    "                if c_min > np.iinfo(np.int8).min and c_max < np.iinfo(np.int8).max:\n",
    "                    df[col] = df[col].astype(np.int8)\n",
    "                elif c_min > np.iinfo(np.int16).min and c_max < np.iinfo(np.int16).max:\n",
    "                    df[col] = df[col].astype(np.int16)\n",
    "                elif c_min > np.iinfo(np.int32).min and c_max < np.iinfo(np.int32).max:\n",
    "                    df[col] = df[col].astype(np.int32)\n",
    "                elif c_min > np.iinfo(np.int64).min and c_max < np.iinfo(np.int64).max:\n",
    "                    df[col] = df[col].astype(np.int64)  \n",
    "            else:\n",
    "                if c_min > np.finfo(np.float16).min and c_max < np.finfo(np.float16).max:\n",
    "                    df[col] = df[col].astype(np.float16)\n",
    "                elif c_min > np.finfo(np.float32).min and c_max < np.finfo(np.float32).max:\n",
    "                    df[col] = df[col].astype(np.float32)\n",
    "                else:\n",
    "                    df[col] = df[col].astype(np.float64)    \n",
    "    end_mem = df.memory_usage().sum() / 1024**2\n",
    "    if verbose: print('Mem. usage decreased to {:5.2f} Mb ({:.1f}% reduction)'.format(end_mem, 100 * (start_mem - end_mem) / start_mem))\n",
    "    return df"
   ]
  },
  {
   "cell_type": "code",
   "execution_count": 14,
   "metadata": {
    "_uuid": "3c9e0cc900747d422f6e3eb851170cff863afecb"
   },
   "outputs": [
    {
     "name": "stdout",
     "output_type": "stream",
     "text": [
      "Mem. usage decreased to 1454.90 Mb (62.1% reduction)\n",
      "Mem. usage decreased to 1280.70 Mb (62.1% reduction)\n"
     ]
    }
   ],
   "source": [
    "train = reduce_mem_usage(train)\n",
    "test = reduce_mem_usage(test)"
   ]
  },
  {
   "cell_type": "code",
   "execution_count": 15,
   "metadata": {
    "_uuid": "a6aceae444d721c8e72f768f66d365d3aaf30671"
   },
   "outputs": [],
   "source": [
    "train.to_pickle('train_encoded_full.pkl')\n",
    "test.to_pickle('test_encoded_full.pkl')"
   ]
  },
  {
   "cell_type": "code",
   "execution_count": 16,
   "metadata": {
    "_uuid": "a3c1518a3f65ab55e8c8b8a1094e6de805d24f4f"
   },
   "outputs": [],
   "source": []
  }
 ],
 "metadata": {
  "kernelspec": {
   "display_name": "Python 3",
   "language": "python",
   "name": "python3"
  },
  "language_info": {
   "codemirror_mode": {
    "name": "ipython",
    "version": 3
   },
   "file_extension": ".py",
   "mimetype": "text/x-python",
   "name": "python",
   "nbconvert_exporter": "python",
   "pygments_lexer": "ipython3",
   "version": "3.6.6"
  }
 },
 "nbformat": 4,
 "nbformat_minor": 1
}
