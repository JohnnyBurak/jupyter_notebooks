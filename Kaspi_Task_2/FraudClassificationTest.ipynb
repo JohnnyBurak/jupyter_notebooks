{
 "cells": [
  {
   "cell_type": "markdown",
   "metadata": {},
   "source": [
    "# ЗАДАЧА №2. Мошенники (Задача Каспи Банк)\n",
    "#### Вы работаете в крупной компании \"рога и копыта\". Ваша задача выявлять мошенников среди клентской базы.\n",
    "#### Для этого, у вас имеются 2 витрины данных «train» и «test». Они содержат информацию о клиентах компании , где поле NUM это ID клиента.\n",
    "#### В витрине train поле target показывает, кто из клиентов является мошенником (1- мошенник / 0 – обычный клиент)\n",
    "#### Ваша задача - классифицировать витрину «test» и проставить в ней аналогичный флаг мошенника. "
   ]
  },
  {
   "cell_type": "markdown",
   "metadata": {},
   "source": [
    "Результат по кейсам должен содержать:\n",
    "Результат кейса №2: формат Excel. \n",
    "В файле должен быть только один лист и содержать 2 столбца : NUM и  TARGET (прогнозный по витрине \"Мошенники_test\"). Не должно быть скрытых страниц и столбцов.  Записи должны начинаться с ячейки А1"
   ]
  },
  {
   "cell_type": "markdown",
   "metadata": {},
   "source": [
    "## Вначале подключим библиотеки"
   ]
  },
  {
   "cell_type": "code",
   "execution_count": 3,
   "metadata": {
    "collapsed": true
   },
   "outputs": [],
   "source": [
    "import numpy as np\n",
    "import pandas as pd\n",
    "import matplotlib.pyplot as plt\n",
    "plt.style.use('ggplot')"
   ]
  },
  {
   "cell_type": "markdown",
   "metadata": {},
   "source": [
    "## Загружаем данные "
   ]
  },
  {
   "cell_type": "code",
   "execution_count": 4,
   "metadata": {
    "collapsed": true
   },
   "outputs": [],
   "source": [
    "data = pd.read_csv('train.csv', delimiter=\";\", encoding=\"windows-1251\")\n",
    "test = pd.read_csv('test.csv', delimiter=\";\", encoding=\"windows-1251\")"
   ]
  },
  {
   "cell_type": "markdown",
   "metadata": {},
   "source": [
    "## Анализируем данные"
   ]
  },
  {
   "cell_type": "markdown",
   "metadata": {},
   "source": [
    "Узнаем размеры таблицы:"
   ]
  },
  {
   "cell_type": "code",
   "execution_count": 5,
   "metadata": {},
   "outputs": [
    {
     "data": {
      "text/plain": [
       "(30000, 132)"
      ]
     },
     "execution_count": 5,
     "metadata": {},
     "output_type": "execute_result"
    }
   ],
   "source": [
    "data.shape"
   ]
  },
  {
   "cell_type": "code",
   "execution_count": 6,
   "metadata": {},
   "outputs": [
    {
     "data": {
      "text/plain": [
       "(10000, 131)"
      ]
     },
     "execution_count": 6,
     "metadata": {},
     "output_type": "execute_result"
    }
   ],
   "source": [
    "test.shape"
   ]
  },
  {
   "cell_type": "markdown",
   "metadata": {},
   "source": [
    "Итак, таблица с данными для обучения содержит 30000 строк (объектов) и 132 столбца (признаков), включая выходной (целевой) признак.\n",
    "\n",
    "Таблица с данным для тестирования модели содержит 10000 строк (объектов) и 131 столбца (признаков).\n",
    "\n",
    "Далее мы создадим отдельный вектор **y** с выходной (целевой) признак - ответом и удалим его из таблицы с данными для обучения."
   ]
  },
  {
   "cell_type": "code",
   "execution_count": 7,
   "metadata": {
    "collapsed": true
   },
   "outputs": [],
   "source": [
    "y = data['TARGET']\n",
    "data = data.drop(('TARGET'), axis=1)"
   ]
  },
  {
   "cell_type": "markdown",
   "metadata": {},
   "source": [
    "Объеденим обе таблицы с данными.\n",
    "Узнаем размер новой большой таблицы.\n",
    "Так же мы можем посмотреть на несколько первых и несколько последних строк этой таблицы, чтобы получить представление об имеющихся данных:"
   ]
  },
  {
   "cell_type": "code",
   "execution_count": 8,
   "metadata": {
    "collapsed": true
   },
   "outputs": [],
   "source": [
    "data = pd.concat((data, test), axis=0)"
   ]
  },
  {
   "cell_type": "code",
   "execution_count": 9,
   "metadata": {},
   "outputs": [
    {
     "data": {
      "text/plain": [
       "(40000, 131)"
      ]
     },
     "execution_count": 9,
     "metadata": {},
     "output_type": "execute_result"
    }
   ],
   "source": [
    "data.shape"
   ]
  },
  {
   "cell_type": "code",
   "execution_count": 10,
   "metadata": {},
   "outputs": [
    {
     "data": {
      "text/html": [
       "<div>\n",
       "<style>\n",
       "    .dataframe thead tr:only-child th {\n",
       "        text-align: right;\n",
       "    }\n",
       "\n",
       "    .dataframe thead th {\n",
       "        text-align: left;\n",
       "    }\n",
       "\n",
       "    .dataframe tbody tr th {\n",
       "        vertical-align: top;\n",
       "    }\n",
       "</style>\n",
       "<table border=\"1\" class=\"dataframe\">\n",
       "  <thead>\n",
       "    <tr style=\"text-align: right;\">\n",
       "      <th></th>\n",
       "      <th>NUM</th>\n",
       "      <th>F0</th>\n",
       "      <th>F1</th>\n",
       "      <th>F2</th>\n",
       "      <th>F3</th>\n",
       "      <th>F4</th>\n",
       "      <th>F5</th>\n",
       "      <th>F6</th>\n",
       "      <th>F7</th>\n",
       "      <th>F8</th>\n",
       "      <th>...</th>\n",
       "      <th>F120</th>\n",
       "      <th>F121</th>\n",
       "      <th>F122</th>\n",
       "      <th>F123</th>\n",
       "      <th>F124</th>\n",
       "      <th>F125</th>\n",
       "      <th>F126</th>\n",
       "      <th>F127</th>\n",
       "      <th>F128</th>\n",
       "      <th>F129</th>\n",
       "    </tr>\n",
       "  </thead>\n",
       "  <tbody>\n",
       "    <tr>\n",
       "      <th>0</th>\n",
       "      <td>0</td>\n",
       "      <td>0.0</td>\n",
       "      <td>1.0</td>\n",
       "      <td>1.0</td>\n",
       "      <td>199900.0</td>\n",
       "      <td>0.0</td>\n",
       "      <td>1.0</td>\n",
       "      <td>0.0</td>\n",
       "      <td>1.0</td>\n",
       "      <td>0.0</td>\n",
       "      <td>...</td>\n",
       "      <td>СТЕПЕНЬ</td>\n",
       "      <td>8.0</td>\n",
       "      <td>1.0</td>\n",
       "      <td>0.0</td>\n",
       "      <td>0.0</td>\n",
       "      <td>1.0</td>\n",
       "      <td>1.0</td>\n",
       "      <td>1.0</td>\n",
       "      <td>0.0</td>\n",
       "      <td>0.0</td>\n",
       "    </tr>\n",
       "    <tr>\n",
       "      <th>1</th>\n",
       "      <td>1</td>\n",
       "      <td>0.0</td>\n",
       "      <td>0.0</td>\n",
       "      <td>0.0</td>\n",
       "      <td>0.0</td>\n",
       "      <td>0.0</td>\n",
       "      <td>0.0</td>\n",
       "      <td>0.0</td>\n",
       "      <td>0.0</td>\n",
       "      <td>0.0</td>\n",
       "      <td>...</td>\n",
       "      <td>СТЕПЕНЬ</td>\n",
       "      <td>8.0</td>\n",
       "      <td>0.0</td>\n",
       "      <td>0.0</td>\n",
       "      <td>0.0</td>\n",
       "      <td>0.0</td>\n",
       "      <td>1.0</td>\n",
       "      <td>0.0</td>\n",
       "      <td>0.0</td>\n",
       "      <td>0.0</td>\n",
       "    </tr>\n",
       "    <tr>\n",
       "      <th>2</th>\n",
       "      <td>2</td>\n",
       "      <td>0.0</td>\n",
       "      <td>0.0</td>\n",
       "      <td>0.0</td>\n",
       "      <td>0.0</td>\n",
       "      <td>0.0</td>\n",
       "      <td>0.0</td>\n",
       "      <td>0.0</td>\n",
       "      <td>0.0</td>\n",
       "      <td>2.0</td>\n",
       "      <td>...</td>\n",
       "      <td>СПЕЦ</td>\n",
       "      <td>5.0</td>\n",
       "      <td>0.0</td>\n",
       "      <td>0.0</td>\n",
       "      <td>1.0</td>\n",
       "      <td>0.0</td>\n",
       "      <td>0.0</td>\n",
       "      <td>1.0</td>\n",
       "      <td>0.0</td>\n",
       "      <td>0.0</td>\n",
       "    </tr>\n",
       "    <tr>\n",
       "      <th>3</th>\n",
       "      <td>3</td>\n",
       "      <td>2.0</td>\n",
       "      <td>10.0</td>\n",
       "      <td>1.0</td>\n",
       "      <td>1187750.0</td>\n",
       "      <td>130990.0</td>\n",
       "      <td>6.0</td>\n",
       "      <td>0.0</td>\n",
       "      <td>2.0</td>\n",
       "      <td>0.0</td>\n",
       "      <td>...</td>\n",
       "      <td>СТЕПЕНЬ</td>\n",
       "      <td>5.0</td>\n",
       "      <td>0.0</td>\n",
       "      <td>0.0</td>\n",
       "      <td>0.0</td>\n",
       "      <td>0.0</td>\n",
       "      <td>1.0</td>\n",
       "      <td>1.0</td>\n",
       "      <td>1.0</td>\n",
       "      <td>0.0</td>\n",
       "    </tr>\n",
       "    <tr>\n",
       "      <th>4</th>\n",
       "      <td>4</td>\n",
       "      <td>0.0</td>\n",
       "      <td>5.0</td>\n",
       "      <td>4.0</td>\n",
       "      <td>318771.0</td>\n",
       "      <td>0.0</td>\n",
       "      <td>4.0</td>\n",
       "      <td>0.0</td>\n",
       "      <td>1.0</td>\n",
       "      <td>0.0</td>\n",
       "      <td>...</td>\n",
       "      <td>СТЕПЕНЬ</td>\n",
       "      <td>5.0</td>\n",
       "      <td>0.0</td>\n",
       "      <td>0.0</td>\n",
       "      <td>0.0</td>\n",
       "      <td>0.0</td>\n",
       "      <td>0.0</td>\n",
       "      <td>1.0</td>\n",
       "      <td>0.0</td>\n",
       "      <td>0.0</td>\n",
       "    </tr>\n",
       "  </tbody>\n",
       "</table>\n",
       "<p>5 rows × 131 columns</p>\n",
       "</div>"
      ],
      "text/plain": [
       "   NUM   F0    F1   F2         F3        F4   F5   F6   F7   F8  ...   \\\n",
       "0    0  0.0   1.0  1.0   199900.0       0.0  1.0  0.0  1.0  0.0  ...    \n",
       "1    1  0.0   0.0  0.0        0.0       0.0  0.0  0.0  0.0  0.0  ...    \n",
       "2    2  0.0   0.0  0.0        0.0       0.0  0.0  0.0  0.0  2.0  ...    \n",
       "3    3  2.0  10.0  1.0  1187750.0  130990.0  6.0  0.0  2.0  0.0  ...    \n",
       "4    4  0.0   5.0  4.0   318771.0       0.0  4.0  0.0  1.0  0.0  ...    \n",
       "\n",
       "      F120  F121  F122  F123  F124  F125  F126  F127  F128  F129  \n",
       "0  СТЕПЕНЬ   8.0   1.0   0.0   0.0   1.0   1.0   1.0   0.0   0.0  \n",
       "1  СТЕПЕНЬ   8.0   0.0   0.0   0.0   0.0   1.0   0.0   0.0   0.0  \n",
       "2     СПЕЦ   5.0   0.0   0.0   1.0   0.0   0.0   1.0   0.0   0.0  \n",
       "3  СТЕПЕНЬ   5.0   0.0   0.0   0.0   0.0   1.0   1.0   1.0   0.0  \n",
       "4  СТЕПЕНЬ   5.0   0.0   0.0   0.0   0.0   0.0   1.0   0.0   0.0  \n",
       "\n",
       "[5 rows x 131 columns]"
      ]
     },
     "execution_count": 10,
     "metadata": {},
     "output_type": "execute_result"
    }
   ],
   "source": [
    "data.head()"
   ]
  },
  {
   "cell_type": "code",
   "execution_count": 11,
   "metadata": {},
   "outputs": [
    {
     "data": {
      "text/html": [
       "<div>\n",
       "<style>\n",
       "    .dataframe thead tr:only-child th {\n",
       "        text-align: right;\n",
       "    }\n",
       "\n",
       "    .dataframe thead th {\n",
       "        text-align: left;\n",
       "    }\n",
       "\n",
       "    .dataframe tbody tr th {\n",
       "        vertical-align: top;\n",
       "    }\n",
       "</style>\n",
       "<table border=\"1\" class=\"dataframe\">\n",
       "  <thead>\n",
       "    <tr style=\"text-align: right;\">\n",
       "      <th></th>\n",
       "      <th>NUM</th>\n",
       "      <th>F0</th>\n",
       "      <th>F1</th>\n",
       "      <th>F2</th>\n",
       "      <th>F3</th>\n",
       "      <th>F4</th>\n",
       "      <th>F5</th>\n",
       "      <th>F6</th>\n",
       "      <th>F7</th>\n",
       "      <th>F8</th>\n",
       "      <th>...</th>\n",
       "      <th>F120</th>\n",
       "      <th>F121</th>\n",
       "      <th>F122</th>\n",
       "      <th>F123</th>\n",
       "      <th>F124</th>\n",
       "      <th>F125</th>\n",
       "      <th>F126</th>\n",
       "      <th>F127</th>\n",
       "      <th>F128</th>\n",
       "      <th>F129</th>\n",
       "    </tr>\n",
       "  </thead>\n",
       "  <tbody>\n",
       "    <tr>\n",
       "      <th>9995</th>\n",
       "      <td>39995</td>\n",
       "      <td>0.0</td>\n",
       "      <td>2.0</td>\n",
       "      <td>1.000000</td>\n",
       "      <td>397900.000000</td>\n",
       "      <td>0.0</td>\n",
       "      <td>2.0</td>\n",
       "      <td>0.0</td>\n",
       "      <td>1.0</td>\n",
       "      <td>0.000000</td>\n",
       "      <td>...</td>\n",
       "      <td>СПЕЦ</td>\n",
       "      <td>5.000000</td>\n",
       "      <td>0.0</td>\n",
       "      <td>0.0</td>\n",
       "      <td>0.0</td>\n",
       "      <td>0.000000</td>\n",
       "      <td>0.000000</td>\n",
       "      <td>0.0</td>\n",
       "      <td>0.0</td>\n",
       "      <td>0.0</td>\n",
       "    </tr>\n",
       "    <tr>\n",
       "      <th>9996</th>\n",
       "      <td>39996</td>\n",
       "      <td>0.0</td>\n",
       "      <td>3.0</td>\n",
       "      <td>1.899835</td>\n",
       "      <td>912571.797183</td>\n",
       "      <td>0.0</td>\n",
       "      <td>2.0</td>\n",
       "      <td>0.0</td>\n",
       "      <td>1.0</td>\n",
       "      <td>1.899835</td>\n",
       "      <td>...</td>\n",
       "      <td>СПЕЦ</td>\n",
       "      <td>5.300494</td>\n",
       "      <td>0.0</td>\n",
       "      <td>0.0</td>\n",
       "      <td>0.0</td>\n",
       "      <td>0.100165</td>\n",
       "      <td>0.100165</td>\n",
       "      <td>1.0</td>\n",
       "      <td>0.0</td>\n",
       "      <td>0.0</td>\n",
       "    </tr>\n",
       "    <tr>\n",
       "      <th>9997</th>\n",
       "      <td>39997</td>\n",
       "      <td>0.0</td>\n",
       "      <td>0.0</td>\n",
       "      <td>0.000000</td>\n",
       "      <td>0.000000</td>\n",
       "      <td>0.0</td>\n",
       "      <td>0.0</td>\n",
       "      <td>0.0</td>\n",
       "      <td>0.0</td>\n",
       "      <td>0.000000</td>\n",
       "      <td>...</td>\n",
       "      <td>СРЕПЕНЬ</td>\n",
       "      <td>5.000000</td>\n",
       "      <td>1.0</td>\n",
       "      <td>0.0</td>\n",
       "      <td>0.0</td>\n",
       "      <td>0.000000</td>\n",
       "      <td>0.000000</td>\n",
       "      <td>1.0</td>\n",
       "      <td>0.0</td>\n",
       "      <td>0.0</td>\n",
       "    </tr>\n",
       "    <tr>\n",
       "      <th>9998</th>\n",
       "      <td>39998</td>\n",
       "      <td>0.0</td>\n",
       "      <td>8.0</td>\n",
       "      <td>3.000000</td>\n",
       "      <td>586943.000000</td>\n",
       "      <td>0.0</td>\n",
       "      <td>5.0</td>\n",
       "      <td>0.0</td>\n",
       "      <td>1.0</td>\n",
       "      <td>0.000000</td>\n",
       "      <td>...</td>\n",
       "      <td>НЕОК ВЫСШ</td>\n",
       "      <td>1.000000</td>\n",
       "      <td>0.0</td>\n",
       "      <td>0.0</td>\n",
       "      <td>0.0</td>\n",
       "      <td>0.000000</td>\n",
       "      <td>0.000000</td>\n",
       "      <td>0.0</td>\n",
       "      <td>0.0</td>\n",
       "      <td>0.0</td>\n",
       "    </tr>\n",
       "    <tr>\n",
       "      <th>9999</th>\n",
       "      <td>39999</td>\n",
       "      <td>0.0</td>\n",
       "      <td>0.0</td>\n",
       "      <td>0.000000</td>\n",
       "      <td>0.000000</td>\n",
       "      <td>0.0</td>\n",
       "      <td>0.0</td>\n",
       "      <td>0.0</td>\n",
       "      <td>0.0</td>\n",
       "      <td>0.000000</td>\n",
       "      <td>...</td>\n",
       "      <td>ВЫСШ</td>\n",
       "      <td>5.000000</td>\n",
       "      <td>0.0</td>\n",
       "      <td>0.0</td>\n",
       "      <td>0.0</td>\n",
       "      <td>0.000000</td>\n",
       "      <td>1.000000</td>\n",
       "      <td>1.0</td>\n",
       "      <td>0.0</td>\n",
       "      <td>0.0</td>\n",
       "    </tr>\n",
       "  </tbody>\n",
       "</table>\n",
       "<p>5 rows × 131 columns</p>\n",
       "</div>"
      ],
      "text/plain": [
       "        NUM   F0   F1        F2             F3   F4   F5   F6   F7        F8  \\\n",
       "9995  39995  0.0  2.0  1.000000  397900.000000  0.0  2.0  0.0  1.0  0.000000   \n",
       "9996  39996  0.0  3.0  1.899835  912571.797183  0.0  2.0  0.0  1.0  1.899835   \n",
       "9997  39997  0.0  0.0  0.000000       0.000000  0.0  0.0  0.0  0.0  0.000000   \n",
       "9998  39998  0.0  8.0  3.000000  586943.000000  0.0  5.0  0.0  1.0  0.000000   \n",
       "9999  39999  0.0  0.0  0.000000       0.000000  0.0  0.0  0.0  0.0  0.000000   \n",
       "\n",
       "      ...        F120      F121  F122  F123  F124      F125      F126  F127  \\\n",
       "9995  ...        СПЕЦ  5.000000   0.0   0.0   0.0  0.000000  0.000000   0.0   \n",
       "9996  ...        СПЕЦ  5.300494   0.0   0.0   0.0  0.100165  0.100165   1.0   \n",
       "9997  ...     СРЕПЕНЬ  5.000000   1.0   0.0   0.0  0.000000  0.000000   1.0   \n",
       "9998  ...   НЕОК ВЫСШ  1.000000   0.0   0.0   0.0  0.000000  0.000000   0.0   \n",
       "9999  ...        ВЫСШ  5.000000   0.0   0.0   0.0  0.000000  1.000000   1.0   \n",
       "\n",
       "      F128  F129  \n",
       "9995   0.0   0.0  \n",
       "9996   0.0   0.0  \n",
       "9997   0.0   0.0  \n",
       "9998   0.0   0.0  \n",
       "9999   0.0   0.0  \n",
       "\n",
       "[5 rows x 131 columns]"
      ]
     },
     "execution_count": 11,
     "metadata": {},
     "output_type": "execute_result"
    }
   ],
   "source": [
    "data.tail()"
   ]
  },
  {
   "cell_type": "markdown",
   "metadata": {},
   "source": [
    "Выделим числовые и категориальные признаки:"
   ]
  },
  {
   "cell_type": "code",
   "execution_count": 12,
   "metadata": {},
   "outputs": [
    {
     "name": "stdout",
     "output_type": "stream",
     "text": [
      "['F120']\n",
      "['NUM', 'F0', 'F1', 'F2', 'F3', 'F4', 'F5', 'F6', 'F7', 'F8', 'F9', 'F10', 'F11', 'F12', 'F13', 'F14', 'F15', 'F16', 'F17', 'F18', 'F19', 'F20', 'F21', 'F22', 'F23', 'F24', 'F25', 'F26', 'F27', 'F28', 'F29', 'F30', 'F31', 'F32', 'F33', 'F34', 'F35', 'F36', 'F37', 'F38', 'F39', 'F40', 'F41', 'F42', 'F43', 'F44', 'F45', 'F46', 'F47', 'F48', 'F49', 'F50', 'F51', 'F52', 'F53', 'F54', 'F55', 'F56', 'F57', 'F58', 'F59', 'F60', 'F61', 'F62', 'F63', 'F64', 'F65', 'F66', 'F67', 'F68', 'F69', 'F70', 'F71', 'F72', 'F73', 'F74', 'F75', 'F76', 'F77', 'F78', 'F79', 'F80', 'F81', 'F82', 'F83', 'F84', 'F85', 'F86', 'F87', 'F88', 'F89', 'F90', 'F91', 'F92', 'F93', 'F94', 'F95', 'F96', 'F97', 'F98', 'F99', 'F100', 'F101', 'F102', 'F103', 'F104', 'F105', 'F106', 'F107', 'F108', 'F109', 'F110', 'F111', 'F112', 'F113', 'F114', 'F115', 'F116', 'F117', 'F118', 'F119', 'F121', 'F122', 'F123', 'F124', 'F125', 'F126', 'F127', 'F128', 'F129']\n"
     ]
    }
   ],
   "source": [
    "categorical_columns = [c for c in data.columns if data[c].dtype.name == 'object']\n",
    "numerical_columns   = [c for c in data.columns if data[c].dtype.name != 'object']\n",
    "print (categorical_columns)\n",
    "print (numerical_columns)"
   ]
  },
  {
   "cell_type": "markdown",
   "metadata": {},
   "source": [
    "Теперь мы можем получить некоторую общую информацию по категориальным признакам:"
   ]
  },
  {
   "cell_type": "code",
   "execution_count": 13,
   "metadata": {},
   "outputs": [
    {
     "data": {
      "text/html": [
       "<div>\n",
       "<style>\n",
       "    .dataframe thead tr:only-child th {\n",
       "        text-align: right;\n",
       "    }\n",
       "\n",
       "    .dataframe thead th {\n",
       "        text-align: left;\n",
       "    }\n",
       "\n",
       "    .dataframe tbody tr th {\n",
       "        vertical-align: top;\n",
       "    }\n",
       "</style>\n",
       "<table border=\"1\" class=\"dataframe\">\n",
       "  <thead>\n",
       "    <tr style=\"text-align: right;\">\n",
       "      <th></th>\n",
       "      <th>F120</th>\n",
       "    </tr>\n",
       "  </thead>\n",
       "  <tbody>\n",
       "    <tr>\n",
       "      <th>count</th>\n",
       "      <td>40000</td>\n",
       "    </tr>\n",
       "    <tr>\n",
       "      <th>unique</th>\n",
       "      <td>9</td>\n",
       "    </tr>\n",
       "    <tr>\n",
       "      <th>top</th>\n",
       "      <td>ВЫСШ</td>\n",
       "    </tr>\n",
       "    <tr>\n",
       "      <th>freq</th>\n",
       "      <td>14402</td>\n",
       "    </tr>\n",
       "  </tbody>\n",
       "</table>\n",
       "</div>"
      ],
      "text/plain": [
       "         F120\n",
       "count   40000\n",
       "unique      9\n",
       "top      ВЫСШ\n",
       "freq    14402"
      ]
     },
     "execution_count": 13,
     "metadata": {},
     "output_type": "execute_result"
    }
   ],
   "source": [
    "data[categorical_columns].describe()"
   ]
  },
  {
   "cell_type": "markdown",
   "metadata": {},
   "source": [
    "В таблице для каждого категориального признака приведено общее число заполненных ячеек (count), количество значений, которые принимает данный признак (unique), самое популярное (часто встречающееся) значение этого признака (top) и количество объектов, в которых встречается самое частое значение данного признака (freq)."
   ]
  },
  {
   "cell_type": "markdown",
   "metadata": {},
   "source": [
    "## Пропущенные значения "
   ]
  },
  {
   "cell_type": "markdown",
   "metadata": {},
   "source": [
    "Узнать количество заполненных (непропущенных) элементов можно с помощью метода count. Параметр axis = 0 указывает, что мы двигаемся по размерности 0 (сверху вниз), а не размерности 1 (слева направо), т.е. нас интересует количество заполненных элементов в каждом столбце, а не строке:"
   ]
  },
  {
   "cell_type": "code",
   "execution_count": 14,
   "metadata": {},
   "outputs": [
    {
     "data": {
      "text/plain": [
       "NUM     40000\n",
       "F0      40000\n",
       "F1      40000\n",
       "F2      40000\n",
       "F3      40000\n",
       "F4      40000\n",
       "F5      40000\n",
       "F6      40000\n",
       "F7      40000\n",
       "F8      40000\n",
       "F9      40000\n",
       "F10     40000\n",
       "F11     40000\n",
       "F12     33127\n",
       "F13     40000\n",
       "F14     40000\n",
       "F15     19178\n",
       "F16     40000\n",
       "F17     40000\n",
       "F18     40000\n",
       "F19     40000\n",
       "F20     40000\n",
       "F21     40000\n",
       "F22     40000\n",
       "F23     40000\n",
       "F24     40000\n",
       "F25     40000\n",
       "F26     40000\n",
       "F27     40000\n",
       "F28     40000\n",
       "        ...  \n",
       "F100    40000\n",
       "F101    40000\n",
       "F102    40000\n",
       "F103    40000\n",
       "F104    40000\n",
       "F105    40000\n",
       "F106    40000\n",
       "F107    40000\n",
       "F108    40000\n",
       "F109    40000\n",
       "F110    40000\n",
       "F111    40000\n",
       "F112    40000\n",
       "F113    40000\n",
       "F114    40000\n",
       "F115    40000\n",
       "F116    40000\n",
       "F117    40000\n",
       "F118    40000\n",
       "F119    40000\n",
       "F120    40000\n",
       "F121    40000\n",
       "F122    40000\n",
       "F123    40000\n",
       "F124    40000\n",
       "F125    40000\n",
       "F126    40000\n",
       "F127    40000\n",
       "F128    40000\n",
       "F129    40000\n",
       "Length: 131, dtype: int64"
      ]
     },
     "execution_count": 14,
     "metadata": {},
     "output_type": "execute_result"
    }
   ],
   "source": [
    "data.count(axis=0)"
   ]
  },
  {
   "cell_type": "markdown",
   "metadata": {},
   "source": [
    "Если данные содержат пропущенные значения, то имеется две простые альтернативы:\n",
    "\n",
    "- удалить столбцы с такими значениями (data = data.dropna(axis=1)),\n",
    "- удалить строки с такими значениями (data = data.dropna(axis=0)).\n",
    "\n",
    "После этого, к сожалению, данных может стать совсем мало, поэтому рассмотрим простые альтернативные способы."
   ]
  },
  {
   "cell_type": "markdown",
   "metadata": {},
   "source": [
    "### Количественные признаки "
   ]
  },
  {
   "cell_type": "markdown",
   "metadata": {},
   "source": [
    "Заполнить пропущенные значения можно с помощью метода fillna. Заполним, например, медианными значениями.\n",
    "\n",
    "axis=0 по-прежнему указывает, что мы двигаемся сверху вниз:"
   ]
  },
  {
   "cell_type": "code",
   "execution_count": 15,
   "metadata": {
    "collapsed": true
   },
   "outputs": [],
   "source": [
    "data = data.fillna(data.median(axis=0), axis=0)"
   ]
  },
  {
   "cell_type": "markdown",
   "metadata": {},
   "source": [
    "Проверим, что теперь все столбцы, соответствующие количественным признакам, заполнены."
   ]
  },
  {
   "cell_type": "code",
   "execution_count": 16,
   "metadata": {},
   "outputs": [
    {
     "data": {
      "text/plain": [
       "NUM     40000\n",
       "F0      40000\n",
       "F1      40000\n",
       "F2      40000\n",
       "F3      40000\n",
       "F4      40000\n",
       "F5      40000\n",
       "F6      40000\n",
       "F7      40000\n",
       "F8      40000\n",
       "F9      40000\n",
       "F10     40000\n",
       "F11     40000\n",
       "F12     40000\n",
       "F13     40000\n",
       "F14     40000\n",
       "F15     40000\n",
       "F16     40000\n",
       "F17     40000\n",
       "F18     40000\n",
       "F19     40000\n",
       "F20     40000\n",
       "F21     40000\n",
       "F22     40000\n",
       "F23     40000\n",
       "F24     40000\n",
       "F25     40000\n",
       "F26     40000\n",
       "F27     40000\n",
       "F28     40000\n",
       "        ...  \n",
       "F100    40000\n",
       "F101    40000\n",
       "F102    40000\n",
       "F103    40000\n",
       "F104    40000\n",
       "F105    40000\n",
       "F106    40000\n",
       "F107    40000\n",
       "F108    40000\n",
       "F109    40000\n",
       "F110    40000\n",
       "F111    40000\n",
       "F112    40000\n",
       "F113    40000\n",
       "F114    40000\n",
       "F115    40000\n",
       "F116    40000\n",
       "F117    40000\n",
       "F118    40000\n",
       "F119    40000\n",
       "F120    40000\n",
       "F121    40000\n",
       "F122    40000\n",
       "F123    40000\n",
       "F124    40000\n",
       "F125    40000\n",
       "F126    40000\n",
       "F127    40000\n",
       "F128    40000\n",
       "F129    40000\n",
       "Length: 131, dtype: int64"
      ]
     },
     "execution_count": 16,
     "metadata": {},
     "output_type": "execute_result"
    }
   ],
   "source": [
    "data.count(axis=0)"
   ]
  },
  {
   "cell_type": "markdown",
   "metadata": {},
   "source": [
    "### Категориальные признаки"
   ]
  },
  {
   "cell_type": "markdown",
   "metadata": {},
   "source": [
    "Теперь рассмотрим пропущенные значения в столбцах, соответствующих категориальным признакам. Простая стратегия – заполнение пропущенных значений самым популярным в столбце."
   ]
  },
  {
   "cell_type": "code",
   "execution_count": 17,
   "metadata": {
    "collapsed": true
   },
   "outputs": [],
   "source": [
    "data_describe = data.describe(include=[object])\n",
    "for c in categorical_columns:\n",
    "    data[c] = data[c].fillna(data_describe[c]['top'])"
   ]
  },
  {
   "cell_type": "markdown",
   "metadata": {},
   "source": [
    "Теперь все элементы таблицы заполнены:"
   ]
  },
  {
   "cell_type": "code",
   "execution_count": 18,
   "metadata": {},
   "outputs": [
    {
     "data": {
      "text/html": [
       "<div>\n",
       "<style>\n",
       "    .dataframe thead tr:only-child th {\n",
       "        text-align: right;\n",
       "    }\n",
       "\n",
       "    .dataframe thead th {\n",
       "        text-align: left;\n",
       "    }\n",
       "\n",
       "    .dataframe tbody tr th {\n",
       "        vertical-align: top;\n",
       "    }\n",
       "</style>\n",
       "<table border=\"1\" class=\"dataframe\">\n",
       "  <thead>\n",
       "    <tr style=\"text-align: right;\">\n",
       "      <th></th>\n",
       "      <th>F120</th>\n",
       "    </tr>\n",
       "  </thead>\n",
       "  <tbody>\n",
       "    <tr>\n",
       "      <th>count</th>\n",
       "      <td>40000</td>\n",
       "    </tr>\n",
       "    <tr>\n",
       "      <th>unique</th>\n",
       "      <td>9</td>\n",
       "    </tr>\n",
       "    <tr>\n",
       "      <th>top</th>\n",
       "      <td>ВЫСШ</td>\n",
       "    </tr>\n",
       "    <tr>\n",
       "      <th>freq</th>\n",
       "      <td>14402</td>\n",
       "    </tr>\n",
       "  </tbody>\n",
       "</table>\n",
       "</div>"
      ],
      "text/plain": [
       "         F120\n",
       "count   40000\n",
       "unique      9\n",
       "top      ВЫСШ\n",
       "freq    14402"
      ]
     },
     "execution_count": 18,
     "metadata": {},
     "output_type": "execute_result"
    }
   ],
   "source": [
    "data.describe(include=[object])"
   ]
  },
  {
   "cell_type": "code",
   "execution_count": 19,
   "metadata": {},
   "outputs": [
    {
     "data": {
      "text/html": [
       "<div>\n",
       "<style>\n",
       "    .dataframe thead tr:only-child th {\n",
       "        text-align: right;\n",
       "    }\n",
       "\n",
       "    .dataframe thead th {\n",
       "        text-align: left;\n",
       "    }\n",
       "\n",
       "    .dataframe tbody tr th {\n",
       "        vertical-align: top;\n",
       "    }\n",
       "</style>\n",
       "<table border=\"1\" class=\"dataframe\">\n",
       "  <thead>\n",
       "    <tr style=\"text-align: right;\">\n",
       "      <th></th>\n",
       "      <th>NUM</th>\n",
       "      <th>F0</th>\n",
       "      <th>F1</th>\n",
       "      <th>F2</th>\n",
       "      <th>F3</th>\n",
       "      <th>F4</th>\n",
       "      <th>F5</th>\n",
       "      <th>F6</th>\n",
       "      <th>F7</th>\n",
       "      <th>F8</th>\n",
       "      <th>...</th>\n",
       "      <th>F119</th>\n",
       "      <th>F121</th>\n",
       "      <th>F122</th>\n",
       "      <th>F123</th>\n",
       "      <th>F124</th>\n",
       "      <th>F125</th>\n",
       "      <th>F126</th>\n",
       "      <th>F127</th>\n",
       "      <th>F128</th>\n",
       "      <th>F129</th>\n",
       "    </tr>\n",
       "  </thead>\n",
       "  <tbody>\n",
       "    <tr>\n",
       "      <th>count</th>\n",
       "      <td>40000.00000</td>\n",
       "      <td>40000.000000</td>\n",
       "      <td>40000.000000</td>\n",
       "      <td>40000.000000</td>\n",
       "      <td>4.000000e+04</td>\n",
       "      <td>4.000000e+04</td>\n",
       "      <td>40000.000000</td>\n",
       "      <td>40000.000000</td>\n",
       "      <td>40000.000000</td>\n",
       "      <td>40000.000000</td>\n",
       "      <td>...</td>\n",
       "      <td>40000.000000</td>\n",
       "      <td>40000.000000</td>\n",
       "      <td>40000.000000</td>\n",
       "      <td>40000.000000</td>\n",
       "      <td>40000.000000</td>\n",
       "      <td>40000.000000</td>\n",
       "      <td>40000.000000</td>\n",
       "      <td>40000.000000</td>\n",
       "      <td>40000.000000</td>\n",
       "      <td>40000.000000</td>\n",
       "    </tr>\n",
       "    <tr>\n",
       "      <th>mean</th>\n",
       "      <td>19999.50000</td>\n",
       "      <td>0.531442</td>\n",
       "      <td>4.341344</td>\n",
       "      <td>1.477633</td>\n",
       "      <td>1.942657e+06</td>\n",
       "      <td>8.991082e+04</td>\n",
       "      <td>2.465239</td>\n",
       "      <td>0.131690</td>\n",
       "      <td>0.601022</td>\n",
       "      <td>0.350602</td>\n",
       "      <td>...</td>\n",
       "      <td>3.797783</td>\n",
       "      <td>5.572943</td>\n",
       "      <td>0.155121</td>\n",
       "      <td>0.066054</td>\n",
       "      <td>0.021682</td>\n",
       "      <td>0.160692</td>\n",
       "      <td>0.336003</td>\n",
       "      <td>0.487501</td>\n",
       "      <td>0.046756</td>\n",
       "      <td>0.038569</td>\n",
       "    </tr>\n",
       "    <tr>\n",
       "      <th>std</th>\n",
       "      <td>11547.14972</td>\n",
       "      <td>1.416934</td>\n",
       "      <td>13.975376</td>\n",
       "      <td>3.259655</td>\n",
       "      <td>8.192308e+06</td>\n",
       "      <td>2.642161e+05</td>\n",
       "      <td>5.893108</td>\n",
       "      <td>0.576513</td>\n",
       "      <td>0.826670</td>\n",
       "      <td>1.001883</td>\n",
       "      <td>...</td>\n",
       "      <td>2.329974</td>\n",
       "      <td>2.552055</td>\n",
       "      <td>0.354993</td>\n",
       "      <td>0.245125</td>\n",
       "      <td>0.141167</td>\n",
       "      <td>0.358625</td>\n",
       "      <td>0.464378</td>\n",
       "      <td>0.491818</td>\n",
       "      <td>0.206372</td>\n",
       "      <td>0.187112</td>\n",
       "    </tr>\n",
       "    <tr>\n",
       "      <th>min</th>\n",
       "      <td>0.00000</td>\n",
       "      <td>0.000000</td>\n",
       "      <td>0.000000</td>\n",
       "      <td>0.000000</td>\n",
       "      <td>0.000000e+00</td>\n",
       "      <td>0.000000e+00</td>\n",
       "      <td>0.000000</td>\n",
       "      <td>0.000000</td>\n",
       "      <td>0.000000</td>\n",
       "      <td>0.000000</td>\n",
       "      <td>...</td>\n",
       "      <td>0.000000</td>\n",
       "      <td>0.000000</td>\n",
       "      <td>0.000000</td>\n",
       "      <td>0.000000</td>\n",
       "      <td>0.000000</td>\n",
       "      <td>0.000000</td>\n",
       "      <td>0.000000</td>\n",
       "      <td>0.000000</td>\n",
       "      <td>0.000000</td>\n",
       "      <td>0.000000</td>\n",
       "    </tr>\n",
       "    <tr>\n",
       "      <th>25%</th>\n",
       "      <td>9999.75000</td>\n",
       "      <td>0.000000</td>\n",
       "      <td>0.000000</td>\n",
       "      <td>0.000000</td>\n",
       "      <td>0.000000e+00</td>\n",
       "      <td>0.000000e+00</td>\n",
       "      <td>0.000000</td>\n",
       "      <td>0.000000</td>\n",
       "      <td>0.000000</td>\n",
       "      <td>0.000000</td>\n",
       "      <td>...</td>\n",
       "      <td>1.000000</td>\n",
       "      <td>5.000000</td>\n",
       "      <td>0.000000</td>\n",
       "      <td>0.000000</td>\n",
       "      <td>0.000000</td>\n",
       "      <td>0.000000</td>\n",
       "      <td>0.000000</td>\n",
       "      <td>0.000000</td>\n",
       "      <td>0.000000</td>\n",
       "      <td>0.000000</td>\n",
       "    </tr>\n",
       "    <tr>\n",
       "      <th>50%</th>\n",
       "      <td>19999.50000</td>\n",
       "      <td>0.000000</td>\n",
       "      <td>0.000000</td>\n",
       "      <td>0.000000</td>\n",
       "      <td>0.000000e+00</td>\n",
       "      <td>0.000000e+00</td>\n",
       "      <td>0.000000</td>\n",
       "      <td>0.000000</td>\n",
       "      <td>0.000000</td>\n",
       "      <td>0.000000</td>\n",
       "      <td>...</td>\n",
       "      <td>5.000000</td>\n",
       "      <td>5.000000</td>\n",
       "      <td>0.000000</td>\n",
       "      <td>0.000000</td>\n",
       "      <td>0.000000</td>\n",
       "      <td>0.000000</td>\n",
       "      <td>0.000000</td>\n",
       "      <td>0.240601</td>\n",
       "      <td>0.000000</td>\n",
       "      <td>0.000000</td>\n",
       "    </tr>\n",
       "    <tr>\n",
       "      <th>75%</th>\n",
       "      <td>29999.25000</td>\n",
       "      <td>0.000000</td>\n",
       "      <td>3.000000</td>\n",
       "      <td>1.000000</td>\n",
       "      <td>6.687750e+05</td>\n",
       "      <td>0.000000e+00</td>\n",
       "      <td>2.000000</td>\n",
       "      <td>0.000000</td>\n",
       "      <td>1.000000</td>\n",
       "      <td>0.000000</td>\n",
       "      <td>...</td>\n",
       "      <td>6.000000</td>\n",
       "      <td>8.000000</td>\n",
       "      <td>0.000000</td>\n",
       "      <td>0.000000</td>\n",
       "      <td>0.000000</td>\n",
       "      <td>0.000000</td>\n",
       "      <td>1.000000</td>\n",
       "      <td>1.000000</td>\n",
       "      <td>0.000000</td>\n",
       "      <td>0.000000</td>\n",
       "    </tr>\n",
       "    <tr>\n",
       "      <th>max</th>\n",
       "      <td>39999.00000</td>\n",
       "      <td>15.000000</td>\n",
       "      <td>218.000000</td>\n",
       "      <td>31.000000</td>\n",
       "      <td>1.148520e+08</td>\n",
       "      <td>2.681200e+06</td>\n",
       "      <td>61.000000</td>\n",
       "      <td>10.000000</td>\n",
       "      <td>8.000000</td>\n",
       "      <td>14.000000</td>\n",
       "      <td>...</td>\n",
       "      <td>6.000000</td>\n",
       "      <td>8.000000</td>\n",
       "      <td>1.000000</td>\n",
       "      <td>1.000000</td>\n",
       "      <td>1.000000</td>\n",
       "      <td>1.000000</td>\n",
       "      <td>1.000000</td>\n",
       "      <td>1.000000</td>\n",
       "      <td>1.000000</td>\n",
       "      <td>1.000000</td>\n",
       "    </tr>\n",
       "  </tbody>\n",
       "</table>\n",
       "<p>8 rows × 130 columns</p>\n",
       "</div>"
      ],
      "text/plain": [
       "               NUM            F0            F1            F2            F3  \\\n",
       "count  40000.00000  40000.000000  40000.000000  40000.000000  4.000000e+04   \n",
       "mean   19999.50000      0.531442      4.341344      1.477633  1.942657e+06   \n",
       "std    11547.14972      1.416934     13.975376      3.259655  8.192308e+06   \n",
       "min        0.00000      0.000000      0.000000      0.000000  0.000000e+00   \n",
       "25%     9999.75000      0.000000      0.000000      0.000000  0.000000e+00   \n",
       "50%    19999.50000      0.000000      0.000000      0.000000  0.000000e+00   \n",
       "75%    29999.25000      0.000000      3.000000      1.000000  6.687750e+05   \n",
       "max    39999.00000     15.000000    218.000000     31.000000  1.148520e+08   \n",
       "\n",
       "                 F4            F5            F6            F7            F8  \\\n",
       "count  4.000000e+04  40000.000000  40000.000000  40000.000000  40000.000000   \n",
       "mean   8.991082e+04      2.465239      0.131690      0.601022      0.350602   \n",
       "std    2.642161e+05      5.893108      0.576513      0.826670      1.001883   \n",
       "min    0.000000e+00      0.000000      0.000000      0.000000      0.000000   \n",
       "25%    0.000000e+00      0.000000      0.000000      0.000000      0.000000   \n",
       "50%    0.000000e+00      0.000000      0.000000      0.000000      0.000000   \n",
       "75%    0.000000e+00      2.000000      0.000000      1.000000      0.000000   \n",
       "max    2.681200e+06     61.000000     10.000000      8.000000     14.000000   \n",
       "\n",
       "           ...               F119          F121          F122          F123  \\\n",
       "count      ...       40000.000000  40000.000000  40000.000000  40000.000000   \n",
       "mean       ...           3.797783      5.572943      0.155121      0.066054   \n",
       "std        ...           2.329974      2.552055      0.354993      0.245125   \n",
       "min        ...           0.000000      0.000000      0.000000      0.000000   \n",
       "25%        ...           1.000000      5.000000      0.000000      0.000000   \n",
       "50%        ...           5.000000      5.000000      0.000000      0.000000   \n",
       "75%        ...           6.000000      8.000000      0.000000      0.000000   \n",
       "max        ...           6.000000      8.000000      1.000000      1.000000   \n",
       "\n",
       "               F124          F125          F126          F127          F128  \\\n",
       "count  40000.000000  40000.000000  40000.000000  40000.000000  40000.000000   \n",
       "mean       0.021682      0.160692      0.336003      0.487501      0.046756   \n",
       "std        0.141167      0.358625      0.464378      0.491818      0.206372   \n",
       "min        0.000000      0.000000      0.000000      0.000000      0.000000   \n",
       "25%        0.000000      0.000000      0.000000      0.000000      0.000000   \n",
       "50%        0.000000      0.000000      0.000000      0.240601      0.000000   \n",
       "75%        0.000000      0.000000      1.000000      1.000000      0.000000   \n",
       "max        1.000000      1.000000      1.000000      1.000000      1.000000   \n",
       "\n",
       "               F129  \n",
       "count  40000.000000  \n",
       "mean       0.038569  \n",
       "std        0.187112  \n",
       "min        0.000000  \n",
       "25%        0.000000  \n",
       "50%        0.000000  \n",
       "75%        0.000000  \n",
       "max        1.000000  \n",
       "\n",
       "[8 rows x 130 columns]"
      ]
     },
     "execution_count": 19,
     "metadata": {},
     "output_type": "execute_result"
    }
   ],
   "source": [
    "data.describe()"
   ]
  },
  {
   "cell_type": "markdown",
   "metadata": {},
   "source": [
    "## Векторизация "
   ]
  },
  {
   "cell_type": "markdown",
   "metadata": {},
   "source": [
    "Библиотека scikit-learn не умеет напрямую обрабатывать категориальные признаки. Поэтому прежде чем подавать данные на вход алгоритмов машинного обучения преобразуем категориальные признаки в количественные.\n",
    "\n",
    "Категориальные признаки, принимающие два значения (т.е. бинарные признаки) и принимающие большее количество значений будем обрабатывать по-разному.\n",
    "\n",
    "Вначале выделим бинарные и небинарные признаки:"
   ]
  },
  {
   "cell_type": "code",
   "execution_count": 20,
   "metadata": {},
   "outputs": [
    {
     "name": "stdout",
     "output_type": "stream",
     "text": [
      "[] ['F120']\n"
     ]
    }
   ],
   "source": [
    "binary_columns    = [c for c in categorical_columns if data_describe[c]['unique'] == 2]\n",
    "nonbinary_columns = [c for c in categorical_columns if data_describe[c]['unique'] > 2]\n",
    "print (binary_columns, nonbinary_columns)"
   ]
  },
  {
   "cell_type": "markdown",
   "metadata": {},
   "source": [
    "### Небинарные признаки"
   ]
  },
  {
   "cell_type": "markdown",
   "metadata": {},
   "source": [
    "Бинарных признаков у нас нет. Переходим к небинарным. \n",
    "\n",
    "К небинарными признакам применим метод векторизации, который заключается в следующем.\n",
    "\n",
    "Признак j, принимающий s значений, заменим на s признаков, принимащих значения 0 или 1, в зависимости от того, чему равно значение исходного признака j.\n",
    "\n",
    "Например, признак A4 принимает 3 различных значения 'u', 'y', 'l'\n",
    "    \n",
    "Заменим признак A4 тремя признаками: A4_u, A4_y, A4_l.\n",
    "\n",
    "- Если признак A4 принимает значение u, то признак A4_u равен 1, A4_y равен 0, A4_l равен 0.\n",
    "- Если признак A4 принимает значение y, то признак A4_y равен 0, A4_y равен 1, A4_l равен 0.\n",
    "- Если признак A4 принимает значение l, то признак A4_l равен 0, A4_y равен 0, A4_l равен 1.\n",
    "\n",
    "Такую векторизацию осуществляет в pandas метод get_dummies:"
   ]
  },
  {
   "cell_type": "code",
   "execution_count": 21,
   "metadata": {},
   "outputs": [
    {
     "name": "stdout",
     "output_type": "stream",
     "text": [
      "Index(['F120_ВЫСШ', 'F120_НЕОК ВЫСШ', 'F120_НЕТ', 'F120_ПРОФИЛЬ', 'F120_СПЕЦ',\n",
      "       'F120_СРЕДН', 'F120_СРЕПЕНЬ', 'F120_СТЕПЕНЬ', 'F120_ШКОЛ'],\n",
      "      dtype='object')\n"
     ]
    }
   ],
   "source": [
    "data_nonbinary = pd.get_dummies(data[nonbinary_columns])\n",
    "print (data_nonbinary.columns)"
   ]
  },
  {
   "cell_type": "markdown",
   "metadata": {},
   "source": [
    "## Нормализация количественных признаков "
   ]
  },
  {
   "cell_type": "markdown",
   "metadata": {},
   "source": [
    "Многие алгоритмы машинного обучения чувствительны к масштабированию данных. К таким алгоритмам, например, относится метод ближайших соседей, машина опорных векторов и др.\n",
    "\n",
    "В этом случае количественные признаки полезно нормализовать. Это можно делать разными способами. Например, каждый количественный признак можно привести к нулевому среднему и единичному среднеквадратичному отклонению. Но в данной задаче мы это делать не будем"
   ]
  },
  {
   "cell_type": "code",
   "execution_count": 22,
   "metadata": {},
   "outputs": [
    {
     "data": {
      "text/html": [
       "<div>\n",
       "<style>\n",
       "    .dataframe thead tr:only-child th {\n",
       "        text-align: right;\n",
       "    }\n",
       "\n",
       "    .dataframe thead th {\n",
       "        text-align: left;\n",
       "    }\n",
       "\n",
       "    .dataframe tbody tr th {\n",
       "        vertical-align: top;\n",
       "    }\n",
       "</style>\n",
       "<table border=\"1\" class=\"dataframe\">\n",
       "  <thead>\n",
       "    <tr style=\"text-align: right;\">\n",
       "      <th></th>\n",
       "      <th>NUM</th>\n",
       "      <th>F0</th>\n",
       "      <th>F1</th>\n",
       "      <th>F2</th>\n",
       "      <th>F3</th>\n",
       "      <th>F4</th>\n",
       "      <th>F5</th>\n",
       "      <th>F6</th>\n",
       "      <th>F7</th>\n",
       "      <th>F8</th>\n",
       "      <th>...</th>\n",
       "      <th>F119</th>\n",
       "      <th>F121</th>\n",
       "      <th>F122</th>\n",
       "      <th>F123</th>\n",
       "      <th>F124</th>\n",
       "      <th>F125</th>\n",
       "      <th>F126</th>\n",
       "      <th>F127</th>\n",
       "      <th>F128</th>\n",
       "      <th>F129</th>\n",
       "    </tr>\n",
       "  </thead>\n",
       "  <tbody>\n",
       "    <tr>\n",
       "      <th>count</th>\n",
       "      <td>40000.00000</td>\n",
       "      <td>40000.000000</td>\n",
       "      <td>40000.000000</td>\n",
       "      <td>40000.000000</td>\n",
       "      <td>4.000000e+04</td>\n",
       "      <td>4.000000e+04</td>\n",
       "      <td>40000.000000</td>\n",
       "      <td>40000.000000</td>\n",
       "      <td>40000.000000</td>\n",
       "      <td>40000.000000</td>\n",
       "      <td>...</td>\n",
       "      <td>40000.000000</td>\n",
       "      <td>40000.000000</td>\n",
       "      <td>40000.000000</td>\n",
       "      <td>40000.000000</td>\n",
       "      <td>40000.000000</td>\n",
       "      <td>40000.000000</td>\n",
       "      <td>40000.000000</td>\n",
       "      <td>40000.000000</td>\n",
       "      <td>40000.000000</td>\n",
       "      <td>40000.000000</td>\n",
       "    </tr>\n",
       "    <tr>\n",
       "      <th>mean</th>\n",
       "      <td>19999.50000</td>\n",
       "      <td>0.531442</td>\n",
       "      <td>4.341344</td>\n",
       "      <td>1.477633</td>\n",
       "      <td>1.942657e+06</td>\n",
       "      <td>8.991082e+04</td>\n",
       "      <td>2.465239</td>\n",
       "      <td>0.131690</td>\n",
       "      <td>0.601022</td>\n",
       "      <td>0.350602</td>\n",
       "      <td>...</td>\n",
       "      <td>3.797783</td>\n",
       "      <td>5.572943</td>\n",
       "      <td>0.155121</td>\n",
       "      <td>0.066054</td>\n",
       "      <td>0.021682</td>\n",
       "      <td>0.160692</td>\n",
       "      <td>0.336003</td>\n",
       "      <td>0.487501</td>\n",
       "      <td>0.046756</td>\n",
       "      <td>0.038569</td>\n",
       "    </tr>\n",
       "    <tr>\n",
       "      <th>std</th>\n",
       "      <td>11547.14972</td>\n",
       "      <td>1.416934</td>\n",
       "      <td>13.975376</td>\n",
       "      <td>3.259655</td>\n",
       "      <td>8.192308e+06</td>\n",
       "      <td>2.642161e+05</td>\n",
       "      <td>5.893108</td>\n",
       "      <td>0.576513</td>\n",
       "      <td>0.826670</td>\n",
       "      <td>1.001883</td>\n",
       "      <td>...</td>\n",
       "      <td>2.329974</td>\n",
       "      <td>2.552055</td>\n",
       "      <td>0.354993</td>\n",
       "      <td>0.245125</td>\n",
       "      <td>0.141167</td>\n",
       "      <td>0.358625</td>\n",
       "      <td>0.464378</td>\n",
       "      <td>0.491818</td>\n",
       "      <td>0.206372</td>\n",
       "      <td>0.187112</td>\n",
       "    </tr>\n",
       "    <tr>\n",
       "      <th>min</th>\n",
       "      <td>0.00000</td>\n",
       "      <td>0.000000</td>\n",
       "      <td>0.000000</td>\n",
       "      <td>0.000000</td>\n",
       "      <td>0.000000e+00</td>\n",
       "      <td>0.000000e+00</td>\n",
       "      <td>0.000000</td>\n",
       "      <td>0.000000</td>\n",
       "      <td>0.000000</td>\n",
       "      <td>0.000000</td>\n",
       "      <td>...</td>\n",
       "      <td>0.000000</td>\n",
       "      <td>0.000000</td>\n",
       "      <td>0.000000</td>\n",
       "      <td>0.000000</td>\n",
       "      <td>0.000000</td>\n",
       "      <td>0.000000</td>\n",
       "      <td>0.000000</td>\n",
       "      <td>0.000000</td>\n",
       "      <td>0.000000</td>\n",
       "      <td>0.000000</td>\n",
       "    </tr>\n",
       "    <tr>\n",
       "      <th>25%</th>\n",
       "      <td>9999.75000</td>\n",
       "      <td>0.000000</td>\n",
       "      <td>0.000000</td>\n",
       "      <td>0.000000</td>\n",
       "      <td>0.000000e+00</td>\n",
       "      <td>0.000000e+00</td>\n",
       "      <td>0.000000</td>\n",
       "      <td>0.000000</td>\n",
       "      <td>0.000000</td>\n",
       "      <td>0.000000</td>\n",
       "      <td>...</td>\n",
       "      <td>1.000000</td>\n",
       "      <td>5.000000</td>\n",
       "      <td>0.000000</td>\n",
       "      <td>0.000000</td>\n",
       "      <td>0.000000</td>\n",
       "      <td>0.000000</td>\n",
       "      <td>0.000000</td>\n",
       "      <td>0.000000</td>\n",
       "      <td>0.000000</td>\n",
       "      <td>0.000000</td>\n",
       "    </tr>\n",
       "    <tr>\n",
       "      <th>50%</th>\n",
       "      <td>19999.50000</td>\n",
       "      <td>0.000000</td>\n",
       "      <td>0.000000</td>\n",
       "      <td>0.000000</td>\n",
       "      <td>0.000000e+00</td>\n",
       "      <td>0.000000e+00</td>\n",
       "      <td>0.000000</td>\n",
       "      <td>0.000000</td>\n",
       "      <td>0.000000</td>\n",
       "      <td>0.000000</td>\n",
       "      <td>...</td>\n",
       "      <td>5.000000</td>\n",
       "      <td>5.000000</td>\n",
       "      <td>0.000000</td>\n",
       "      <td>0.000000</td>\n",
       "      <td>0.000000</td>\n",
       "      <td>0.000000</td>\n",
       "      <td>0.000000</td>\n",
       "      <td>0.240601</td>\n",
       "      <td>0.000000</td>\n",
       "      <td>0.000000</td>\n",
       "    </tr>\n",
       "    <tr>\n",
       "      <th>75%</th>\n",
       "      <td>29999.25000</td>\n",
       "      <td>0.000000</td>\n",
       "      <td>3.000000</td>\n",
       "      <td>1.000000</td>\n",
       "      <td>6.687750e+05</td>\n",
       "      <td>0.000000e+00</td>\n",
       "      <td>2.000000</td>\n",
       "      <td>0.000000</td>\n",
       "      <td>1.000000</td>\n",
       "      <td>0.000000</td>\n",
       "      <td>...</td>\n",
       "      <td>6.000000</td>\n",
       "      <td>8.000000</td>\n",
       "      <td>0.000000</td>\n",
       "      <td>0.000000</td>\n",
       "      <td>0.000000</td>\n",
       "      <td>0.000000</td>\n",
       "      <td>1.000000</td>\n",
       "      <td>1.000000</td>\n",
       "      <td>0.000000</td>\n",
       "      <td>0.000000</td>\n",
       "    </tr>\n",
       "    <tr>\n",
       "      <th>max</th>\n",
       "      <td>39999.00000</td>\n",
       "      <td>15.000000</td>\n",
       "      <td>218.000000</td>\n",
       "      <td>31.000000</td>\n",
       "      <td>1.148520e+08</td>\n",
       "      <td>2.681200e+06</td>\n",
       "      <td>61.000000</td>\n",
       "      <td>10.000000</td>\n",
       "      <td>8.000000</td>\n",
       "      <td>14.000000</td>\n",
       "      <td>...</td>\n",
       "      <td>6.000000</td>\n",
       "      <td>8.000000</td>\n",
       "      <td>1.000000</td>\n",
       "      <td>1.000000</td>\n",
       "      <td>1.000000</td>\n",
       "      <td>1.000000</td>\n",
       "      <td>1.000000</td>\n",
       "      <td>1.000000</td>\n",
       "      <td>1.000000</td>\n",
       "      <td>1.000000</td>\n",
       "    </tr>\n",
       "  </tbody>\n",
       "</table>\n",
       "<p>8 rows × 130 columns</p>\n",
       "</div>"
      ],
      "text/plain": [
       "               NUM            F0            F1            F2            F3  \\\n",
       "count  40000.00000  40000.000000  40000.000000  40000.000000  4.000000e+04   \n",
       "mean   19999.50000      0.531442      4.341344      1.477633  1.942657e+06   \n",
       "std    11547.14972      1.416934     13.975376      3.259655  8.192308e+06   \n",
       "min        0.00000      0.000000      0.000000      0.000000  0.000000e+00   \n",
       "25%     9999.75000      0.000000      0.000000      0.000000  0.000000e+00   \n",
       "50%    19999.50000      0.000000      0.000000      0.000000  0.000000e+00   \n",
       "75%    29999.25000      0.000000      3.000000      1.000000  6.687750e+05   \n",
       "max    39999.00000     15.000000    218.000000     31.000000  1.148520e+08   \n",
       "\n",
       "                 F4            F5            F6            F7            F8  \\\n",
       "count  4.000000e+04  40000.000000  40000.000000  40000.000000  40000.000000   \n",
       "mean   8.991082e+04      2.465239      0.131690      0.601022      0.350602   \n",
       "std    2.642161e+05      5.893108      0.576513      0.826670      1.001883   \n",
       "min    0.000000e+00      0.000000      0.000000      0.000000      0.000000   \n",
       "25%    0.000000e+00      0.000000      0.000000      0.000000      0.000000   \n",
       "50%    0.000000e+00      0.000000      0.000000      0.000000      0.000000   \n",
       "75%    0.000000e+00      2.000000      0.000000      1.000000      0.000000   \n",
       "max    2.681200e+06     61.000000     10.000000      8.000000     14.000000   \n",
       "\n",
       "           ...               F119          F121          F122          F123  \\\n",
       "count      ...       40000.000000  40000.000000  40000.000000  40000.000000   \n",
       "mean       ...           3.797783      5.572943      0.155121      0.066054   \n",
       "std        ...           2.329974      2.552055      0.354993      0.245125   \n",
       "min        ...           0.000000      0.000000      0.000000      0.000000   \n",
       "25%        ...           1.000000      5.000000      0.000000      0.000000   \n",
       "50%        ...           5.000000      5.000000      0.000000      0.000000   \n",
       "75%        ...           6.000000      8.000000      0.000000      0.000000   \n",
       "max        ...           6.000000      8.000000      1.000000      1.000000   \n",
       "\n",
       "               F124          F125          F126          F127          F128  \\\n",
       "count  40000.000000  40000.000000  40000.000000  40000.000000  40000.000000   \n",
       "mean       0.021682      0.160692      0.336003      0.487501      0.046756   \n",
       "std        0.141167      0.358625      0.464378      0.491818      0.206372   \n",
       "min        0.000000      0.000000      0.000000      0.000000      0.000000   \n",
       "25%        0.000000      0.000000      0.000000      0.000000      0.000000   \n",
       "50%        0.000000      0.000000      0.000000      0.240601      0.000000   \n",
       "75%        0.000000      0.000000      1.000000      1.000000      0.000000   \n",
       "max        1.000000      1.000000      1.000000      1.000000      1.000000   \n",
       "\n",
       "               F129  \n",
       "count  40000.000000  \n",
       "mean       0.038569  \n",
       "std        0.187112  \n",
       "min        0.000000  \n",
       "25%        0.000000  \n",
       "50%        0.000000  \n",
       "75%        0.000000  \n",
       "max        1.000000  \n",
       "\n",
       "[8 rows x 130 columns]"
      ]
     },
     "execution_count": 22,
     "metadata": {},
     "output_type": "execute_result"
    }
   ],
   "source": [
    "data_numerical = data[numerical_columns]\n",
    "# data_numerical = (data_numerical - data_numerical.mean()) / data_numerical.std()\n",
    "data_numerical.describe()"
   ]
  },
  {
   "cell_type": "markdown",
   "metadata": {},
   "source": [
    "## Соединяем все в одну таблицу"
   ]
  },
  {
   "cell_type": "code",
   "execution_count": 23,
   "metadata": {},
   "outputs": [
    {
     "name": "stdout",
     "output_type": "stream",
     "text": [
      "(40000, 139)\n",
      "Index(['NUM', 'F0', 'F1', 'F2', 'F3', 'F4', 'F5', 'F6', 'F7', 'F8',\n",
      "       ...\n",
      "       'F129', 'F120_ВЫСШ', 'F120_НЕОК ВЫСШ', 'F120_НЕТ', 'F120_ПРОФИЛЬ',\n",
      "       'F120_СПЕЦ', 'F120_СРЕДН', 'F120_СРЕПЕНЬ', 'F120_СТЕПЕНЬ', 'F120_ШКОЛ'],\n",
      "      dtype='object', length=139)\n"
     ]
    }
   ],
   "source": [
    "data = pd.concat((data_numerical, data[binary_columns], data_nonbinary), axis=1)\n",
    "data = pd.DataFrame(data, dtype=float)\n",
    "print (data.shape)\n",
    "print (data.columns)"
   ]
  },
  {
   "cell_type": "markdown",
   "metadata": {},
   "source": [
    "Для удобства отдельно рассмотрим столбцы, соответствующие входным признакам (это будет матрица X)"
   ]
  },
  {
   "cell_type": "code",
   "execution_count": 24,
   "metadata": {},
   "outputs": [
    {
     "name": "stdout",
     "output_type": "stream",
     "text": [
      "Index(['NUM', 'F0', 'F1', 'F2', 'F3', 'F4', 'F5', 'F6', 'F7', 'F8',\n",
      "       ...\n",
      "       'F129', 'F120_ВЫСШ', 'F120_НЕОК ВЫСШ', 'F120_НЕТ', 'F120_ПРОФИЛЬ',\n",
      "       'F120_СПЕЦ', 'F120_СРЕДН', 'F120_СРЕПЕНЬ', 'F120_СТЕПЕНЬ', 'F120_ШКОЛ'],\n",
      "      dtype='object', length=139)\n"
     ]
    }
   ],
   "source": [
    "X = data\n",
    "feature_names = X.columns\n",
    "print (feature_names)"
   ]
  },
  {
   "cell_type": "code",
   "execution_count": 25,
   "metadata": {},
   "outputs": [
    {
     "name": "stdout",
     "output_type": "stream",
     "text": [
      "(40000, 139)\n",
      "Index(['NUM', 'F0', 'F1', 'F2', 'F3', 'F4', 'F5', 'F6', 'F7', 'F8',\n",
      "       ...\n",
      "       'F129', 'F120_ВЫСШ', 'F120_НЕОК ВЫСШ', 'F120_НЕТ', 'F120_ПРОФИЛЬ',\n",
      "       'F120_СПЕЦ', 'F120_СРЕДН', 'F120_СРЕПЕНЬ', 'F120_СТЕПЕНЬ', 'F120_ШКОЛ'],\n",
      "      dtype='object', length=139)\n",
      "(30000,)\n"
     ]
    }
   ],
   "source": [
    "print (X.shape)\n",
    "print (X.columns)\n",
    "print (y.shape)\n",
    "N, d = X.shape"
   ]
  },
  {
   "cell_type": "markdown",
   "metadata": {},
   "source": [
    "Теперь у нас 139 входных признака"
   ]
  },
  {
   "cell_type": "markdown",
   "metadata": {},
   "source": [
    "## Обучающая и тестовая выборки"
   ]
  },
  {
   "cell_type": "markdown",
   "metadata": {},
   "source": [
    "Почти все готово, чтобы запустить алгоритмы машинного обучения."
   ]
  },
  {
   "cell_type": "markdown",
   "metadata": {},
   "source": [
    "Разобъем нашу большу таблицу на две. Тренировочную и тестовую:"
   ]
  },
  {
   "cell_type": "code",
   "execution_count": 26,
   "metadata": {
    "collapsed": true
   },
   "outputs": [],
   "source": [
    "X_train = data[:30000]\n",
    "X_test = data[30000:]"
   ]
  },
  {
   "cell_type": "markdown",
   "metadata": {},
   "source": [
    "Обучаться, или, как говорят, строить модель, мы будем на обучающей выборке, а проверять качество построенной модели – на тестовой.\n",
    "\n",
    "В рассматриваемой задаче мы сами разобьем имеющиеся у нас данные на обучающую и тестовую выборки.\n",
    "\n",
    "Разбиение на тестовую и обучающую выборку должно быть случайным. Обычно используют разбиения в пропорции 50%:50%, 60%:40%, 75%:25% и т.д.\n",
    "\n",
    "Мы воспользуемся функцией train_test_split из модуля sklearn.cross_validation. и разобьем данные на обучающую/тестовую выборки в отношении 70%:30%"
   ]
  },
  {
   "cell_type": "code",
   "execution_count": 27,
   "metadata": {},
   "outputs": [
    {
     "name": "stdout",
     "output_type": "stream",
     "text": [
      "21000 9000\n"
     ]
    }
   ],
   "source": [
    "from sklearn.model_selection import train_test_split\n",
    "train, test, y_train, y_test = train_test_split(X_train, y, test_size = 0.3, random_state = 11)\n",
    "\n",
    "N_train, _ = train.shape \n",
    "N_test,  _ = test.shape \n",
    "print (N_train, N_test)"
   ]
  },
  {
   "cell_type": "markdown",
   "metadata": {},
   "source": [
    "train, y_train – это обучающая выборка, test, y_test – тестовая."
   ]
  },
  {
   "cell_type": "markdown",
   "metadata": {},
   "source": [
    "## Алгоритм машинного обучения - Random Forest – случайный лес"
   ]
  },
  {
   "cell_type": "markdown",
   "metadata": {},
   "source": [
    "Воспользуемся одним из самых популярных алгоритмов машинного обучения – случайный лес – Random Forest.\n",
    "\n",
    "Алгоритм строит ансамбль случайных деревьев, каждое из которых обучается на выборке, полученной из исходной с помощью процедуры изъятия с возвращением."
   ]
  },
  {
   "cell_type": "markdown",
   "metadata": {},
   "source": [
    "Основные методы классов, реализующих алгоритмы машинного обучения\n",
    "Все алгоритмы выполнены в виде классов, обладающих по крайней мере следующими методами:\n",
    "- fit(X, y) - обучение (тренировка) модели на обучающей выборке X, y\n",
    "- predict(X) - предсказание на данных X"
   ]
  },
  {
   "cell_type": "code",
   "execution_count": 29,
   "metadata": {},
   "outputs": [
    {
     "data": {
      "text/plain": [
       "RandomForestClassifier(bootstrap=True, class_weight=None, criterion='gini',\n",
       "            max_depth=None, max_features='auto', max_leaf_nodes=None,\n",
       "            min_impurity_decrease=0.0, min_impurity_split=None,\n",
       "            min_samples_leaf=1, min_samples_split=2,\n",
       "            min_weight_fraction_leaf=0.0, n_estimators=100, n_jobs=1,\n",
       "            oob_score=False, random_state=11, verbose=0, warm_start=False)"
      ]
     },
     "execution_count": 29,
     "metadata": {},
     "output_type": "execute_result"
    }
   ],
   "source": [
    "from sklearn import ensemble\n",
    "rf = ensemble.RandomForestClassifier(n_estimators=100, random_state=11)\n",
    "rf.fit(train, y_train)"
   ]
  },
  {
   "cell_type": "markdown",
   "metadata": {},
   "source": [
    "После того, как модель обучена, мы можем предсказывать значение целевого признака по входным признакам для новых объектов. Делается это с помощью метода predict.\n",
    "\n",
    "Нас интересует качество построенной модели, поэтому будем предсказывать значение выходного признака на тех данных, для которых оно известно: на обучающей и (что более важно) тестовой выборках:"
   ]
  },
  {
   "cell_type": "code",
   "execution_count": 31,
   "metadata": {},
   "outputs": [
    {
     "name": "stdout",
     "output_type": "stream",
     "text": [
      "0.0 0.0615555555556\n"
     ]
    }
   ],
   "source": [
    "err_train = np.mean(y_train != rf.predict(train))\n",
    "err_test  = np.mean(y_test  != rf.predict(test))\n",
    "print (err_train, err_test)"
   ]
  },
  {
   "cell_type": "markdown",
   "metadata": {},
   "source": [
    "err_train и err_test – это ошибки на обучающей и тестовой выборках. Как мы видим, они составили 0.0% и 6%."
   ]
  },
  {
   "cell_type": "markdown",
   "metadata": {},
   "source": [
    "Мы получили хороший результат. Решим теперь задачу целиком и выгрузим данные в CSV файл"
   ]
  },
  {
   "cell_type": "code",
   "execution_count": 33,
   "metadata": {},
   "outputs": [
    {
     "data": {
      "text/plain": [
       "RandomForestClassifier(bootstrap=True, class_weight=None, criterion='gini',\n",
       "            max_depth=None, max_features='auto', max_leaf_nodes=None,\n",
       "            min_impurity_decrease=0.0, min_impurity_split=None,\n",
       "            min_samples_leaf=1, min_samples_split=2,\n",
       "            min_weight_fraction_leaf=0.0, n_estimators=100, n_jobs=1,\n",
       "            oob_score=False, random_state=11, verbose=0, warm_start=False)"
      ]
     },
     "execution_count": 33,
     "metadata": {},
     "output_type": "execute_result"
    }
   ],
   "source": [
    "rf.fit(X_train,y)"
   ]
  },
  {
   "cell_type": "code",
   "execution_count": 34,
   "metadata": {},
   "outputs": [
    {
     "name": "stdout",
     "output_type": "stream",
     "text": [
      "[ 0.  0.  0. ...,  0.  0.  1.]\n"
     ]
    }
   ],
   "source": [
    "a = rf.predict(X_test)\n",
    "pd.DataFrame(a).to_csv('prediction.csv')\n",
    "print(a)"
   ]
  },
  {
   "cell_type": "markdown",
   "metadata": {},
   "source": [
    "### Отбор признаков (Feature Selection) с помощью алгоритма случайного леса "
   ]
  },
  {
   "cell_type": "markdown",
   "metadata": {},
   "source": [
    "Одной из важных процедур предобработки данных в алгоритмах их анализа является отбор значимых признаков. Его цель заключается в том, чтобы отобрать наиболее существенные признаки для решения рассматриваемой задачи классификации.\n",
    "\n",
    "Отбор признаков необходим для следующих целей:\n",
    "\n",
    "- Для лучшего понимания задачи. Человеку легче разобраться с небольшим количеством признаков, чем с огромным их количеством.\n",
    "- Для ускорения алгоритмов.\n",
    "- Для улучшения качества предсказания. Устранение шумовых признаков может уменьшить ошибку алгоритма на тестовой выборке, т.е. улучшить качество предсказания.\n",
    "\n",
    "Отбор значимых признаков осуществляется как «вручную» — на основе анализа содержательной постановки задачи, так и «автоматически» — с помощью универсальных алгоритмов.\n",
    "\n",
    "Отбор признаков «вручную» (как и «ручной» синтез новых признаков) — важный этап в анализе данных. К сожалению, нам не известны содержательные значения используемых в рассматриваемой задаче признаков, поэтому ограничимся только их автоматическим отбором. Для этого существует много различных алгоритмов. Рассмотрим только один из них – с помощью случайного леса.\n",
    "\n",
    "Все, что нужно сделать, – это после вызова метода predict для случайного леса прочитать поле feature_importances_. Для каждого признака это поле содержит число, выражающее «важность» этого признака. Чем больше число, тем значимее признак. Сумма всех чисел равна 1.\n",
    "\n",
    "Упорядочим значимости и выведем их значения:"
   ]
  },
  {
   "cell_type": "code",
   "execution_count": 35,
   "metadata": {},
   "outputs": [
    {
     "name": "stdout",
     "output_type": "stream",
     "text": [
      "Feature importances:\n",
      " 1. feature 'F47  ' (0.0330)\n",
      " 2. feature 'F46  ' (0.0275)\n",
      " 3. feature 'F54  ' (0.0271)\n",
      " 4. feature 'F120_НЕТ' (0.0261)\n",
      " 5. feature 'F36  ' (0.0252)\n",
      " 6. feature 'F59  ' (0.0247)\n",
      " 7. feature 'F30  ' (0.0242)\n",
      " 8. feature 'F52  ' (0.0233)\n",
      " 9. feature 'F108 ' (0.0213)\n",
      "10. feature 'F109 ' (0.0201)\n",
      "11. feature 'F38  ' (0.0196)\n",
      "12. feature 'F58  ' (0.0192)\n",
      "13. feature 'F3   ' (0.0170)\n",
      "14. feature 'F34  ' (0.0165)\n",
      "15. feature 'F55  ' (0.0159)\n",
      "16. feature 'F32  ' (0.0157)\n",
      "17. feature 'F39  ' (0.0151)\n",
      "18. feature 'F126 ' (0.0150)\n",
      "19. feature 'F112 ' (0.0149)\n",
      "20. feature 'F31  ' (0.0141)\n",
      "21. feature 'F29  ' (0.0139)\n",
      "22. feature 'F20  ' (0.0134)\n",
      "23. feature 'F65  ' (0.0133)\n",
      "24. feature 'F63  ' (0.0130)\n",
      "25. feature 'F2   ' (0.0121)\n",
      "26. feature 'F51  ' (0.0121)\n",
      "27. feature 'F53  ' (0.0120)\n",
      "28. feature 'F118 ' (0.0119)\n",
      "29. feature 'F61  ' (0.0116)\n",
      "30. feature 'F68  ' (0.0111)\n",
      "31. feature 'F19  ' (0.0110)\n",
      "32. feature 'NUM  ' (0.0109)\n",
      "33. feature 'F96  ' (0.0109)\n",
      "34. feature 'F12  ' (0.0109)\n",
      "35. feature 'F26  ' (0.0105)\n",
      "36. feature 'F22  ' (0.0104)\n",
      "37. feature 'F119 ' (0.0102)\n",
      "38. feature 'F66  ' (0.0094)\n",
      "39. feature 'F83  ' (0.0089)\n",
      "40. feature 'F77  ' (0.0086)\n",
      "41. feature 'F75  ' (0.0084)\n",
      "42. feature 'F85  ' (0.0084)\n",
      "43. feature 'F121 ' (0.0084)\n",
      "44. feature 'F21  ' (0.0081)\n",
      "45. feature 'F25  ' (0.0080)\n",
      "46. feature 'F56  ' (0.0079)\n",
      "47. feature 'F24  ' (0.0079)\n",
      "48. feature 'F45  ' (0.0077)\n",
      "49. feature 'F15  ' (0.0074)\n",
      "50. feature 'F18  ' (0.0073)\n",
      "51. feature 'F14  ' (0.0073)\n",
      "52. feature 'F1   ' (0.0069)\n",
      "53. feature 'F111 ' (0.0069)\n",
      "54. feature 'F67  ' (0.0068)\n",
      "55. feature 'F43  ' (0.0066)\n",
      "56. feature 'F37  ' (0.0063)\n",
      "57. feature 'F113 ' (0.0062)\n",
      "58. feature 'F82  ' (0.0060)\n",
      "59. feature 'F62  ' (0.0059)\n",
      "60. feature 'F101 ' (0.0059)\n",
      "61. feature 'F13  ' (0.0058)\n",
      "62. feature 'F64  ' (0.0055)\n",
      "63. feature 'F105 ' (0.0054)\n",
      "64. feature 'F27  ' (0.0053)\n",
      "65. feature 'F127 ' (0.0053)\n",
      "66. feature 'F44  ' (0.0053)\n",
      "67. feature 'F50  ' (0.0051)\n",
      "68. feature 'F120_ВЫСШ' (0.0049)\n",
      "69. feature 'F60  ' (0.0048)\n",
      "70. feature 'F5   ' (0.0048)\n",
      "71. feature 'F42  ' (0.0046)\n",
      "72. feature 'F49  ' (0.0046)\n",
      "73. feature 'F87  ' (0.0046)\n",
      "74. feature 'F125 ' (0.0045)\n",
      "75. feature 'F72  ' (0.0045)\n",
      "76. feature 'F93  ' (0.0044)\n",
      "77. feature 'F116 ' (0.0043)\n",
      "78. feature 'F115 ' (0.0042)\n",
      "79. feature 'F48  ' (0.0042)\n",
      "80. feature 'F28  ' (0.0042)\n",
      "81. feature 'F17  ' (0.0041)\n",
      "82. feature 'F4   ' (0.0041)\n",
      "83. feature 'F57  ' (0.0040)\n",
      "84. feature 'F33  ' (0.0037)\n",
      "85. feature 'F86  ' (0.0036)\n",
      "86. feature 'F9   ' (0.0034)\n",
      "87. feature 'F120_СТЕПЕНЬ' (0.0034)\n",
      "88. feature 'F104 ' (0.0034)\n",
      "89. feature 'F78  ' (0.0033)\n",
      "90. feature 'F122 ' (0.0032)\n",
      "91. feature 'F8   ' (0.0032)\n",
      "92. feature 'F71  ' (0.0031)\n",
      "93. feature 'F16  ' (0.0029)\n",
      "94. feature 'F81  ' (0.0029)\n",
      "95. feature 'F102 ' (0.0029)\n",
      "96. feature 'F73  ' (0.0029)\n",
      "97. feature 'F99  ' (0.0026)\n",
      "98. feature 'F76  ' (0.0025)\n",
      "99. feature 'F10  ' (0.0025)\n",
      "100. feature 'F120_СПЕЦ' (0.0024)\n",
      "101. feature 'F0   ' (0.0024)\n",
      "102. feature 'F90  ' (0.0023)\n",
      "103. feature 'F117 ' (0.0022)\n",
      "104. feature 'F41  ' (0.0022)\n",
      "105. feature 'F69  ' (0.0022)\n",
      "106. feature 'F110 ' (0.0021)\n",
      "107. feature 'F23  ' (0.0020)\n",
      "108. feature 'F92  ' (0.0020)\n",
      "109. feature 'F7   ' (0.0019)\n",
      "110. feature 'F95  ' (0.0019)\n",
      "111. feature 'F88  ' (0.0018)\n",
      "112. feature 'F79  ' (0.0018)\n",
      "113. feature 'F129 ' (0.0018)\n",
      "114. feature 'F80  ' (0.0017)\n",
      "115. feature 'F123 ' (0.0017)\n",
      "116. feature 'F98  ' (0.0017)\n",
      "117. feature 'F114 ' (0.0016)\n",
      "118. feature 'F11  ' (0.0016)\n",
      "119. feature 'F128 ' (0.0016)\n",
      "120. feature 'F89  ' (0.0015)\n",
      "121. feature 'F120_НЕОК ВЫСШ' (0.0015)\n",
      "122. feature 'F97  ' (0.0014)\n",
      "123. feature 'F84  ' (0.0013)\n",
      "124. feature 'F74  ' (0.0013)\n",
      "125. feature 'F103 ' (0.0013)\n",
      "126. feature 'F106 ' (0.0012)\n",
      "127. feature 'F35  ' (0.0012)\n",
      "128. feature 'F94  ' (0.0012)\n",
      "129. feature 'F6   ' (0.0011)\n",
      "130. feature 'F107 ' (0.0011)\n",
      "131. feature 'F70  ' (0.0010)\n",
      "132. feature 'F124 ' (0.0010)\n",
      "133. feature 'F100 ' (0.0006)\n",
      "134. feature 'F91  ' (0.0004)\n",
      "135. feature 'F40  ' (0.0002)\n",
      "136. feature 'F120_ШКОЛ' (0.0001)\n",
      "137. feature 'F120_ПРОФИЛЬ' (0.0001)\n",
      "138. feature 'F120_СРЕДН' (0.0000)\n",
      "139. feature 'F120_СРЕПЕНЬ' (0.0000)\n"
     ]
    }
   ],
   "source": [
    "importances = rf.feature_importances_\n",
    "indices = np.argsort(importances)[::-1]\n",
    "\n",
    "print(\"Feature importances:\")\n",
    "for f, idx in enumerate(indices):\n",
    "    print(\"{:2d}. feature '{:5s}' ({:.4f})\".format(f + 1, feature_names[idx], importances[idx]))"
   ]
  },
  {
   "cell_type": "markdown",
   "metadata": {},
   "source": [
    "Построим столбцовую диаграмму, графически представляющую значимость первых 20 признаков:"
   ]
  },
  {
   "cell_type": "code",
   "execution_count": 36,
   "metadata": {
    "collapsed": true
   },
   "outputs": [],
   "source": [
    "d_first = 20\n",
    "plt.figure(figsize=(8, 8))\n",
    "plt.title(\"Feature importances\")\n",
    "plt.bar(range(d_first), importances[indices[:d_first]], align='center')\n",
    "plt.xticks(range(d_first), np.array(feature_names)[indices[:d_first]], rotation=90)\n",
    "plt.xlim([-1, d_first]);"
   ]
  },
  {
   "cell_type": "code",
   "execution_count": 37,
   "metadata": {},
   "outputs": [
    {
     "data": {
      "image/png": "[encoded data removed]",
      "text/plain": [
       "<matplotlib.figure.Figure at 0xa6cdaf0>"
      ]
     },
     "metadata": {},
     "output_type": "display_data"
    }
   ],
   "source": [
    "plt.show()"
   ]
  },
  {
   "cell_type": "code",
   "execution_count": 38,
   "metadata": {},
   "outputs": [
    {
     "name": "stdout",
     "output_type": "stream",
     "text": [
      "Index(['F47', 'F46', 'F54', 'F120_НЕТ', 'F36', 'F59', 'F30', 'F52'], dtype='object')\n"
     ]
    }
   ],
   "source": [
    "best_features = indices[:8]\n",
    "best_features_names = feature_names[best_features]\n",
    "print(best_features_names)"
   ]
  },
  {
   "cell_type": "markdown",
   "metadata": {},
   "source": [
    "Мы видим, что основную роль играют признаки F47, F46, F54, F120_НЕТ, F36, F59, F30, F52"
   ]
  }
 ],
 "metadata": {
  "kernelspec": {
   "display_name": "Python 3",
   "language": "python",
   "name": "python3"
  },
  "language_info": {
   "codemirror_mode": {
    "name": "ipython",
    "version": 3
   },
   "file_extension": ".py",
   "mimetype": "text/x-python",
   "name": "python",
   "nbconvert_exporter": "python",
   "pygments_lexer": "ipython3",
   "version": "3.6.2"
  }
 },
 "nbformat": 4,
 "nbformat_minor": 2
}
